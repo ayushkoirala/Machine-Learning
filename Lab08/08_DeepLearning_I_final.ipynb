{
 "cells": [
  {
   "cell_type": "markdown",
   "metadata": {
    "id": "TofC30XvVeyi"
   },
   "source": [
    "# Lab 08: Deep Learning Part I: Fully Connected Neural Networks\n",
    "\n",
    "In class, we have developed the mathematics and programming techniques for binary classification using fully connected neural networks\n",
    "having one or more hidden layers.\n",
    "\n",
    "Today, we'll expand on that to consider (small) image classification using again fully connected neural networks with a multinomial\n",
    "(softmax) output layer."
   ]
  },
  {
   "cell_type": "code",
   "execution_count": 1,
   "metadata": {
    "colab": {
     "base_uri": "https://localhost:8080/"
    },
    "id": "3kEVOeNmVeyo",
    "outputId": "e459500b-33e1-47d3-e1ca-cdbe1d7918d0"
   },
   "outputs": [
    {
     "name": "stdout",
     "output_type": "stream",
     "text": [
      "Looking in indexes: https://pypi.org/simple, https://us-python.pkg.dev/colab-wheels/public/simple/\n",
      "Requirement already satisfied: ipywidgets in /usr/local/lib/python3.7/dist-packages (7.7.1)\n",
      "Requirement already satisfied: traitlets>=4.3.1 in /usr/local/lib/python3.7/dist-packages (from ipywidgets) (5.1.1)\n",
      "Requirement already satisfied: widgetsnbextension~=3.6.0 in /usr/local/lib/python3.7/dist-packages (from ipywidgets) (3.6.1)\n",
      "Requirement already satisfied: ipython-genutils~=0.2.0 in /usr/local/lib/python3.7/dist-packages (from ipywidgets) (0.2.0)\n",
      "Requirement already satisfied: ipython>=4.0.0 in /usr/local/lib/python3.7/dist-packages (from ipywidgets) (7.9.0)\n",
      "Requirement already satisfied: ipykernel>=4.5.1 in /usr/local/lib/python3.7/dist-packages (from ipywidgets) (5.3.4)\n",
      "Requirement already satisfied: jupyterlab-widgets>=1.0.0 in /usr/local/lib/python3.7/dist-packages (from ipywidgets) (3.0.3)\n",
      "Requirement already satisfied: jupyter-client in /usr/local/lib/python3.7/dist-packages (from ipykernel>=4.5.1->ipywidgets) (6.1.12)\n",
      "Requirement already satisfied: tornado>=4.2 in /usr/local/lib/python3.7/dist-packages (from ipykernel>=4.5.1->ipywidgets) (5.1.1)\n",
      "Requirement already satisfied: backcall in /usr/local/lib/python3.7/dist-packages (from ipython>=4.0.0->ipywidgets) (0.2.0)\n",
      "Requirement already satisfied: pexpect in /usr/local/lib/python3.7/dist-packages (from ipython>=4.0.0->ipywidgets) (4.8.0)\n",
      "Requirement already satisfied: jedi>=0.10 in /usr/local/lib/python3.7/dist-packages (from ipython>=4.0.0->ipywidgets) (0.18.1)\n",
      "Requirement already satisfied: decorator in /usr/local/lib/python3.7/dist-packages (from ipython>=4.0.0->ipywidgets) (4.4.2)\n",
      "Requirement already satisfied: prompt-toolkit<2.1.0,>=2.0.0 in /usr/local/lib/python3.7/dist-packages (from ipython>=4.0.0->ipywidgets) (2.0.10)\n",
      "Requirement already satisfied: pygments in /usr/local/lib/python3.7/dist-packages (from ipython>=4.0.0->ipywidgets) (2.6.1)\n",
      "Requirement already satisfied: pickleshare in /usr/local/lib/python3.7/dist-packages (from ipython>=4.0.0->ipywidgets) (0.7.5)\n",
      "Requirement already satisfied: setuptools>=18.5 in /usr/local/lib/python3.7/dist-packages (from ipython>=4.0.0->ipywidgets) (57.4.0)\n",
      "Requirement already satisfied: parso<0.9.0,>=0.8.0 in /usr/local/lib/python3.7/dist-packages (from jedi>=0.10->ipython>=4.0.0->ipywidgets) (0.8.3)\n",
      "Requirement already satisfied: six>=1.9.0 in /usr/local/lib/python3.7/dist-packages (from prompt-toolkit<2.1.0,>=2.0.0->ipython>=4.0.0->ipywidgets) (1.15.0)\n",
      "Requirement already satisfied: wcwidth in /usr/local/lib/python3.7/dist-packages (from prompt-toolkit<2.1.0,>=2.0.0->ipython>=4.0.0->ipywidgets) (0.2.5)\n",
      "Requirement already satisfied: notebook>=4.4.1 in /usr/local/lib/python3.7/dist-packages (from widgetsnbextension~=3.6.0->ipywidgets) (5.5.0)\n",
      "Requirement already satisfied: nbformat in /usr/local/lib/python3.7/dist-packages (from notebook>=4.4.1->widgetsnbextension~=3.6.0->ipywidgets) (5.7.0)\n",
      "Requirement already satisfied: jupyter-core>=4.4.0 in /usr/local/lib/python3.7/dist-packages (from notebook>=4.4.1->widgetsnbextension~=3.6.0->ipywidgets) (4.11.2)\n",
      "Requirement already satisfied: jinja2 in /usr/local/lib/python3.7/dist-packages (from notebook>=4.4.1->widgetsnbextension~=3.6.0->ipywidgets) (2.11.3)\n",
      "Requirement already satisfied: Send2Trash in /usr/local/lib/python3.7/dist-packages (from notebook>=4.4.1->widgetsnbextension~=3.6.0->ipywidgets) (1.8.0)\n",
      "Requirement already satisfied: terminado>=0.8.1 in /usr/local/lib/python3.7/dist-packages (from notebook>=4.4.1->widgetsnbextension~=3.6.0->ipywidgets) (0.13.3)\n",
      "Requirement already satisfied: nbconvert in /usr/local/lib/python3.7/dist-packages (from notebook>=4.4.1->widgetsnbextension~=3.6.0->ipywidgets) (5.6.1)\n",
      "Requirement already satisfied: pyzmq>=17 in /usr/local/lib/python3.7/dist-packages (from notebook>=4.4.1->widgetsnbextension~=3.6.0->ipywidgets) (23.2.1)\n",
      "Requirement already satisfied: python-dateutil>=2.1 in /usr/local/lib/python3.7/dist-packages (from jupyter-client->ipykernel>=4.5.1->ipywidgets) (2.8.2)\n",
      "Requirement already satisfied: ptyprocess in /usr/local/lib/python3.7/dist-packages (from terminado>=0.8.1->notebook>=4.4.1->widgetsnbextension~=3.6.0->ipywidgets) (0.7.0)\n",
      "Requirement already satisfied: MarkupSafe>=0.23 in /usr/local/lib/python3.7/dist-packages (from jinja2->notebook>=4.4.1->widgetsnbextension~=3.6.0->ipywidgets) (2.0.1)\n",
      "Requirement already satisfied: entrypoints>=0.2.2 in /usr/local/lib/python3.7/dist-packages (from nbconvert->notebook>=4.4.1->widgetsnbextension~=3.6.0->ipywidgets) (0.4)\n",
      "Requirement already satisfied: bleach in /usr/local/lib/python3.7/dist-packages (from nbconvert->notebook>=4.4.1->widgetsnbextension~=3.6.0->ipywidgets) (5.0.1)\n",
      "Requirement already satisfied: mistune<2,>=0.8.1 in /usr/local/lib/python3.7/dist-packages (from nbconvert->notebook>=4.4.1->widgetsnbextension~=3.6.0->ipywidgets) (0.8.4)\n",
      "Requirement already satisfied: testpath in /usr/local/lib/python3.7/dist-packages (from nbconvert->notebook>=4.4.1->widgetsnbextension~=3.6.0->ipywidgets) (0.6.0)\n",
      "Requirement already satisfied: defusedxml in /usr/local/lib/python3.7/dist-packages (from nbconvert->notebook>=4.4.1->widgetsnbextension~=3.6.0->ipywidgets) (0.7.1)\n",
      "Requirement already satisfied: pandocfilters>=1.4.1 in /usr/local/lib/python3.7/dist-packages (from nbconvert->notebook>=4.4.1->widgetsnbextension~=3.6.0->ipywidgets) (1.5.0)\n",
      "Requirement already satisfied: jsonschema>=2.6 in /usr/local/lib/python3.7/dist-packages (from nbformat->notebook>=4.4.1->widgetsnbextension~=3.6.0->ipywidgets) (4.3.3)\n",
      "Requirement already satisfied: fastjsonschema in /usr/local/lib/python3.7/dist-packages (from nbformat->notebook>=4.4.1->widgetsnbextension~=3.6.0->ipywidgets) (2.16.2)\n",
      "Requirement already satisfied: importlib-metadata>=3.6 in /usr/local/lib/python3.7/dist-packages (from nbformat->notebook>=4.4.1->widgetsnbextension~=3.6.0->ipywidgets) (4.13.0)\n",
      "Requirement already satisfied: zipp>=0.5 in /usr/local/lib/python3.7/dist-packages (from importlib-metadata>=3.6->nbformat->notebook>=4.4.1->widgetsnbextension~=3.6.0->ipywidgets) (3.9.0)\n",
      "Requirement already satisfied: typing-extensions>=3.6.4 in /usr/local/lib/python3.7/dist-packages (from importlib-metadata>=3.6->nbformat->notebook>=4.4.1->widgetsnbextension~=3.6.0->ipywidgets) (4.1.1)\n",
      "Requirement already satisfied: attrs>=17.4.0 in /usr/local/lib/python3.7/dist-packages (from jsonschema>=2.6->nbformat->notebook>=4.4.1->widgetsnbextension~=3.6.0->ipywidgets) (22.1.0)\n",
      "Requirement already satisfied: pyrsistent!=0.17.0,!=0.17.1,!=0.17.2,>=0.14.0 in /usr/local/lib/python3.7/dist-packages (from jsonschema>=2.6->nbformat->notebook>=4.4.1->widgetsnbextension~=3.6.0->ipywidgets) (0.18.1)\n",
      "Requirement already satisfied: importlib-resources>=1.4.0 in /usr/local/lib/python3.7/dist-packages (from jsonschema>=2.6->nbformat->notebook>=4.4.1->widgetsnbextension~=3.6.0->ipywidgets) (5.10.0)\n",
      "Requirement already satisfied: webencodings in /usr/local/lib/python3.7/dist-packages (from bleach->nbconvert->notebook>=4.4.1->widgetsnbextension~=3.6.0->ipywidgets) (0.5.1)\n",
      "Enabling notebook extension jupyter-js-widgets/extension...\n",
      "Paths used for configuration of notebook: \n",
      "    \t/root/.jupyter/nbconfig/notebook.json\n",
      "Paths used for configuration of notebook: \n",
      "    \t\n",
      "      - Validating: \u001b[32mOK\u001b[0m\n",
      "Paths used for configuration of notebook: \n",
      "    \t/root/.jupyter/nbconfig/notebook.json\n"
     ]
    }
   ],
   "source": [
    "!pip install ipywidgets\n",
    "!jupyter nbextension enable --py widgetsnbextension"
   ]
  },
  {
   "cell_type": "markdown",
   "metadata": {
    "id": "FMnsVJfYVeyq"
   },
   "source": [
    "## What is Deep learning doing?\n",
    "\n",
    "Let's try to classify the deep learning in this <link>[link](https://playground.tensorflow.org/\n",
    ")</link>. The page can observe your network visualization when learning it.\n",
    "\n",
    "\n",
    "<img src=\":Lab08-1.PNG\" title=\":Lab08-1\" style=\"width: 800px;\" />\n",
    "\n",
    "Select The initial setup of data (at the left) as:\n",
    "- Ratio of training to test data: 90%\n",
    "- Noise: 5\n",
    "- Batch size: 4\n",
    "\n",
    "Press run and observe the result."
   ]
  },
  {
   "cell_type": "markdown",
   "metadata": {
    "id": "xKw65UjtVeyq",
    "nbgrader": {
     "grade": false,
     "grade_id": "cell-5a2309e6ce662316",
     "locked": true,
     "schema_version": 3,
     "solution": false,
     "task": false
    }
   },
   "source": [
    "## Exercise 1 (10 points)\n",
    "\n",
    "Select the spiral shape (the 4th shape). Select The initial setup of data (at the left) as:\n",
    "- Ratio of training to test data: 90%\n",
    "- Noise: 35\n",
    "- Batch size: 4\n",
    "\n",
    "Try to make the best separating result. Capture your **FULL** screen and input below"
   ]
  },
  {
   "cell_type": "markdown",
   "metadata": {
    "id": "jGGEWjb5Veys"
   },
   "source": [
    "Capture scrren here!"
   ]
  },
  {
   "cell_type": "markdown",
   "metadata": {
    "id": "UuzlYgitVeyt"
   },
   "source": [
    "\n",
    "<img src=\"deep-learning.PNG\" title=\"deep-learning\" style=\"width: 800px;\" />"
   ]
  },
  {
   "cell_type": "markdown",
   "metadata": {
    "id": "3Eq74E0XVeyu"
   },
   "source": [
    "**Expect result**:\n",
    "\n",
    "<img src=\"Lab08-2.PNG\" title=\"Lab08-2\" style=\"width: 500px;\" />\n"
   ]
  },
  {
   "cell_type": "markdown",
   "metadata": {
    "id": "vXh--G9IVeyu",
    "nbgrader": {
     "grade": false,
     "grade_id": "cell-9759bd629126b979",
     "locked": true,
     "schema_version": 3,
     "solution": false,
     "task": false
    }
   },
   "source": [
    "#### Special coding\n",
    "\n",
    "You can make jupyter in GUI (it also can export to HTML website)."
   ]
  },
  {
   "cell_type": "code",
   "execution_count": 2,
   "metadata": {
    "colab": {
     "base_uri": "https://localhost:8080/",
     "height": 958,
     "referenced_widgets": [
      "8bda0be818fb492abb4ce14b4f568b1b",
      "34f8499e53994ac3ba1967d607cb82aa",
      "02e32fb4cde4478183a1f941e2f0ee30",
      "40b9bac881a74ac1b0079c963d87f7e1",
      "5b543f7d36b14f5783788be724925826",
      "a3688d07a15749af8c8952561a13f562",
      "ea2a6f49c58e49329bf73c2ee6306887",
      "28e6a8fabc754ffdabf782c2b9fc2ce7",
      "f7c3a3ef733146abaf11ddabe77adaba",
      "c7c9d0c226b647f78e42d0167a79a9bd",
      "8a2514217a0b4f12a915d639320cbd87",
      "46986caa41c2446ab353d9dcfe63a2dd",
      "4bb409b95697488589f455666fc29032",
      "500541a8b84649678f43eb1069816525",
      "ec459a9d5761425da3538cd4039a0c63",
      "792bb0e6379d45768b5fdc593f903202",
      "d41704256a434c588421b10d107c623b",
      "6e844eef271f4f859a21a0205c10b937",
      "7a17701860d44ecdb4e1005fe190970a",
      "24c2f8313d9547218726e2d05b436be9",
      "516c7073b90849b88b837ff9bfa0aca4",
      "e9d21be99b8f4d5b99d974f27f8b1d45",
      "26b6b2cc2db64d6b9d3c98fc96e1db4f",
      "38855ede684348d4b0151d95b8761e8a",
      "a01f590ffc8b4129973d397105d4e44d",
      "2875f80bac784e0496ec7b56228fb96b",
      "7508d05268c64dbcab635e18696db67d",
      "d7741332927f409bac79f18603d659c0",
      "58dc309a2e414c08b26a6466be9f6f13",
      "a5be6ee60f4a42678e04cabcf387d31e",
      "cba30d9d5da646df8665d77fd1788766",
      "1082d0a2ba87468ea5fe699b8f30c3a3",
      "234f550730204545ab25f022a8885507",
      "c6c648bd63084ecab895f24fca2126f6",
      "4de55b4131ed42999b415777c2679ad3",
      "02bf281e550342d9b1abc79164664b89",
      "2a47a8a2aa2a472c932667fb1780da8b",
      "ff856a993a5a44c0867e2dffa63f723e",
      "28f100e4cf8c480280dd500ea1847efb",
      "60060a2bd7e8490b9547b0b5648840f9",
      "516599d4ec6d4874892addac54a406ed",
      "55347565747047ac9ba1630e74fa0712",
      "26218a20d79d4ae999057d01d7cc7594",
      "808b4a430c3148c69e877439f8a69d4a",
      "02b65a4235e54638af5324d521876c1a",
      "3ef1ad3152ab4517b2ea779a8c6d6272",
      "1c00c508655741e594df54b4cf3f5a08",
      "ca9ef3b29437448491e9ce7a9a791cda",
      "bb718588ed7045f8959c59f6b2fa2be9",
      "23bf74cd891c4fad9478324b96f55c92",
      "384287ce9eea48fb95fd11079a8e81af",
      "2668bdbe044a47958ac5593d71ea19f3",
      "1d7b40f949fd4a79854f2cbb616ce068",
      "34043646fdbf424ea1b212718f96777c",
      "bfe67c47207a4e26992f7759ef816775",
      "c8542dc7afe64a63b9fcd5ecd8b140d0",
      "15ed4daecefd42558b5461e047982a7f",
      "f120b2b443e047909b06d357b15ddad3"
     ]
    },
    "id": "onVBCfKiVeyv",
    "outputId": "4bddf4b3-367b-4c06-ebc2-4b3cfe960952"
   },
   "outputs": [
    {
     "data": {
      "application/vnd.jupyter.widget-view+json": {
       "model_id": "8bda0be818fb492abb4ce14b4f568b1b",
       "version_major": 2,
       "version_minor": 0
      },
      "text/plain": [
       "VBox(children=(Label(value='Q1) What is your learning rate?'), RadioButtons(description='\\t', index=5, options…"
      ]
     },
     "metadata": {},
     "output_type": "display_data"
    }
   ],
   "source": [
    "from IPython.display import display, Markdown, clear_output\n",
    "# widget packages\n",
    "import ipywidgets as widgets\n",
    "\n",
    "# defining some widgets\n",
    "lblQ1 = widgets.Label(\n",
    "        value=\"Q1) What is your learning rate?\")\n",
    "rdoQ1 = widgets.RadioButtons(\n",
    "        options=['0.00001', '0.0001', '0.001', '0.003', '0.01', '0.03', '0.1', '0.3', '1', '3', '10',],\n",
    "        value='0.03',\n",
    "        description='\\t',\n",
    "        disabled=False)\n",
    "\n",
    "lblQ2 = widgets.Label(\n",
    "        value=\"Q2) What is your activation function in last layer?\")\n",
    "rdoQ2 = widgets.RadioButtons(\n",
    "        options=['ReLu', 'Tanh', 'Sigmoid', 'Linear',],\n",
    "        value='Tanh',\n",
    "        description='\\t',\n",
    "        disabled=False)\n",
    "\n",
    "lblQ3 = widgets.Label(\n",
    "        value=\"Q3) What is problem type?\")\n",
    "rdoQ3 = widgets.RadioButtons(\n",
    "        options=['Classification', 'Regression'],\n",
    "        value='Classification',\n",
    "        description='\\t',\n",
    "        disabled=False)\n",
    "\n",
    "lblQ4 = widgets.Label(value=\"Q4) Which input do you use?\")\n",
    "chkQ4_1 = widgets.Checkbox(\n",
    "           description='$X_1$',\n",
    "           value=True)\n",
    "chkQ4_2 = widgets.Checkbox(\n",
    "           description='$X_2$',\n",
    "           value=True)\n",
    "chkQ4_3 = widgets.Checkbox(\n",
    "           description='$X_1^2$',)\n",
    "chkQ4_4 = widgets.Checkbox(\n",
    "           description='$X_1X_2$',)\n",
    "chkQ4_5 = widgets.Checkbox(\n",
    "           description='$X_2^2$',)\n",
    "chkQ4_6 = widgets.Checkbox(\n",
    "           description='sin$(X_1)$',)\n",
    "chkQ4_7 = widgets.Checkbox(\n",
    "           description='sin$(X_2)$',)\n",
    "chkQ4 = widgets.VBox([chkQ4_1, chkQ4_2, chkQ4_3, chkQ4_4, chkQ4_5, chkQ4_6, chkQ4_7])\n",
    "\n",
    "lblQ5 = widgets.Label(value=\"Q5) How many hidden layers do you use?\")\n",
    "txtQ5 = widgets.IntText(\n",
    "       value=0,\n",
    "       description='hidden layers', )\n",
    "\n",
    "lblQ6 = widgets.Label(value=\"Q6) Explain your nodes for each layer\")\n",
    "txtQ6 = widgets.Textarea(\n",
    "       value='',\n",
    "       description='Explain here', )\n",
    "\n",
    "box = widgets.VBox([lblQ1, rdoQ1, lblQ2, rdoQ2, lblQ3, rdoQ3, lblQ4, chkQ4, lblQ5, txtQ5, lblQ6, txtQ6,])\n",
    "\n",
    "box"
   ]
  },
  {
   "cell_type": "code",
   "execution_count": 3,
   "metadata": {
    "colab": {
     "base_uri": "https://localhost:8080/"
    },
    "id": "e8E4pyq4Veyx",
    "outputId": "d19e46cf-5f74-4f96-cf57-db3fdfcf68e6"
   },
   "outputs": [
    {
     "name": "stdout",
     "output_type": "stream",
     "text": [
      "Use input features:  X1, X2,\n",
      "Problem type: Classification\n",
      "The last activation function: Tanh\n",
      "Learning rate: 0.03\n",
      "Use 0 hidden layers. Each layer contains \n"
     ]
    }
   ],
   "source": [
    "q4str = \"\"\n",
    "if chkQ4_1.value:\n",
    "    q4str += \" X1,\"\n",
    "if chkQ4_2.value:\n",
    "    q4str += \" X2,\"\n",
    "if chkQ4_3.value:\n",
    "    q4str += \" X1^2,\"\n",
    "if chkQ4_4.value:\n",
    "    q4str += \" X1X2,\"\n",
    "if chkQ4_5.value:\n",
    "    q4str += \" X2^2,\"\n",
    "if chkQ4_6.value:\n",
    "    q4str += \" sin(X1),\"\n",
    "if chkQ4_7.value:\n",
    "    q4str += \" sin(X2),\"\n",
    "print(\"Use input features:\", q4str)\n",
    "print(\"Problem type:\", rdoQ3.value)\n",
    "print(\"The last activation function:\", rdoQ2.value)\n",
    "print(\"Learning rate:\", rdoQ1.value)\n",
    "print(\"Use\", txtQ5.value, \"hidden layers. Each layer contains\", txtQ6.value)"
   ]
  },
  {
   "cell_type": "markdown",
   "metadata": {
    "id": "V7grIuxzVeyy"
   },
   "source": [
    "## MNIST Data\n",
    "\n",
    "An image is a 2D array of pixels. Pixels can be scalar intensities (for a grayscale / black and white image) or a vector indicating a\n",
    "point in a color space such as RGB or HSV.\n",
    "\n",
    "Today we'll consider 8x8 grayscale images of digits from the famous \"MNIST\" dataset, which was considered a benchmark for machine learning algorithms\n",
    "up to the early 2000s, before the advent of large-scale image classification datasets.\n",
    "\n",
    "This dataset in SciKit-Learn has 10 classes, with 180 samples per class in most cases, for a total of 1797 samples.\n",
    "\n",
    "Let's load the dataset and check the y output."
   ]
  },
  {
   "cell_type": "code",
   "execution_count": 4,
   "metadata": {
    "colab": {
     "base_uri": "https://localhost:8080/"
    },
    "id": "z8ohE4s4Veyy",
    "outputId": "77beaa2a-72e1-4e1f-df36-c5220c7193bf"
   },
   "outputs": [
    {
     "name": "stdout",
     "output_type": "stream",
     "text": [
      "4\n"
     ]
    }
   ],
   "source": [
    "import numpy as np\n",
    "from sklearn.datasets import load_digits\n",
    "import matplotlib.pyplot as plt\n",
    "\n",
    "# Load data\n",
    "\n",
    "data = load_digits()\n",
    "\n",
    "y_indices = data.target\n",
    "print(y_indices[100])"
   ]
  },
  {
   "cell_type": "markdown",
   "metadata": {
    "id": "x3qkGbivVeyz"
   },
   "source": [
    "## One hot encoding\n",
    "\n",
    "As you can see, the y output is index value. To use the value for classify in deep learning, you need to convert it to one hot. \n",
    "\n",
    "One hot encoding is a process by which categorical variables are converted into a form that could be provided to ML algorithms to do a better job in prediction.\n",
    "\n",
    "In this time, you need to convert the index value to be\n",
    "\n",
    "$$0 \\rightarrow [1, 0,0,0,0,0,0,0,0,0]$$\n",
    "$$1  \\rightarrow  [0, 1,0,0,0,0,0,0,0,0]$$\n",
    "$$2  \\rightarrow  [0, 0,1,0,0,0,0,0,0,0]$$\n",
    "$$3  \\rightarrow  [0, 0,0,1,0,0,0,0,0,0]$$\n",
    "$$4  \\rightarrow  [0, 0,0,0,1,0,0,0,0,0]$$\n",
    "$$5  \\rightarrow  [0, 0,0,0,0,1,0,0,0,0]$$\n",
    "$$6  \\rightarrow  [0, 0,0,0,0,0,1,0,0,0]$$\n",
    "$$7  \\rightarrow  [0, 0,0,0,0,0,0,1,0,0]$$\n",
    "$$8  \\rightarrow  [0, 0,0,0,0,0,0,0,1,0]$$\n",
    "$$9  \\rightarrow  [0, 0,0,0,0,0,0,0,0,1]$$"
   ]
  },
  {
   "cell_type": "code",
   "execution_count": 5,
   "metadata": {
    "colab": {
     "base_uri": "https://localhost:8080/"
    },
    "id": "3xeiJe0UVeyz",
    "outputId": "f0cbb53d-8c97-49e5-ef18-c54e226a0d31"
   },
   "outputs": [
    {
     "name": "stdout",
     "output_type": "stream",
     "text": [
      "[0. 0. 0. 0. 1. 0. 0. 0. 0. 0.]\n"
     ]
    }
   ],
   "source": [
    "def convert_to_one_hot(y):\n",
    "    y_vect = np.zeros((len(y), 10))\n",
    "    for i in range(len(y)):\n",
    "        y_vect[i, int(y[i])] = 1\n",
    "    return y_vect\n",
    "\n",
    "# Convert target indices to one-hot representation\n",
    "y = convert_to_one_hot(y_indices)\n",
    "print(y[100])"
   ]
  },
  {
   "cell_type": "markdown",
   "metadata": {
    "id": "ylJq9-HXVey0"
   },
   "source": [
    "Let's see the X input shape."
   ]
  },
  {
   "cell_type": "code",
   "execution_count": 6,
   "metadata": {
    "colab": {
     "base_uri": "https://localhost:8080/"
    },
    "id": "3qDMgtozVey0",
    "outputId": "80322871-0678-4f98-dfbb-d2cd4c47ae26"
   },
   "outputs": [
    {
     "name": "stdout",
     "output_type": "stream",
     "text": [
      "(1797, 64)\n"
     ]
    }
   ],
   "source": [
    "X = np.matrix(data.data)\n",
    "print(X.shape)"
   ]
  },
  {
   "cell_type": "markdown",
   "metadata": {
    "id": "ijALeTe8Vey0"
   },
   "source": [
    "You can see that the row number is the index of mnist data, and the column number is the mnist data of 64 pixels which is ready for using it as the fully connect network. To show the image, you need to reshape the 64 pixels to be $8\\times8$."
   ]
  },
  {
   "cell_type": "code",
   "execution_count": 7,
   "metadata": {
    "colab": {
     "base_uri": "https://localhost:8080/",
     "height": 298
    },
    "id": "m2TcoARPVey0",
    "outputId": "52593a89-f2fe-4eb7-a538-fa1ad78fd1a0"
   },
   "outputs": [
    {
     "data": {
      "text/plain": [
       "Text(0.5, 1.0, 'Example MNIST sample (category 0)')"
      ]
     },
     "execution_count": 7,
     "metadata": {},
     "output_type": "execute_result"
    },
    {
     "data": {
      "image/png": "[encoded data removed]",
      "text/plain": [
       "<Figure size 432x288 with 1 Axes>"
      ]
     },
     "metadata": {
      "needs_background": "light"
     },
     "output_type": "display_data"
    }
   ],
   "source": [
    "data_size = X.shape[0]\n",
    "x_area = X.shape[1]\n",
    "\n",
    "# Plot an example\n",
    "plt.imshow(np.reshape(X[0,:],(8,8)), 'gray')\n",
    "plt.title('Example MNIST sample (category %d)' % y_indices[0])"
   ]
  },
  {
   "cell_type": "markdown",
   "metadata": {
    "id": "a_g_ZZLrVey1"
   },
   "source": [
    "##  Reshaping arrays\n",
    "\n",
    "Actually, normally when you load an image to use in your fully-connect neural network, you need to reshape the image arrays into vector of shape $(length\\times height \\times depth, 1)$ as example below.\n",
    "\n",
    "<img src=\"image2vector_kiank.png\" title=\"image2vector_kiank\" style=\"width: 600px;\" />\n",
    "\n",
    "Two common numpy functions used in reshape are np.shape and np.reshape().\n",
    "\n",
    "- <code>X.shape</code> is used to get the shape (dimension) of a matrix/vector $X$.\n",
    "- <code>X.reshape(...)</code> is used to reshape $X$ into some other dimension."
   ]
  },
  {
   "cell_type": "code",
   "execution_count": 8,
   "metadata": {
    "colab": {
     "base_uri": "https://localhost:8080/"
    },
    "id": "NK6Zjz97Vey1",
    "outputId": "b0d716dd-da3c-4972-8c62-12e5730da2dc"
   },
   "outputs": [
    {
     "name": "stdout",
     "output_type": "stream",
     "text": [
      "image2vector(image) = [[0.67826139]\n",
      " [0.29380381]\n",
      " [0.90714982]\n",
      " [0.52835647]\n",
      " [0.4215251 ]\n",
      " [0.45017551]\n",
      " [0.92814219]\n",
      " [0.96677647]\n",
      " [0.85304703]\n",
      " [0.52351845]\n",
      " [0.19981397]\n",
      " [0.27417313]\n",
      " [0.60659855]\n",
      " [0.00533165]\n",
      " [0.10820313]\n",
      " [0.49978937]\n",
      " [0.34144279]\n",
      " [0.94630077]]\n"
     ]
    }
   ],
   "source": [
    "def image2vector(image):\n",
    "    \"\"\"\n",
    "    Convert image with 3 dimensions to become vector of (size, 1)\n",
    "    \"\"\"\n",
    "    v = image.reshape(image.shape[0]*image.shape[1]*image.shape[2],1)\n",
    "    # v = image.reshape(-1,1)       # another one solution\n",
    "    return v\n",
    "\n",
    "image = np.array([[[ 0.67826139,  0.29380381],\n",
    "        [ 0.90714982,  0.52835647],\n",
    "        [ 0.4215251 ,  0.45017551]],\n",
    "\n",
    "       [[ 0.92814219,  0.96677647],\n",
    "        [ 0.85304703,  0.52351845],\n",
    "        [ 0.19981397,  0.27417313]],\n",
    "\n",
    "       [[ 0.60659855,  0.00533165],\n",
    "        [ 0.10820313,  0.49978937],\n",
    "        [ 0.34144279,  0.94630077]]])\n",
    "\n",
    "print (\"image2vector(image) = \" + str(image2vector(image)))"
   ]
  },
  {
   "cell_type": "markdown",
   "metadata": {
    "id": "YiTeCS7dVey2"
   },
   "source": [
    "## Hand-Coded Fully Connected Neural Network\n",
    "\n",
    "Let's modify our code from class to work with this dataset and run 100 epochs of training.\n",
    "The main change is to use a one-hot encoding of the 10 classes at the output layer and to use\n",
    "the softmax activation function at the output. Some minor changes are required to calculate multinomial\n",
    "cross entropy loss rather than binary cross entropy loss.\n",
    "\n",
    "<img src=\"nn_mnist.jpeg\" title=\"mnist neural network\" style=\"width: 600px;\" />\n",
    "\n",
    "*Note*: change SoftMin to be SoftMax"
   ]
  },
  {
   "cell_type": "code",
   "execution_count": 9,
   "metadata": {
    "id": "hY_lzH1VVey2"
   },
   "outputs": [],
   "source": [
    "import random\n",
    "import warnings\n",
    "warnings.filterwarnings(\"ignore\")"
   ]
  },
  {
   "cell_type": "markdown",
   "metadata": {
    "id": "O5Te5imEVey2"
   },
   "source": [
    "#### Normalize each input feature\n",
    "\n",
    "Change the input X to be normalize vector. The normalize equation is\n",
    "\n",
    "$$norm(X) = \\frac{X-\\bar{X}}{SD}$$"
   ]
  },
  {
   "cell_type": "code",
   "execution_count": 10,
   "metadata": {
    "id": "sVOMM4ELVey3"
   },
   "outputs": [],
   "source": [
    "def normalize(X):\n",
    "    M = X.shape[0]\n",
    "    XX = X - np.tile(np.mean(X,0),[M,1])\n",
    "    XX = np.divide(XX, np.tile(np.std(XX,0),[M,1]))\n",
    "    return np.nan_to_num(XX, copy=True,nan=0.0)\n",
    "\n",
    "XX = normalize(X)"
   ]
  },
  {
   "cell_type": "markdown",
   "metadata": {
    "id": "A3wrZKCHVey3"
   },
   "source": [
    "#### Partion data into training and testing dataset\n",
    "\n",
    "In deep learning, it is necessary for split your raw data to be 3 types:\n",
    "1. Training set - Data for training and learn\n",
    "2. Validate set - Data for test the network in each epoch or loop training.\n",
    "3. Test set - Data for test the network in finalize after training. This can assume that if the network is going to use, what accuracy should be.\n",
    "\n",
    "Spliting the training, validate, and test set need to make sure that\n",
    "1. The data need to be random.\n",
    "2. The validate and test set must be in the same as training set environment, but do not the same data from training set.\n",
    "3. A lot of data of training set can make your model accurate, but need to make sure that the validate and test set cover your conditions.\n",
    "\n",
    "Normally, we should split data in percentage. However, this is not fixed. You can adjust.\n",
    "- 60% training, 20% validate, and 20% test for the data over 1 million set\n",
    "- 80% training, 10% validate, and 10% test for otherwise.\n",
    "- For the very low data (~1000 data), we could use validate and test set in the same data.\n",
    "\n",
    "However, there are some trick about spliting the data when the data is too low, but we do not talk about it in here."
   ]
  },
  {
   "cell_type": "code",
   "execution_count": 11,
   "metadata": {
    "id": "Za1CHVqmVey3"
   },
   "outputs": [],
   "source": [
    "percent_train = .6\n",
    "\n",
    "idx = np.arange(0,data_size)\n",
    "\n",
    "random.shuffle(idx)\n",
    "m_train = int(data_size * percent_train)\n",
    "train_idx = idx[0:m_train]\n",
    "test_idx = idx[m_train:data_size+1]\n",
    "X_train = XX[train_idx,:];\n",
    "X_test = XX[test_idx,:];\n",
    "\n",
    "y_train = y[train_idx];\n",
    "y_test = y[test_idx];\n",
    "y_test_indices = y_indices[test_idx]"
   ]
  },
  {
   "cell_type": "markdown",
   "metadata": {
    "id": "LkpO4-TGVey4"
   },
   "source": [
    "#### Create some important activation functions\n",
    "\n",
    "ReLu equation is written\n",
    "\n",
    "$$ReLu(x) = \\max(0,x)$$\n",
    "\n",
    "Tanh equation is written\n",
    "\n",
    "$$Tanh(x) = \\frac{e^x-e^{-x}}{e^x+e^{-x}}$$\n",
    "\n",
    "Sigmoid equation is written\n",
    "\n",
    "$$Sigmoid(x) = \\frac{1}{1+e^{-x}}$$\n",
    "\n",
    "And Softmax equation is written\n",
    "\n",
    "$$Softmax(x) = softmax([x_1,x_2,\\cdots,x_n])=\n",
    "\\begin{bmatrix}\n",
    "\\frac{e^{x_1}}{\\sum_j e^{x_j}} & \\frac{e^{x_2}}{\\sum_j e^{x_j}} & \\cdots & \\frac{e^{x_n}}{\\sum_j e^{x_j}}\n",
    "\\end{bmatrix}$$"
   ]
  },
  {
   "cell_type": "code",
   "execution_count": 12,
   "metadata": {
    "id": "0UWQrDqlVey4"
   },
   "outputs": [],
   "source": [
    "def ReLu(x):\n",
    "    output = np.maximum(0,x)\n",
    "    return output\n",
    "\n",
    "def Tanh(x):\n",
    "    x_p = np.exp(x)\n",
    "    x_m = np.exp(-x)\n",
    "    output = (x_p - x_m) / (x_p + x_m)\n",
    "    return output\n",
    "\n",
    "def Sigmoid(x):\n",
    "    output = 1/(1+np.exp(-x))\n",
    "    return output\n",
    "\n",
    "def Softmax(x):\n",
    "    exp_x = np.exp(x)\n",
    "    output = exp_x/np.sum(exp_x)\n",
    "    return output"
   ]
  },
  {
   "cell_type": "markdown",
   "metadata": {
    "id": "OBzK8KwBVey4"
   },
   "source": [
    "#### Create network\n",
    "\n",
    "Let's start with a 3-layer network with sigmoid activation functions, \\\n",
    "6 units in layer 1, and 5 units in layer 2."
   ]
  },
  {
   "cell_type": "code",
   "execution_count": 13,
   "metadata": {
    "id": "EgtWNuD8Vey4"
   },
   "outputs": [],
   "source": [
    "h2 = 5\n",
    "h1 = 6\n",
    "W = [[], np.random.normal(0,0.1,[x_area,h1]),\n",
    "         np.random.normal(0,0.1,[h1,h2]),\n",
    "         np.random.normal(0,0.1,[h2,10])]\n",
    "B = [[], np.random.normal(0,0.1,[h1,1]),\n",
    "         np.random.normal(0,0.1,[h2,1]),\n",
    "         np.random.normal(0,0.1,[10,1])]\n",
    "\n",
    "act_funcs = [None, ReLu, Sigmoid, Softmax]\n",
    "\n",
    "L = len(W)-1"
   ]
  },
  {
   "cell_type": "markdown",
   "metadata": {
    "id": "J_r9B4oxVey5"
   },
   "source": [
    "#### Create Forward activation function\n",
    "\n",
    "For input $x^{(i)}$, the forward propagation in each layer can be calculated by\n",
    "$$z^{(i)}=W^Tx^{(i)}+b$$\n",
    "$$\\hat{y}^{(i)}=a^{(i)}=act(z^{(i)})$$"
   ]
  },
  {
   "cell_type": "code",
   "execution_count": 14,
   "metadata": {
    "id": "zSvdvIlhVey5"
   },
   "outputs": [],
   "source": [
    "def forward_layer(w, b, X, act_func):\n",
    "    z = w.T * X + b\n",
    "    if act_func is not None:\n",
    "        y_hat = act_func(z)\n",
    "    else:\n",
    "        y_hat = z\n",
    "    return z, y_hat"
   ]
  },
  {
   "cell_type": "code",
   "execution_count": 15,
   "metadata": {
    "colab": {
     "base_uri": "https://localhost:8080/"
    },
    "id": "TjJbNovrVey5",
    "outputId": "361ebcd0-b984-46f8-cecc-12c742928b00"
   },
   "outputs": [
    {
     "name": "stdout",
     "output_type": "stream",
     "text": [
      "Linear output of y_hat1 [[ 0.68]\n",
      " [ 0.52]\n",
      " [ 0.6 ]\n",
      " [-0.4 ]\n",
      " [ 0.15]] , y_hat2 [[0.7649478 ]\n",
      " [0.7349726 ]\n",
      " [0.75026011]\n",
      " [0.52497919]\n",
      " [0.65701046]] and y_hat3 [[0.7649478 ]\n",
      " [0.7349726 ]\n",
      " [0.75026011]\n",
      " [0.52497919]\n",
      " [0.65701046]]\n"
     ]
    }
   ],
   "source": [
    "# test function\n",
    "X = np.array([[.9, 0.2, 0.1, -0.3, -0.7]]).T\n",
    "\n",
    "w = np.array([[0.2, 0.1, 1, 3, 0.5]])\n",
    "b = np.array([[1]])\n",
    "\n",
    "z2, y_hat1 = forward_layer(w, 0.5, X, None)\n",
    "z1, y_hat2 = forward_layer(w, b, X, Sigmoid)\n",
    "z2, y_hat3 = forward_layer(w, 0.5, X, ReLu)\n",
    "print('Linear output of y_hat1', y_hat1, ', y_hat2', y_hat2, 'and y_hat3', y_hat2)"
   ]
  },
  {
   "cell_type": "markdown",
   "metadata": {
    "id": "HSfW6bLwVey5"
   },
   "source": [
    "#### Forward propagation"
   ]
  },
  {
   "cell_type": "code",
   "execution_count": 16,
   "metadata": {
    "id": "g3swEnUXVey5"
   },
   "outputs": [],
   "source": [
    "def forward_one_step(X, W, B, act_funcs):\n",
    "    L = len(W)-1\n",
    "    a = [X]\n",
    "    z = [[]]\n",
    "    delta = [[]]\n",
    "    dW = [[]]\n",
    "    db = [[]]\n",
    "    for l in range(1,L+1):\n",
    "        z_layer, a_layer = None, None\n",
    "        ### BEGIN SOLUTION\n",
    "        z_layer, a_layer = forward_layer(W[l], B[l], a[l-1], act_funcs[l])\n",
    "        ### END SOLUTION\n",
    "        z.append(z_layer)\n",
    "        a.append(a_layer)\n",
    "        # Just to give arrays the right shape for the backprop step\n",
    "        delta.append([]); dW.append([]); db.append([])\n",
    "    return a, z, delta, dW, db"
   ]
  },
  {
   "cell_type": "code",
   "execution_count": 17,
   "metadata": {
    "id": "uPsb2b22Vey6"
   },
   "outputs": [],
   "source": [
    "def feed_forward(X,W,B, act_funcs):\n",
    "    L = len(W)-1\n",
    "    a = [X]\n",
    "    z = [[]]\n",
    "    delta = [[]]\n",
    "    dW = [[]]\n",
    "    db = [[]]\n",
    "    for l in range(1,L+1):\n",
    "        z_layer, a_layer = forward_layer(W[l], B[l], a[l-1], act_funcs[l])\n",
    "        z.append(z_layer)\n",
    "        a.append(a_layer)\n",
    "    return a_layer"
   ]
  },
  {
   "cell_type": "code",
   "execution_count": 18,
   "metadata": {
    "colab": {
     "base_uri": "https://localhost:8080/"
    },
    "id": "9VuaDLXOVey6",
    "outputId": "31d18e4d-916c-40c2-c29b-c323c83b1a0e"
   },
   "outputs": [
    {
     "name": "stdout",
     "output_type": "stream",
     "text": [
      "size of a 4 a[3] = [[0.10708714]\n",
      " [0.10359466]\n",
      " [0.09695446]\n",
      " [0.10335833]\n",
      " [0.09667474]\n",
      " [0.11891874]\n",
      " [0.0971056 ]\n",
      " [0.0826653 ]\n",
      " [0.08565899]\n",
      " [0.10798204]]\n",
      "size of z 4 z[3] = [[ 0.08384436]\n",
      " [ 0.05068725]\n",
      " [-0.01555719]\n",
      " [ 0.04840329]\n",
      " [-0.01844644]\n",
      " [ 0.1886418 ]\n",
      " [-0.01399953]\n",
      " [-0.17499864]\n",
      " [-0.13942443]\n",
      " [ 0.09216636]]\n"
     ]
    }
   ],
   "source": [
    "# test function\n",
    "\n",
    "x_this = X_train[0,:].T\n",
    "\n",
    "a, z, delta, dW, db = forward_one_step(x_this, W, B, act_funcs)\n",
    "print('size of a', len(a), 'a[3] =', a[3])\n",
    "print('size of z', len(z), 'z[3] =', z[3])"
   ]
  },
  {
   "cell_type": "markdown",
   "metadata": {
    "id": "2EyqNRg-Vey6"
   },
   "source": [
    "## Loss function\n",
    "\n",
    "For softmax loss function, it is cross entropy loss. You can calculate as\n",
    "\n",
    "$$\\mathcal{L} = -\\sum_{i=0}^n (y_i * \\log\\hat{y}_i)$$"
   ]
  },
  {
   "cell_type": "code",
   "execution_count": 19,
   "metadata": {
    "id": "Qh2VqzfiVey6"
   },
   "outputs": [],
   "source": [
    "def loss(y, yhat):\n",
    "    l = - np.dot(y, np.log(yhat))\n",
    "    return l"
   ]
  },
  {
   "cell_type": "markdown",
   "metadata": {
    "id": "0WPjcrMdVey7"
   },
   "source": [
    "### Back propagation\n",
    "\n",
    "Back propagation can be calculated as\n",
    "\n",
    "$$\\frac{\\partial\\mathcal{L}}{\\partial z^{[l-1]} } =[W^{[l]}]^T \\cdot \\frac{ \\partial\\mathcal{L} }{\\partial z^{[l]} } * {g^{[l-1]}}'(z^{[l-1]})$$\n",
    "\n",
    "$$\\frac{\\partial\\mathcal{L}}{\\partial W^{[l]} } = \\frac{ \\partial\\mathcal{L} }{\\partial z^{[l]} } \\cdot [a^{[l-1]}]^T$$\n",
    "\n",
    "$$\\frac{\\partial\\mathcal{L}}{\\partial b^{[l]} } = \\frac{ \\partial\\mathcal{L} }{\\partial z^{[l]} }$$\n",
    "\n",
    "When ${g^{[l-1]}}'$ is derivative activation function."
   ]
  },
  {
   "cell_type": "markdown",
   "metadata": {
    "id": "Fp7J27IvVey7"
   },
   "source": [
    "### derivative activation functions\n",
    "\n",
    "First step of back propagation function, we need to calculate derivative of the activation functions that we use.\n",
    "\n",
    "The Linear_derivative ($dl$) function is\n",
    "$$dl(x) = [1]$$\n",
    "\n",
    "The ReLu_derivative ($dReLu$) function is\n",
    "\n",
    "$$dReLu(x)=\n",
    "\\left\\{\\begin{matrix}\n",
    "1 & x > 0\\\\ \n",
    "0 & otherwise\n",
    "\\end{matrix}\\right.$$\n",
    "\n",
    "The Tanh_derivative ($dTanh$) function is\n",
    "\n",
    "$$d\\tanh(x) = 1 - \\tanh^2(x)$$\n",
    "\n",
    "The Sigmoid_derivative ($ds$) function is\n",
    "\n",
    "$$dSigmoid(x) = Sigmoid(x)(1-Sigmoid(x))$$\n"
   ]
  },
  {
   "cell_type": "code",
   "execution_count": 20,
   "metadata": {
    "id": "niAAiId7Vey7"
   },
   "outputs": [],
   "source": [
    "def Linear_derivative(x):\n",
    "    output = np.ones(x.shape)\n",
    "    return output\n",
    "\n",
    "def ReLu_derivative(x):\n",
    "    output = (x > 0) * 1\n",
    "    return output\n",
    "\n",
    "def Tanh_derivative(x):\n",
    "    t=Tanh(x)\n",
    "    output = 1-t**2\n",
    "    return output\n",
    "\n",
    "def Sigmoid_derivative(x):\n",
    "    s=Sigmoid(x)\n",
    "    output = np.multiply(s,1-s)\n",
    "    return output"
   ]
  },
  {
   "cell_type": "markdown",
   "metadata": {
    "id": "viNAhefSVey8"
   },
   "source": [
    "#### Back propagation function"
   ]
  },
  {
   "cell_type": "code",
   "execution_count": 21,
   "metadata": {
    "id": "NEOvotbDVey8"
   },
   "outputs": [],
   "source": [
    "def back_propagation(y, a, z, W, dW, db, act_deri):\n",
    "    '''\n",
    "    Backprop step. Note that derivative of multinomial cross entropy\n",
    "    loss is the same as that of binary cross entropy loss. See\n",
    "    https://levelup.gitconnected.com/killer-combo-softmax-and-cross-entropy-5907442f60ba\n",
    "    for a nice derivation.\n",
    "    '''\n",
    "    L = len(W)-1\n",
    "    \n",
    "    delta[L] = a[L] - np.matrix(y_this).T\n",
    "    for l in range(L,0,-1):\n",
    "        db[l] = delta[l].copy()\n",
    "        dW[l] = a[l-1] * delta[l].T\n",
    "        if l > 1:\n",
    "            delta[l-1] = np.multiply(act_deri[l-1](z[l-1]), W[l] * delta[l])\n",
    "            \n",
    "    return dW, db"
   ]
  },
  {
   "cell_type": "markdown",
   "metadata": {
    "id": "FYg5v06BVey9"
   },
   "source": [
    "Let's setup derivative activation function."
   ]
  },
  {
   "cell_type": "code",
   "execution_count": 22,
   "metadata": {
    "id": "aOfXldRZVey9"
   },
   "outputs": [],
   "source": [
    "act_deri = [None, ReLu_derivative, Sigmoid_derivative, Softmax]"
   ]
  },
  {
   "cell_type": "code",
   "execution_count": 23,
   "metadata": {
    "colab": {
     "base_uri": "https://localhost:8080/"
    },
    "id": "G5E_rKw-Vey9",
    "outputId": "38468c4b-c1d8-49db-81b6-a21eb9d91f51"
   },
   "outputs": [
    {
     "name": "stdout",
     "output_type": "stream",
     "text": [
      "dW [[], matrix([[ 0.00000000e+00,  0.00000000e+00,  0.00000000e+00,\n",
      "          0.00000000e+00,  0.00000000e+00,  0.00000000e+00],\n",
      "        [ 0.00000000e+00,  0.00000000e+00,  0.00000000e+00,\n",
      "          0.00000000e+00, -3.39577005e-04,  3.92088513e-03],\n",
      "        [ 0.00000000e+00,  0.00000000e+00,  0.00000000e+00,\n",
      "          0.00000000e+00,  5.96037256e-04, -6.88207263e-03],\n",
      "        [ 0.00000000e+00,  0.00000000e+00,  0.00000000e+00,\n",
      "          0.00000000e+00,  9.93688052e-04, -1.14734998e-02],\n",
      "        [ 0.00000000e+00,  0.00000000e+00,  0.00000000e+00,\n",
      "          0.00000000e+00,  7.45375896e-04, -8.60639331e-03],\n",
      "        [ 0.00000000e+00,  0.00000000e+00,  0.00000000e+00,\n",
      "          0.00000000e+00,  3.96893143e-04, -4.58267903e-03],\n",
      "        [ 0.00000000e+00,  0.00000000e+00,  0.00000000e+00,\n",
      "          0.00000000e+00, -4.15301417e-04,  4.79522797e-03],\n",
      "        [ 0.00000000e+00,  0.00000000e+00,  0.00000000e+00,\n",
      "          0.00000000e+00, -1.26724837e-04,  1.46321312e-03],\n",
      "        [ 0.00000000e+00,  0.00000000e+00,  0.00000000e+00,\n",
      "          0.00000000e+00, -5.98817690e-05,  6.91417659e-04],\n",
      "        [ 0.00000000e+00,  0.00000000e+00,  0.00000000e+00,\n",
      "          0.00000000e+00, -3.15280983e-04,  3.64035402e-03],\n",
      "        [ 0.00000000e+00,  0.00000000e+00,  0.00000000e+00,\n",
      "          0.00000000e+00,  1.05059494e-03, -1.21305684e-02],\n",
      "        [ 0.00000000e+00,  0.00000000e+00,  0.00000000e+00,\n",
      "          0.00000000e+00,  1.02486792e-03, -1.18335144e-02],\n",
      "        [ 0.00000000e+00,  0.00000000e+00,  0.00000000e+00,\n",
      "          0.00000000e+00,  1.21273700e-03, -1.40027222e-02],\n",
      "        [ 0.00000000e+00,  0.00000000e+00,  0.00000000e+00,\n",
      "          0.00000000e+00, -1.03447930e-03,  1.19444910e-02],\n",
      "        [ 0.00000000e+00,  0.00000000e+00,  0.00000000e+00,\n",
      "          0.00000000e+00, -5.22001942e-04,  6.02723277e-03],\n",
      "        [ 0.00000000e+00,  0.00000000e+00,  0.00000000e+00,\n",
      "          0.00000000e+00, -1.32208946e-04,  1.52653473e-03],\n",
      "        [ 0.00000000e+00,  0.00000000e+00,  0.00000000e+00,\n",
      "          0.00000000e+00, -4.52325462e-05,  5.22272165e-04],\n",
      "        [ 0.00000000e+00,  0.00000000e+00,  0.00000000e+00,\n",
      "          0.00000000e+00, -1.70544016e-04,  1.96916601e-03],\n",
      "        [ 0.00000000e+00,  0.00000000e+00,  0.00000000e+00,\n",
      "          0.00000000e+00,  1.08624080e-03, -1.25421490e-02],\n",
      "        [ 0.00000000e+00,  0.00000000e+00,  0.00000000e+00,\n",
      "          0.00000000e+00,  1.57382765e-03, -1.81720121e-02],\n",
      "        [ 0.00000000e+00,  0.00000000e+00,  0.00000000e+00,\n",
      "          0.00000000e+00,  4.76443060e-04, -5.50119260e-03],\n",
      "        [ 0.00000000e+00,  0.00000000e+00,  0.00000000e+00,\n",
      "          0.00000000e+00, -1.27713439e-03,  1.47462789e-02],\n",
      "        [ 0.00000000e+00,  0.00000000e+00,  0.00000000e+00,\n",
      "          0.00000000e+00, -5.56276251e-04,  6.42297697e-03],\n",
      "        [ 0.00000000e+00,  0.00000000e+00,  0.00000000e+00,\n",
      "          0.00000000e+00, -1.15776725e-04,  1.33680206e-03],\n",
      "        [ 0.00000000e+00,  0.00000000e+00,  0.00000000e+00,\n",
      "          0.00000000e+00, -3.38341184e-05,  3.90661587e-04],\n",
      "        [ 0.00000000e+00,  0.00000000e+00,  0.00000000e+00,\n",
      "          0.00000000e+00, -1.51340484e-04,  1.74743473e-03],\n",
      "        [ 0.00000000e+00,  0.00000000e+00,  0.00000000e+00,\n",
      "          0.00000000e+00,  1.13124849e-03, -1.30618249e-02],\n",
      "        [ 0.00000000e+00,  0.00000000e+00,  0.00000000e+00,\n",
      "          0.00000000e+00,  1.23720150e-03, -1.42851986e-02],\n",
      "        [ 0.00000000e+00,  0.00000000e+00,  0.00000000e+00,\n",
      "          0.00000000e+00,  3.41623931e-04, -3.94451971e-03],\n",
      "        [ 0.00000000e+00,  0.00000000e+00,  0.00000000e+00,\n",
      "          0.00000000e+00, -1.30375984e-03,  1.50537065e-02],\n",
      "        [ 0.00000000e+00,  0.00000000e+00,  0.00000000e+00,\n",
      "          0.00000000e+00, -6.37456927e-04,  7.36031989e-03],\n",
      "        [ 0.00000000e+00,  0.00000000e+00,  0.00000000e+00,\n",
      "          0.00000000e+00, -4.78753480e-05,  5.52786959e-04],\n",
      "        [ 0.00000000e+00,  0.00000000e+00,  0.00000000e+00,\n",
      "          0.00000000e+00,  0.00000000e+00,  0.00000000e+00],\n",
      "        [ 0.00000000e+00,  0.00000000e+00,  0.00000000e+00,\n",
      "          0.00000000e+00,  1.06638260e-03, -1.23128587e-02],\n",
      "        [ 0.00000000e+00,  0.00000000e+00,  0.00000000e+00,\n",
      "          0.00000000e+00,  1.33580682e-03, -1.54237331e-02],\n",
      "        [ 0.00000000e+00,  0.00000000e+00,  0.00000000e+00,\n",
      "          0.00000000e+00,  1.12061943e-03, -1.29390978e-02],\n",
      "        [ 0.00000000e+00,  0.00000000e+00,  0.00000000e+00,\n",
      "          0.00000000e+00,  4.61091211e-04, -5.32393432e-03],\n",
      "        [ 0.00000000e+00,  0.00000000e+00,  0.00000000e+00,\n",
      "          0.00000000e+00, -1.51014269e-03,  1.74366814e-02],\n",
      "        [ 0.00000000e+00,  0.00000000e+00,  0.00000000e+00,\n",
      "          0.00000000e+00, -8.33893704e-04,  9.62845356e-03],\n",
      "        [ 0.00000000e+00,  0.00000000e+00,  0.00000000e+00,\n",
      "          0.00000000e+00,  0.00000000e+00,  0.00000000e+00],\n",
      "        [ 0.00000000e+00,  0.00000000e+00,  0.00000000e+00,\n",
      "          0.00000000e+00, -6.21787290e-05,  7.17939231e-04],\n",
      "        [ 0.00000000e+00,  0.00000000e+00,  0.00000000e+00,\n",
      "          0.00000000e+00, -1.98490398e-04,  2.29184556e-03],\n",
      "        [ 0.00000000e+00,  0.00000000e+00,  0.00000000e+00,\n",
      "          0.00000000e+00,  1.41408636e-03, -1.63275784e-02],\n",
      "        [ 0.00000000e+00,  0.00000000e+00,  0.00000000e+00,\n",
      "          0.00000000e+00,  1.38071807e-03, -1.59422955e-02],\n",
      "        [ 0.00000000e+00,  0.00000000e+00,  0.00000000e+00,\n",
      "          0.00000000e+00,  5.39020937e-04, -6.22374055e-03],\n",
      "        [ 0.00000000e+00,  0.00000000e+00,  0.00000000e+00,\n",
      "          0.00000000e+00, -1.46622988e-03,  1.69296473e-02],\n",
      "        [ 0.00000000e+00,  0.00000000e+00,  0.00000000e+00,\n",
      "          0.00000000e+00, -8.09138982e-04,  9.34262613e-03],\n",
      "        [ 0.00000000e+00,  0.00000000e+00,  0.00000000e+00,\n",
      "          0.00000000e+00, -8.99496405e-05,  1.03859273e-03],\n",
      "        [ 0.00000000e+00,  0.00000000e+00,  0.00000000e+00,\n",
      "          0.00000000e+00, -3.59156091e-05,  4.14695269e-04],\n",
      "        [ 0.00000000e+00,  0.00000000e+00,  0.00000000e+00,\n",
      "          0.00000000e+00, -4.09068778e-04,  4.72326354e-03],\n",
      "        [ 0.00000000e+00,  0.00000000e+00,  0.00000000e+00,\n",
      "          0.00000000e+00,  1.52556657e-03, -1.76147713e-02],\n",
      "        [ 0.00000000e+00,  0.00000000e+00,  0.00000000e+00,\n",
      "          0.00000000e+00,  1.25322472e-03, -1.44702088e-02],\n",
      "        [ 0.00000000e+00,  0.00000000e+00,  0.00000000e+00,\n",
      "          0.00000000e+00,  1.11628910e-04, -1.28890981e-03],\n",
      "        [ 0.00000000e+00,  0.00000000e+00,  0.00000000e+00,\n",
      "          0.00000000e+00, -1.47238565e-03,  1.70007242e-02],\n",
      "        [ 0.00000000e+00,  0.00000000e+00,  0.00000000e+00,\n",
      "          0.00000000e+00, -7.67746644e-04,  8.86469447e-03],\n",
      "        [ 0.00000000e+00,  0.00000000e+00,  0.00000000e+00,\n",
      "          0.00000000e+00, -2.12640893e-04,  2.45523255e-03],\n",
      "        [ 0.00000000e+00,  0.00000000e+00,  0.00000000e+00,\n",
      "          0.00000000e+00, -2.39176732e-05,  2.76162542e-04],\n",
      "        [ 0.00000000e+00,  0.00000000e+00,  0.00000000e+00,\n",
      "          0.00000000e+00, -3.03152686e-04,  3.50031610e-03],\n",
      "        [ 0.00000000e+00,  0.00000000e+00,  0.00000000e+00,\n",
      "          0.00000000e+00,  2.86584481e-04, -3.30901331e-03],\n",
      "        [ 0.00000000e+00,  0.00000000e+00,  0.00000000e+00,\n",
      "          0.00000000e+00,  6.74655285e-04, -7.78982627e-03],\n",
      "        [ 0.00000000e+00,  0.00000000e+00,  0.00000000e+00,\n",
      "          0.00000000e+00,  6.55704352e-04, -7.57101159e-03],\n",
      "        [ 0.00000000e+00,  0.00000000e+00,  0.00000000e+00,\n",
      "          0.00000000e+00, -1.16225656e-03,  1.34198558e-02],\n",
      "        [ 0.00000000e+00,  0.00000000e+00,  0.00000000e+00,\n",
      "          0.00000000e+00, -5.12553393e-04,  5.91813623e-03],\n",
      "        [ 0.00000000e+00,  0.00000000e+00,  0.00000000e+00,\n",
      "          0.00000000e+00, -1.98675733e-04,  2.29398550e-03]]), matrix([[ 0.        ,  0.        ,  0.        ,  0.        ,  0.        ],\n",
      "        [ 0.        ,  0.        ,  0.        ,  0.        ,  0.        ],\n",
      "        [ 0.        ,  0.        ,  0.        ,  0.        ,  0.        ],\n",
      "        [ 0.        ,  0.        ,  0.        ,  0.        ,  0.        ],\n",
      "        [ 0.05123629, -0.0628714 , -0.05260622, -0.02041498, -0.00407403],\n",
      "        [ 0.00830949, -0.01019647, -0.00853167, -0.0033109 , -0.00066073]]), matrix([[ 0.06238879, -0.5222442 ,  0.0564855 ,  0.06021638,  0.05632254,\n",
      "          0.06928185,  0.05657356,  0.04816066,  0.04990478,  0.06291015],\n",
      "        [ 0.05603128, -0.46902676,  0.05072955,  0.05408025,  0.05058319,\n",
      "          0.06222193,  0.05080863,  0.04325302,  0.04481941,  0.05649951],\n",
      "        [ 0.05650196, -0.47296678,  0.0511557 ,  0.05453454,  0.05100811,\n",
      "          0.06274462,  0.05123544,  0.04361636,  0.04519591,  0.05697413],\n",
      "        [ 0.05079512, -0.42519588,  0.04598883,  0.04902641,  0.04585615,\n",
      "          0.05640725,  0.04606053,  0.039211  ,  0.040631  ,  0.0512196 ],\n",
      "        [ 0.05189651, -0.43441546,  0.04698602,  0.05008946,  0.04685046,\n",
      "          0.05763033,  0.04705926,  0.04006121,  0.04151201,  0.0523302 ]])]\n",
      "db [[], matrix([[-0.        ],\n",
      "        [ 0.        ],\n",
      "        [-0.        ],\n",
      "        [-0.        ],\n",
      "        [ 0.00101361],\n",
      "        [-0.01170356]]), matrix([[ 0.03413755],\n",
      "        [-0.04188976],\n",
      "        [-0.03505031],\n",
      "        [-0.01360203],\n",
      "        [-0.00271443]]), matrix([[ 0.10708714],\n",
      "        [-0.89640534],\n",
      "        [ 0.09695446],\n",
      "        [ 0.10335833],\n",
      "        [ 0.09667474],\n",
      "        [ 0.11891874],\n",
      "        [ 0.0971056 ],\n",
      "        [ 0.0826653 ],\n",
      "        [ 0.08565899],\n",
      "        [ 0.10798204]])]\n"
     ]
    }
   ],
   "source": [
    "# test function\n",
    "x_this = X_train[0,:].T\n",
    "y_this = y_train[0,:]\n",
    "\n",
    "a, z, delta, dW, db = forward_one_step(x_this, W, B, act_funcs)\n",
    "dW, db = back_propagation(y_this, a, z, W, dW, db, act_deri)\n",
    "\n",
    "lenW = [0, 64, 6, 5]\n",
    "for i in range(4):\n",
    "    assert len(dW[i]) == lenW[i]\n",
    "    \n",
    "print(\"dW\", dW)\n",
    "print(\"db\", db)"
   ]
  },
  {
   "cell_type": "markdown",
   "metadata": {
    "id": "JHcg8ijkVey9"
   },
   "source": [
    "### Update weight and bias\n",
    "\n",
    "In the training, to improve accuracy, you need to update weight/bias while training.\n",
    "Weight and bias update equations are\n",
    "$$\n",
    "W_{new}^{(i)} = W_{old}^{(i)} - \\alpha * \\delta W\n",
    "$$\n",
    "$$\n",
    "B_{new}^{(i)} = B_{old}^{(i)} - \\alpha * \\delta B\n",
    "$$\n",
    "\n",
    "When $\\alpha$ is learning rate. and $i$ is the layer number of network\n"
   ]
  },
  {
   "cell_type": "code",
   "execution_count": 24,
   "metadata": {
    "id": "EyGTCGqnVey-"
   },
   "outputs": [],
   "source": [
    "def update_step(W, B, dW, db, alpha):\n",
    "    L = len(W)-1\n",
    "    for l in range(1,L+1):\n",
    "        W[l] = W[l] - alpha * dW[l]\n",
    "        B[l] = B[l] - alpha * db[l]\n",
    "    return W, B"
   ]
  },
  {
   "cell_type": "markdown",
   "metadata": {
    "id": "kWQinU5XVey-"
   },
   "source": [
    "### Put them together\n",
    "\n",
    "Train for 100 epochs with mini-batch size 1"
   ]
  },
  {
   "cell_type": "code",
   "execution_count": 25,
   "metadata": {
    "colab": {
     "base_uri": "https://localhost:8080/"
    },
    "id": "QfQ7eahnVey-",
    "outputId": "9a2ba9fe-f999-44de-8e18-180840f947e0"
   },
   "outputs": [
    {
     "name": "stdout",
     "output_type": "stream",
     "text": [
      "Epoch 1078 train loss 2488.589186\n",
      "Epoch 1078 train loss 2482.582553\n",
      "Epoch 1078 train loss 2466.379248\n",
      "Epoch 1078 train loss 2386.422584\n",
      "Epoch 1078 train loss 2208.427236\n",
      "Epoch 1078 train loss 2055.915228\n",
      "Epoch 1078 train loss 1952.786126\n",
      "Epoch 1078 train loss 1879.057305\n",
      "Epoch 1078 train loss 1808.639559\n",
      "Epoch 1078 train loss 1718.871220\n",
      "Epoch 1078 train loss 1598.905632\n",
      "Epoch 1078 train loss 1481.266368\n",
      "Epoch 1078 train loss 1378.246575\n",
      "Epoch 1078 train loss 1289.533435\n",
      "Epoch 1078 train loss 1182.894980\n",
      "Epoch 1078 train loss 1079.498013\n",
      "Epoch 1078 train loss 979.606815\n",
      "Epoch 1078 train loss 892.289900\n",
      "Epoch 1078 train loss 811.224743\n",
      "Epoch 1078 train loss 728.188512\n",
      "Epoch 1078 train loss 657.243762\n",
      "Epoch 1078 train loss 586.452739\n",
      "Epoch 1078 train loss 539.746832\n",
      "Epoch 1078 train loss 492.631197\n",
      "Epoch 1078 train loss 453.231917\n",
      "Epoch 1078 train loss 416.491013\n",
      "Epoch 1078 train loss 387.598069\n",
      "Epoch 1078 train loss 354.249130\n",
      "Epoch 1078 train loss 329.710597\n",
      "Epoch 1078 train loss 308.819802\n",
      "Epoch 1078 train loss 290.904707\n",
      "Epoch 1078 train loss 269.790689\n",
      "Epoch 1078 train loss 252.724761\n",
      "Epoch 1078 train loss 236.540403\n",
      "Epoch 1078 train loss 225.288106\n",
      "Epoch 1078 train loss 217.214538\n",
      "Epoch 1078 train loss 205.375098\n",
      "Epoch 1078 train loss 194.699823\n",
      "Epoch 1078 train loss 184.169910\n",
      "Epoch 1078 train loss 176.915300\n",
      "Epoch 1078 train loss 164.880554\n",
      "Epoch 1078 train loss 161.091216\n",
      "Epoch 1078 train loss 152.844306\n",
      "Epoch 1078 train loss 152.838723\n",
      "Epoch 1078 train loss 145.530061\n",
      "Epoch 1078 train loss 138.437263\n",
      "Epoch 1078 train loss 132.671446\n",
      "Epoch 1078 train loss 126.661032\n",
      "Epoch 1078 train loss 123.709230\n",
      "Epoch 1078 train loss 140.207823\n",
      "Epoch 1078 train loss 129.089911\n",
      "Epoch 1078 train loss 118.249264\n",
      "Epoch 1078 train loss 111.501275\n",
      "Epoch 1078 train loss 106.016285\n",
      "Epoch 1078 train loss 104.291704\n",
      "Epoch 1078 train loss 105.260692\n",
      "Epoch 1078 train loss 100.097530\n",
      "Epoch 1078 train loss 96.194054\n",
      "Epoch 1078 train loss 94.845704\n",
      "Epoch 1078 train loss 98.218822\n",
      "Epoch 1078 train loss 91.657549\n",
      "Epoch 1078 train loss 89.387023\n",
      "Epoch 1078 train loss 84.971766\n",
      "Epoch 1078 train loss 85.926003\n",
      "Epoch 1078 train loss 84.443296\n",
      "Epoch 1078 train loss 80.670426\n",
      "Epoch 1078 train loss 79.476426\n",
      "Epoch 1078 train loss 77.519611\n",
      "Epoch 1078 train loss 76.321510\n",
      "Epoch 1078 train loss 75.022660\n",
      "Epoch 1078 train loss 73.993390\n",
      "Epoch 1078 train loss 72.972131\n",
      "Epoch 1078 train loss 72.120466\n",
      "Epoch 1078 train loss 70.963720\n",
      "Epoch 1078 train loss 70.200058\n",
      "Epoch 1078 train loss 69.118284\n",
      "Epoch 1078 train loss 68.398439\n",
      "Epoch 1078 train loss 67.490483\n",
      "Epoch 1078 train loss 66.707085\n",
      "Epoch 1078 train loss 65.956875\n",
      "Epoch 1078 train loss 65.514067\n",
      "Epoch 1078 train loss 64.673207\n",
      "Epoch 1078 train loss 64.231081\n",
      "Epoch 1078 train loss 63.374945\n",
      "Epoch 1078 train loss 62.737640\n",
      "Epoch 1078 train loss 62.210317\n",
      "Epoch 1078 train loss 61.555661\n",
      "Epoch 1078 train loss 61.047453\n",
      "Epoch 1078 train loss 60.434206\n",
      "Epoch 1078 train loss 59.994213\n",
      "Epoch 1078 train loss 59.457968\n",
      "Epoch 1078 train loss 59.089397\n",
      "Epoch 1078 train loss 58.446776\n",
      "Epoch 1078 train loss 58.015404\n",
      "Epoch 1078 train loss 57.507312\n",
      "Epoch 1078 train loss 57.124308\n",
      "Epoch 1078 train loss 56.668556\n",
      "Epoch 1078 train loss 56.292979\n",
      "Epoch 1078 train loss 55.895734\n",
      "Epoch 1078 train loss 55.487018\n"
     ]
    }
   ],
   "source": [
    "cost_arr = [] \n",
    "\n",
    "alpha = 0.01\n",
    "max_iter = 100\n",
    "for iter in range(0, max_iter):\n",
    "    loss_this_iter = 0\n",
    "    # random index of m_train\n",
    "    order = np.random.permutation(m_train)\n",
    "    for i in range(0, m_train):\n",
    "        # Grab the pattern order[i]\n",
    "        x_this = X_train[order[i],:].T\n",
    "        y_this = y_train[order[i],:]\n",
    "        \n",
    "        # Feed forward step\n",
    "        a, z, delta, dW, db = forward_one_step(x_this, W, B, act_funcs)\n",
    "            \n",
    "        # calulate loss\n",
    "        loss_this_pattern = loss(y_this, a[L])\n",
    "        loss_this_iter = loss_this_iter + loss_this_pattern\n",
    "        \n",
    "        # back propagation\n",
    "        dW, db = back_propagation(y_this, a, z, W, dW, db, act_deri)\n",
    "        \n",
    "        # update weight, bias\n",
    "        W, B = update_step(W, B, dW, db, alpha)\n",
    "            \n",
    "    print('Epoch %d train loss %f' % (i + 1, loss_this_iter[0,0]))\n",
    "    cost_arr.append(loss_this_iter[0,0])"
   ]
  },
  {
   "cell_type": "code",
   "execution_count": 26,
   "metadata": {
    "colab": {
     "base_uri": "https://localhost:8080/",
     "height": 279
    },
    "id": "R79_EuCWVey-",
    "outputId": "c179bead-d135-4c13-bf4a-9e921da7af30"
   },
   "outputs": [
    {
     "data": {
      "image/png": "[encoded data removed]",
      "text/plain": [
       "<Figure size 432x288 with 1 Axes>"
      ]
     },
     "metadata": {
      "needs_background": "light"
     },
     "output_type": "display_data"
    }
   ],
   "source": [
    "plt.plot(np.arange(1,max_iter+1,1), cost_arr)\n",
    "plt.ylabel('Loss')\n",
    "plt.xlabel('Epoch')\n",
    "plt.show()"
   ]
  },
  {
   "cell_type": "markdown",
   "metadata": {
    "id": "wJzuog5RVey_"
   },
   "source": [
    "#### Get test set accuracy"
   ]
  },
  {
   "cell_type": "code",
   "execution_count": 27,
   "metadata": {
    "colab": {
     "base_uri": "https://localhost:8080/"
    },
    "id": "uqAQWYPHVey_",
    "outputId": "d09a0cdf-f780-4ab2-a9ce-cd1b0f806bf6"
   },
   "outputs": [
    {
     "name": "stdout",
     "output_type": "stream",
     "text": [
      "Test accuracy: 0.9082\n"
     ]
    }
   ],
   "source": [
    "def predict_y(W, b, X):\n",
    "    M = X.shape[0]\n",
    "    y_pred = np.zeros(M)\n",
    "    for i in range(X.shape[0]):\n",
    "        y_pred[i] = np.argmax(feed_forward(X[i,:].T, W, B, act_funcs))\n",
    "    return y_pred\n",
    "\n",
    "y_test_predicted = predict_y(W, B, X_test)\n",
    "y_correct = y_test_predicted == y_test_indices\n",
    "test_accuracy = np.sum(y_correct) / len(y_correct)\n",
    "\n",
    "print('Test accuracy: %.4f' % (test_accuracy))"
   ]
  },
  {
   "cell_type": "markdown",
   "metadata": {
    "id": "pgQIISIiVey_"
   },
   "source": [
    "## In-class exercise (40 points)\n",
    "\n",
    "Modify the code above to plot both training loss and test loss as a function of epoch number.\n",
    "Use early stopping to obtain the best model according to the validation set.\n",
    "Experiment with the hyperparameters (learning rate, number of layers, number of units per layer) to get\n",
    "the best result you can.\n",
    "\n",
    "- Do at least 3 examples\n",
    "- Plot graphs\n",
    "- Tell the validation accuracy\n",
    "- Describe your experiments and results in your lab report."
   ]
  },
  {
   "cell_type": "code",
   "execution_count": 28,
   "metadata": {
    "id": "rCMfbO_4Vey_",
    "nbgrader": {
     "grade": true,
     "grade_id": "cell-1a70b857b0d7c3ce",
     "locked": false,
     "points": 40,
     "schema_version": 3,
     "solution": true,
     "task": false
    }
   },
   "outputs": [],
   "source": [
    "# modify your code here\n",
    "def build_net(num_layers, num_units_per_layer):\n",
    "    W = [[], ]\n",
    "    b = [[], ]\n",
    "    for i in range(1, num_layers+1):\n",
    "        W.append(np.random.normal(0, 0.5, [num_units_per_layer[i-1], num_units_per_layer[i]]))\n",
    "        b.append(np.random.normal(0, 0.5, [num_units_per_layer[i], 1]))\n",
    "    return W, b\n",
    "\n",
    "def sigmoid_act(z):\n",
    "    return 1 / (1 + np.exp(-z))\n",
    "\n",
    "def softmax_act(z):\n",
    "    exps = np.exp(z)\n",
    "    return exps / np.sum(exps)\n",
    "\n",
    "def sigmoid_actder(z):\n",
    "    az = sigmoid_act(z)\n",
    "    prod = np.multiply(az, 1 - az)\n",
    "    return prod\n",
    "\n",
    "def ff(x, W, b):\n",
    "    L = len(W)-1\n",
    "    a = x\n",
    "    for l in range(1, L + 1):\n",
    "        z = W[l].T * a + b[l]\n",
    "        if (l == L):\n",
    "            a = softmax_act(z)\n",
    "        else:\n",
    "            a = sigmoid_act(z)\n",
    "    return a\n",
    "\n",
    "def loss(y, yhat):\n",
    "    return - np.dot(y, np.log(yhat))\n",
    "\n",
    "def forward(x_this, W, b):\n",
    "    L = len(W) - 1\n",
    "    a = [x_this]\n",
    "    z = [[]]\n",
    "    delta = [[]]\n",
    "    dW = [[]]\n",
    "    db = [[]]\n",
    "    for l in range(1, L + 1):\n",
    "        z.append(W[l].T * a[l-1] + b[l])\n",
    "        if (l == L):\n",
    "            a.append(softmax_act(z[l]))\n",
    "        else:\n",
    "            a.append(sigmoid_act(z[l]))\n",
    "        # Just to give arrays the right shape for the backprop step\n",
    "        delta.append([]); dW.append([]); db.append([])\n",
    "    return a, z, delta, dW, db\n",
    "\n",
    "def back_propagation(y_this, a, z, W, delta, dW, db, show_check=False):\n",
    "    '''\n",
    "    Backprop step. Note that derivative of multinomial cross entropy\n",
    "    loss is the same as that of binary cross entropy loss. See\n",
    "    https://levelup.gitconnected.com/killer-combo-softmax-and-cross-entropy-5907442f60ba\n",
    "    for a nice derivation.\n",
    "    '''\n",
    "    L = len(W) - 1\n",
    "    delta[L] = a[L] - np.matrix(y_this).T\n",
    "    for l in range(L, 0, -1):\n",
    "        db[l] = delta[l].copy()\n",
    "        dW[l] = a[l-1] * delta[l].T\n",
    "        if l > 1:\n",
    "            delta[l-1] = np.multiply(sigmoid_actder(z[l-1]), W[l] * delta[l])\n",
    "\n",
    "    # Check delta calculation\n",
    "\n",
    "    if show_check:\n",
    "        print('Target: %f' % y_this)\n",
    "        print('y_hat: %f' % a[L][0, 0])\n",
    "        print(db)\n",
    "        y_pred = ff(x_this,W,b)\n",
    "        diff = 1e-3\n",
    "        W[1][10, 0] = W[1][10, 0] + diff\n",
    "        y_pred_db = ff(x_this,W,b)\n",
    "        L1 = loss(y_this, y_pred)\n",
    "        L2 = loss(y_this, y_pred_db)\n",
    "        db_finite_difference = (L2 - L1) / diff\n",
    "        print('Original out %f, perturbed out %f' %\n",
    "             (y_pred[0, 0], y_pred_db[0, 0]))\n",
    "        print('Theoretical dW %f, calculated db %f' %\n",
    "              (dW[1][10, 0], db_finite_difference[0, 0]))\n",
    "    return dW, db\n",
    "\n",
    "def update_step(W, b, dW, db, alpha):\n",
    "    L = len(W) - 1\n",
    "    for l in range(1, L + 1):            \n",
    "        W[l] = W[l] - alpha * dW[l]\n",
    "        b[l] = b[l] - alpha * db[l]\n",
    "    return W, b\n",
    "\n"
   ]
  },
  {
   "cell_type": "code",
   "execution_count": 29,
   "metadata": {
    "id": "YoKsZRt-rrKN"
   },
   "outputs": [],
   "source": [
    "def predict_y(W, b, X):\n",
    "    M = X.shape[0]\n",
    "    y_pred = np.zeros(M)\n",
    "    for i in range(X.shape[0]):\n",
    "        y_pred[i] = np.argmax(ff(X[i, :].T, W, b))\n",
    "    return y_pred"
   ]
  },
  {
   "cell_type": "code",
   "execution_count": 30,
   "metadata": {
    "colab": {
     "base_uri": "https://localhost:8080/"
    },
    "id": "3YalLRixVezA",
    "outputId": "7a40d799-1819-4462-acd9-0865a4a499f6"
   },
   "outputs": [
    {
     "name": "stdout",
     "output_type": "stream",
     "text": [
      "set1: Epoch 0 train loss 2364.400336969611; Test loss: 1336.2296359484073\n",
      "set1: Epoch 1 train loss 1765.9901888757056; Test loss: 1018.5850340900904\n",
      "set1: Epoch 2 train loss 1320.5127456528435; Test loss: 780.6492438170364\n",
      "set1: Epoch 3 train loss 1012.6089648983241; Test loss: 623.175940473067\n",
      "set1: Epoch 4 train loss 800.2693367536259; Test loss: 520.8122434804256\n",
      "set1: Epoch 5 train loss 657.6368352083782; Test loss: 444.0214733837678\n",
      "set1: Epoch 6 train loss 551.1413413700737; Test loss: 389.8725956268389\n",
      "set1: Epoch 7 train loss 472.40178141418795; Test loss: 354.8094074335476\n",
      "set1: Epoch 8 train loss 412.09655489604955; Test loss: 321.8631673667898\n",
      "set1: Epoch 9 train loss 364.80619725713353; Test loss: 291.1573944785793\n",
      "set1: Epoch 10 train loss 324.9956517328589; Test loss: 269.21003436530646\n",
      "set1: Epoch 11 train loss 292.6608242692614; Test loss: 251.45630827654773\n",
      "set1: Epoch 12 train loss 264.509287804539; Test loss: 236.26928152074964\n",
      "set1: Epoch 13 train loss 240.49603551577002; Test loss: 222.50485412805511\n",
      "set1: Epoch 14 train loss 220.7806948578679; Test loss: 212.89482804310344\n",
      "set1: Epoch 15 train loss 203.18599651365525; Test loss: 203.84715713455103\n",
      "set1: Epoch 16 train loss 185.8307758110911; Test loss: 196.94489442397727\n",
      "set1: Epoch 17 train loss 172.86537011533838; Test loss: 192.10873572929108\n",
      "set1: Epoch 18 train loss 161.56608706944206; Test loss: 182.61840316201224\n",
      "set1: Epoch 19 train loss 150.2946481705057; Test loss: 177.38722999342048\n",
      "set1: Epoch 20 train loss 140.02497674934207; Test loss: 172.77325037897404\n",
      "set1: Epoch 21 train loss 130.36730024085844; Test loss: 168.27383604317325\n",
      "set1: Epoch 22 train loss 122.68105570719962; Test loss: 165.05350695711525\n",
      "set1: Epoch 23 train loss 115.4077064485588; Test loss: 160.7221307158852\n",
      "set1: Epoch 24 train loss 108.49931278121707; Test loss: 157.80412755617536\n",
      "set1: Epoch 25 train loss 102.69235369500922; Test loss: 154.65108528254825\n",
      "set1: Epoch 26 train loss 97.2070288138096; Test loss: 152.2700674489469\n",
      "set1: Epoch 27 train loss 92.1704264726449; Test loss: 150.62865804725007\n",
      "set1: Epoch 28 train loss 87.34380626635362; Test loss: 147.84138629668104\n",
      "set1: Epoch 29 train loss 82.8249146909634; Test loss: 147.25052213110973\n",
      "set1: Epoch 30 train loss 79.02634539458967; Test loss: 144.03860538020606\n",
      "set1: Epoch 31 train loss 75.02605043956703; Test loss: 143.19882943365633\n",
      "set1: Epoch 32 train loss 72.31998048955427; Test loss: 140.77467365171623\n",
      "set1: Epoch 33 train loss 68.67012585374822; Test loss: 140.90435381443316\n",
      "set1: Epoch 34 train loss 66.1949584989129; Test loss: 137.9956412979351\n",
      "set1: Epoch 35 train loss 63.44911968202033; Test loss: 137.66540754323353\n",
      "set1: Epoch 36 train loss 61.00865002364887; Test loss: 135.38680062368576\n",
      "set1: Epoch 37 train loss 58.581709155228005; Test loss: 134.75929626509253\n",
      "set1: Epoch 38 train loss 56.487308501523664; Test loss: 134.05295581718647\n",
      "set1: Epoch 39 train loss 54.35715837343902; Test loss: 133.3764672313869\n",
      "set1: Epoch 40 train loss 52.464639839338915; Test loss: 131.57535153264882\n",
      "set1: Epoch 41 train loss 50.512089771354624; Test loss: 130.22808084332013\n",
      "set1: Epoch 42 train loss 48.89799470897082; Test loss: 129.5802766935834\n",
      "set1: Epoch 43 train loss 47.26114062037409; Test loss: 128.87323389191982\n",
      "set1: Epoch 44 train loss 45.8039168556255; Test loss: 128.25903044241414\n",
      "set1: Epoch 45 train loss 44.35490109969871; Test loss: 127.67086803327969\n",
      "set1: Epoch 46 train loss 42.84333596008649; Test loss: 127.0781486992871\n",
      "set1: Epoch 47 train loss 41.62854113849987; Test loss: 126.303270914374\n",
      "set1: Epoch 48 train loss 40.36850311515115; Test loss: 125.686732935731\n",
      "set1: Epoch 49 train loss 39.0995618948085; Test loss: 124.6257029920485\n",
      "set1: Epoch 50 train loss 38.047510533027385; Test loss: 124.12359342739227\n",
      "set1: Epoch 51 train loss 36.907545203426814; Test loss: 123.77008903222351\n",
      "set1: Epoch 52 train loss 35.93839412923451; Test loss: 123.6847143118527\n",
      "set1: Epoch 53 train loss 34.868805344751785; Test loss: 123.71287943045392\n",
      "set1: Epoch 54 train loss 34.06687202923311; Test loss: 122.58523462331567\n",
      "set1: Epoch 55 train loss 33.12297406789814; Test loss: 122.35748310973763\n",
      "set1: Epoch 56 train loss 32.17528428003968; Test loss: 121.331442041179\n",
      "set1: Epoch 57 train loss 31.344243005742385; Test loss: 121.50500215455465\n",
      "set1: Epoch 58 train loss 30.668757255583895; Test loss: 120.6530845895063\n",
      "set1: Epoch 59 train loss 29.882918943604594; Test loss: 120.13350571307019\n",
      "set1: Epoch 60 train loss 29.160803933184333; Test loss: 119.9454430429055\n",
      "set1: Epoch 61 train loss 28.461401274627097; Test loss: 119.48125718289032\n",
      "set1: Epoch 62 train loss 27.750829435195506; Test loss: 119.32796763354041\n",
      "set1: Epoch 63 train loss 27.122942624249124; Test loss: 118.91646397644207\n",
      "set1: Epoch 64 train loss 26.480292045140068; Test loss: 118.92262466151408\n",
      "set1: Epoch 65 train loss 25.88759465464401; Test loss: 118.47751325501629\n",
      "set1: Epoch 66 train loss 25.219525543340385; Test loss: 117.77156199335404\n",
      "set1: Epoch 67 train loss 24.768795296586205; Test loss: 117.68044361243186\n",
      "set1: Epoch 68 train loss 24.159102383531643; Test loss: 117.76922586097032\n",
      "set1: Epoch 69 train loss 23.65733966202396; Test loss: 117.45192007475384\n",
      "set1: Epoch 70 train loss 23.125301311883415; Test loss: 116.82304465770116\n",
      "set1: Epoch 71 train loss 22.643664001379424; Test loss: 116.85161425154566\n",
      "set1: Epoch 72 train loss 22.132596639068282; Test loss: 116.3531843483151\n",
      "set1: Epoch 73 train loss 21.724947411640823; Test loss: 116.14906763526444\n",
      "set1: Epoch 74 train loss 21.247426204671232; Test loss: 115.79877931247353\n",
      "set1: Epoch 75 train loss 20.817847103814817; Test loss: 115.8431637840803\n",
      "set1: Epoch 76 train loss 20.4341952802859; Test loss: 115.50815751380694\n",
      "set1: Epoch 77 train loss 19.98384749942161; Test loss: 115.42714596711376\n",
      "set1: Epoch 78 train loss 19.61820960433345; Test loss: 115.25703719446199\n",
      "set1: Epoch 79 train loss 19.249545421150444; Test loss: 114.83643340271516\n",
      "set1: Epoch 80 train loss 18.85920685815657; Test loss: 114.57806950715019\n",
      "set1: Epoch 81 train loss 18.511948968979343; Test loss: 114.52848185713138\n",
      "set1: Epoch 82 train loss 18.116812881618436; Test loss: 114.10170727899686\n",
      "set1: Epoch 83 train loss 17.830039489589364; Test loss: 114.09918839008557\n",
      "set1: Epoch 84 train loss 17.517275407754415; Test loss: 114.02985369476697\n",
      "set1: Epoch 85 train loss 17.193201966225768; Test loss: 113.84196841234242\n",
      "set1: Epoch 86 train loss 16.87623461857074; Test loss: 113.55811259330223\n",
      "set1: Epoch 87 train loss 16.587255572946525; Test loss: 113.57834638520924\n",
      "set1: Epoch 88 train loss 16.298180728799984; Test loss: 113.30482973517056\n",
      "set1: Epoch 89 train loss 16.014595804653705; Test loss: 113.26608820333686\n",
      "set1: Epoch 90 train loss 15.734014063131413; Test loss: 113.00032164390863\n",
      "set1: Epoch 91 train loss 15.485920739627398; Test loss: 112.95629981314883\n",
      "set1: Epoch 92 train loss 15.226796047925339; Test loss: 112.87044508365882\n",
      "set1: Epoch 93 train loss 14.969503115917783; Test loss: 112.73736703984757\n",
      "set1: Epoch 94 train loss 14.731194235523486; Test loss: 112.36196922978925\n",
      "set1: Epoch 95 train loss 14.499596985039252; Test loss: 112.32469569225924\n",
      "set1: Epoch 96 train loss 14.270894388321365; Test loss: 112.13730338676196\n",
      "set1: Epoch 97 train loss 14.052192526066921; Test loss: 112.07884026458433\n",
      "set1: Epoch 98 train loss 13.823652917051177; Test loss: 112.05715655375812\n",
      "set1: Epoch 99 train loss 13.622792497728682; Test loss: 111.97154431815217\n",
      "\n",
      "\n",
      "set2: Epoch 0 train loss 2330.2824366274785; Test loss: 1334.85167677093\n",
      "set2: Epoch 1 train loss 1714.8716731136954; Test loss: 966.7772191171665\n",
      "set2: Epoch 2 train loss 1198.6257595601212; Test loss: 653.3793070772423\n",
      "set2: Epoch 3 train loss 839.1494818605778; Test loss: 474.9790860092086\n",
      "set2: Epoch 4 train loss 618.9226586899831; Test loss: 401.7443590906598\n",
      "set2: Epoch 5 train loss 475.3752692347819; Test loss: 337.7990254324981\n",
      "set2: Epoch 6 train loss 379.48611743582495; Test loss: 290.8693970834909\n",
      "set2: Epoch 7 train loss 313.090392943831; Test loss: 274.1149747730102\n",
      "set2: Epoch 8 train loss 261.4222887621259; Test loss: 262.79659638931594\n",
      "set2: Epoch 9 train loss 216.97800146729244; Test loss: 276.4827266873765\n",
      "set2: Epoch 10 train loss 191.73314562499033; Test loss: 249.83770464781585\n",
      "set2: Epoch 11 train loss 158.91431478693758; Test loss: 242.46559932750193\n",
      "set2: Epoch 12 train loss 142.68061847565474; Test loss: 235.31638869726532\n",
      "set2: Epoch 13 train loss 125.7655378187072; Test loss: 247.4222027515891\n",
      "set2: Epoch 14 train loss 117.20854115421258; Test loss: 230.52634822292728\n",
      "set2: Epoch 15 train loss 104.21025769876607; Test loss: 215.05992542683651\n",
      "set2: Epoch 16 train loss 97.81969206609782; Test loss: 219.73096693209723\n",
      "set2: Epoch 17 train loss 90.59431843199144; Test loss: 226.72718895049812\n",
      "set2: Epoch 18 train loss 84.1822632305404; Test loss: 237.49013037893098\n",
      "set2: Epoch 19 train loss 77.38610371499885; Test loss: 223.3633460372738\n",
      "set2: Epoch 20 train loss 74.31809908935212; Test loss: 233.66641434960994\n",
      "set2: Epoch 21 train loss 63.8169786859759; Test loss: 235.74765286912196\n",
      "set2: Epoch 22 train loss 57.95749225626784; Test loss: 224.0701056217067\n",
      "set2: Epoch 23 train loss 55.452096389088666; Test loss: 230.6126937570382\n",
      "set2: Epoch 24 train loss 51.85489351000655; Test loss: 211.33751640612107\n",
      "set2: Epoch 25 train loss 47.272090723938035; Test loss: 207.28298608470047\n",
      "set2: Epoch 26 train loss 45.038468959525446; Test loss: 218.650689345204\n",
      "set2: Epoch 27 train loss 39.04368529648501; Test loss: 219.0794016752279\n",
      "set2: Epoch 28 train loss 36.32950013206185; Test loss: 227.49789711431734\n",
      "set2: Epoch 29 train loss 35.43629640596185; Test loss: 230.07013537261074\n",
      "set2: Epoch 30 train loss 36.216022106357244; Test loss: 225.99167192076376\n",
      "set2: Epoch 31 train loss 31.86253640054754; Test loss: 218.223324311849\n",
      "set2: Epoch 32 train loss 29.155206069606916; Test loss: 219.89693105809016\n",
      "set2: Epoch 33 train loss 27.704070089779144; Test loss: 225.98516196202718\n",
      "set2: Epoch 34 train loss 26.563395361396015; Test loss: 223.91975801983168\n",
      "set2: Epoch 35 train loss 25.596705072400113; Test loss: 232.90335489953262\n",
      "set2: Epoch 36 train loss 25.19487832594098; Test loss: 225.28883490438668\n",
      "set2: Epoch 37 train loss 23.224066734225232; Test loss: 231.5573013578893\n",
      "set2: Epoch 38 train loss 21.039125039836133; Test loss: 234.0460802931084\n",
      "set2: Epoch 39 train loss 19.546322176505434; Test loss: 231.84902295199595\n",
      "set2: Epoch 40 train loss 19.04078051239734; Test loss: 233.94457569130347\n",
      "set2: Epoch 41 train loss 18.121085932235072; Test loss: 242.04185822433786\n",
      "set2: Epoch 42 train loss 17.968974193077937; Test loss: 242.41891144153902\n",
      "set2: Epoch 43 train loss 18.17368017639165; Test loss: 234.22257132046934\n",
      "set2: Epoch 44 train loss 17.173463450232845; Test loss: 240.54041610256715\n",
      "set2: Epoch 45 train loss 16.553351641917416; Test loss: 250.2539771693433\n",
      "set2: Epoch 46 train loss 16.007398675065982; Test loss: 242.8589257874997\n",
      "set2: Epoch 47 train loss 15.672715760021505; Test loss: 249.97172465155015\n",
      "set2: Epoch 48 train loss 15.199010354298803; Test loss: 247.67706607998412\n",
      "set2: Epoch 49 train loss 15.337471157033256; Test loss: 240.41929299578374\n",
      "set2: Epoch 50 train loss 14.822761526866675; Test loss: 244.26582368811643\n",
      "set2: Epoch 51 train loss 14.282281787247408; Test loss: 247.8506442302968\n",
      "set2: Epoch 52 train loss 13.97592239531325; Test loss: 251.54415208207985\n",
      "set2: Epoch 53 train loss 13.643858418220162; Test loss: 248.5835784671463\n",
      "set2: Epoch 54 train loss 13.547982257009442; Test loss: 247.84939907262364\n",
      "set2: Epoch 55 train loss 13.394289328497942; Test loss: 249.80465024014262\n",
      "\n",
      "\n",
      "set3: Epoch 0 train loss 2524.333172733217; Test loss: 1664.6437710841858\n",
      "set3: Epoch 1 train loss 2380.1683996659144; Test loss: 1403.2910651110217\n",
      "set3: Epoch 2 train loss 1994.9060413350292; Test loss: 1272.9199968949383\n",
      "set3: Epoch 3 train loss 1762.927384725966; Test loss: 1048.1547437727213\n",
      "set3: Epoch 4 train loss 1399.487401718573; Test loss: 856.8853408880033\n",
      "set3: Epoch 5 train loss 1139.420450196422; Test loss: 769.0536957094039\n",
      "set3: Epoch 6 train loss 903.2615993502036; Test loss: 617.7488732718563\n",
      "set3: Epoch 7 train loss 763.9021687299148; Test loss: 584.5591637606657\n",
      "set3: Epoch 8 train loss 694.6195996903256; Test loss: 540.0950975767712\n",
      "set3: Epoch 9 train loss 597.7967068365974; Test loss: 521.1329615255407\n",
      "set3: Epoch 10 train loss 510.25404524675423; Test loss: 426.3824628513811\n",
      "set3: Epoch 11 train loss 408.18446752272104; Test loss: 427.95340076096636\n",
      "set3: Epoch 12 train loss 332.7033816684744; Test loss: 377.52428717603254\n",
      "set3: Epoch 13 train loss 276.3983132495485; Test loss: 343.3417314912395\n",
      "set3: Epoch 14 train loss 235.82474391607474; Test loss: 353.20563983114823\n",
      "set3: Epoch 15 train loss 180.61847810505049; Test loss: 341.9762107197637\n",
      "set3: Epoch 16 train loss 179.1700705921571; Test loss: 370.5429531324762\n",
      "set3: Epoch 17 train loss 194.9389845447195; Test loss: 282.1066750962415\n",
      "set3: Epoch 18 train loss 135.59099108867193; Test loss: 294.81027313966706\n",
      "set3: Epoch 19 train loss 129.44798214704022; Test loss: 285.6095420651202\n",
      "set3: Epoch 20 train loss 95.72402536375178; Test loss: 276.6045080311198\n",
      "set3: Epoch 21 train loss 96.2963592920965; Test loss: 299.7412463741459\n",
      "set3: Epoch 22 train loss 76.9612079742696; Test loss: 286.4487816889587\n",
      "set3: Epoch 23 train loss 63.03681137456626; Test loss: 307.03769224264545\n",
      "set3: Epoch 24 train loss 79.89914912449288; Test loss: 261.25598733991893\n",
      "set3: Epoch 25 train loss 88.75837532787868; Test loss: 284.4002566061782\n",
      "set3: Epoch 26 train loss 85.82620039346625; Test loss: 409.2391950994855\n",
      "set3: Epoch 27 train loss 176.1665991644614; Test loss: 343.23995960537945\n",
      "set3: Epoch 28 train loss 118.30144262771752; Test loss: 263.5214458173033\n",
      "set3: Epoch 29 train loss 58.427278289611685; Test loss: 269.2186244434385\n",
      "set3: Epoch 30 train loss 44.45100714044599; Test loss: 244.92386804096336\n",
      "set3: Epoch 31 train loss 32.56039204081977; Test loss: 247.8839666760759\n",
      "set3: Epoch 32 train loss 31.17899507106475; Test loss: 254.51037946607536\n",
      "set3: Epoch 33 train loss 33.33607652648431; Test loss: 262.1470215975463\n",
      "set3: Epoch 34 train loss 27.927691537147464; Test loss: 259.18348582606103\n",
      "set3: Epoch 35 train loss 27.186190562293337; Test loss: 265.4992729883143\n",
      "set3: Epoch 36 train loss 21.779864222734844; Test loss: 266.23494857910623\n",
      "set3: Epoch 37 train loss 20.738532297687108; Test loss: 266.2792011177721\n",
      "set3: Epoch 38 train loss 19.948841904646358; Test loss: 269.6720021576181\n",
      "set3: Epoch 39 train loss 19.100225382025798; Test loss: 270.05152973215803\n",
      "set3: Epoch 40 train loss 18.38116771944399; Test loss: 274.96658002151315\n",
      "set3: Epoch 41 train loss 17.767815144040092; Test loss: 273.45498852591277\n",
      "set3: Epoch 42 train loss 17.197568795230197; Test loss: 275.175569586969\n",
      "set3: Epoch 43 train loss 16.630295597355016; Test loss: 279.01481560992175\n",
      "set3: Epoch 44 train loss 15.943217610077442; Test loss: 277.18225829606655\n",
      "set3: Epoch 45 train loss 15.50045789341419; Test loss: 282.8855472529498\n",
      "set3: Epoch 46 train loss 14.941264939811362; Test loss: 283.71177873926183\n",
      "set3: Epoch 47 train loss 14.454630833554996; Test loss: 286.3096072635475\n",
      "set3: Epoch 48 train loss 13.992751103062524; Test loss: 290.9802358407532\n",
      "set3: Epoch 49 train loss 13.558146995067066; Test loss: 294.6501294100194\n",
      "set3: Epoch 50 train loss 13.149610049907158; Test loss: 295.1791137920854\n",
      "set3: Epoch 51 train loss 12.70834398420855; Test loss: 297.9893147746032\n",
      "set3: Epoch 52 train loss 12.268033102328413; Test loss: 299.50460801470194\n",
      "set3: Epoch 53 train loss 11.796087849059546; Test loss: 297.25358962374486\n",
      "set3: Epoch 54 train loss 11.316842388178362; Test loss: 305.48656739233166\n",
      "set3: Epoch 55 train loss 10.960974378760593; Test loss: 300.03310857663547\n",
      "set3: Epoch 56 train loss 10.568916366624723; Test loss: 306.59709441069464\n",
      "set3: Epoch 57 train loss 10.237738605441049; Test loss: 301.95381517239963\n",
      "set3: Epoch 58 train loss 9.940470582645668; Test loss: 306.1106363214504\n",
      "set3: Epoch 59 train loss 9.590284086823909; Test loss: 308.9524227916977\n",
      "set3: Epoch 60 train loss 9.286504787268177; Test loss: 307.875963539089\n",
      "\n",
      "\n"
     ]
    }
   ],
   "source": [
    "# YOUR CODE HERE\n",
    "# Train with at least three different hyperparameter sets.\n",
    "\n",
    "#sets of hyperparameter\n",
    "#(num_layers, h, alpha)\n",
    "F = y_train.shape[1] #number of units in final layer\n",
    "N = X_train.shape[1] #number of units in input layer or input features size\n",
    "\n",
    "sets = {'set1': {'num_layers': 3, 'num_units_per_layer': [N, 30, 20, F], 'alpha':0.01},\n",
    "        'set2': {'num_layers': 4, 'num_units_per_layer': [N, 25, 20, 5, F], 'alpha':0.05},\n",
    "        'set3': {'num_layers': 5, 'num_units_per_layer': [N, 20, 20, 5, 5, F], 'alpha':0.07}\n",
    "       }\n",
    "\n",
    "\n",
    "for key, value in sets.items():\n",
    "    W, b = build_net(value['num_layers'], value['num_units_per_layer'])\n",
    "    L = len(W) - 1\n",
    "    alpha = value['alpha']\n",
    "    sets[key]['W_best'] = W.copy()\n",
    "    sets[key]['b_best'] = b.copy()\n",
    "    sets[key]['train_cost_arr'] = []\n",
    "    sets[key]['test_cost_arr'] = []\n",
    "    \n",
    "    max_iter = 100\n",
    "    stop_count = 0\n",
    "    \n",
    "    #training\n",
    "    min_loss = np.inf\n",
    "    for iter in range(0, max_iter):\n",
    "        loss_this_iter = 0\n",
    "        order = np.random.permutation(m_train)\n",
    "        for i in range(0, m_train):\n",
    "\n",
    "            # Grab the pattern order[i]\n",
    "\n",
    "            x_this = X_train[order[i],:].T\n",
    "            y_this = y_train[order[i],:]\n",
    "\n",
    "            # Feed forward step\n",
    "            a, z, delta, dW, db = forward(x_this, W, b)\n",
    "\n",
    "            # calulate training loss\n",
    "            loss_this_pattern = loss(y_this, a[L])\n",
    "            loss_this_iter = loss_this_iter + loss_this_pattern\n",
    "\n",
    "            # back propagation\n",
    "            dW, db = back_propagation(y_this, a, z, W, delta, dW, db, show_check=False)\n",
    "\n",
    "            # update weight, bias\n",
    "            W, b = update_step(W, b, dW, db, alpha)\n",
    "\n",
    "        sets[key]['train_cost_arr'].append(loss_this_iter[0,0])\n",
    "        \n",
    "        #caculate test loss\n",
    "        test_loss_sum = 0\n",
    "        for i in range(X_test.shape[0]):\n",
    "            y_pred = ff(X_test[i, :].T, W, b)\n",
    "            test_loss = loss(y_test[i], y_pred)\n",
    "            test_loss_sum = test_loss_sum + test_loss\n",
    "            \n",
    "        sets[key]['test_cost_arr'].append(test_loss_sum[0,0])\n",
    "\n",
    "        if min_loss>test_loss_sum[0,0]:\n",
    "            sets[key]['W_best'] = W.copy()\n",
    "            sets[key]['b_best'] = b.copy()\n",
    "            min_loss = test_loss_sum[0,0]\n",
    "            stop_count = 0\n",
    "\n",
    "        print(f'{key}: Epoch {iter} train loss {loss_this_iter[0,0]}; Test loss: {test_loss_sum[0,0]}')\n",
    "        \n",
    "        #stops training if validation loss stops improving for 30 consecutive epochs\n",
    "        stop_count += 1\n",
    "        if stop_count>30:\n",
    "            break\n",
    "    \n",
    "    sets[key]['min_val_loss'] = min_loss\n",
    "    print('\\n')"
   ]
  },
  {
   "cell_type": "code",
   "execution_count": 31,
   "metadata": {
    "colab": {
     "base_uri": "https://localhost:8080/",
     "height": 851
    },
    "id": "o5wNuxLzVezA",
    "outputId": "5039ec73-35fa-401b-e9f2-2cfe90a66069"
   },
   "outputs": [
    {
     "data": {
      "image/png": "[encoded data removed]",
      "text/plain": [
       "<Figure size 432x288 with 1 Axes>"
      ]
     },
     "metadata": {
      "needs_background": "light"
     },
     "output_type": "display_data"
    },
    {
     "data": {
      "image/png": "[encoded data removed]",
      "text/plain": [
       "<Figure size 432x288 with 1 Axes>"
      ]
     },
     "metadata": {
      "needs_background": "light"
     },
     "output_type": "display_data"
    },
    {
     "data": {
      "image/png": "[encoded data removed]",
      "text/plain": [
       "<Figure size 432x288 with 1 Axes>"
      ]
     },
     "metadata": {
      "needs_background": "light"
     },
     "output_type": "display_data"
    }
   ],
   "source": [
    "plt.figure()\n",
    "for key, value in sets.items():\n",
    "    plt.plot(np.arange(1, len(value['train_cost_arr']) + 1, 1), value['train_cost_arr'], label = \"Training cost, L:\"+\n",
    "             str(value['num_layers']) + \", alpha:\"+str(value['alpha']))\n",
    "    plt.plot(np.arange(1, len(value['test_cost_arr']) + 1, 1), value['test_cost_arr'], label = \"Validation Cost, \"+\n",
    "             \", Minimum val. cost: \"+str(np.round(value['min_val_loss'],1)))\n",
    "    plt.ylabel('Loss')\n",
    "    plt.xlabel('Epoch')\n",
    "    plt.title('For '+key)\n",
    "    plt.legend()\n",
    "    plt.show()"
   ]
  },
  {
   "cell_type": "code",
   "execution_count": 32,
   "metadata": {
    "colab": {
     "base_uri": "https://localhost:8080/"
    },
    "id": "7sPySV3PVezA",
    "outputId": "68435da6-e06f-4ce1-851c-450a412799a5"
   },
   "outputs": [
    {
     "name": "stdout",
     "output_type": "stream",
     "text": [
      "For set1\n",
      "Best validation accuracy: 0.9569\n",
      "\n",
      "\n",
      "For set2\n",
      "Best validation accuracy: 0.9193\n",
      "\n",
      "\n",
      "For set3\n",
      "Best validation accuracy: 0.9263\n",
      "\n",
      "\n"
     ]
    }
   ],
   "source": [
    "# For each set of parameters, give the best validation accuracy.\n",
    "# for key, value1 in sets.items():\n",
    "#     y = predict_y(value1[\"W_best\"], value1[\"b_best\"], X_test)\n",
    "for key, value in sets.items():\n",
    "    y_test_predicted = predict_y(value[\"W_best\"], value[\"b_best\"], X_test)\n",
    "    y_correct = y_test_predicted == y_test_indices\n",
    "    test_accuracy = np.sum(y_correct) / len(y_correct)\n",
    "    print(f'For {key}')\n",
    "    print('Best validation accuracy: %.4f' % (test_accuracy))\n",
    "    print('\\n')"
   ]
  },
  {
   "cell_type": "markdown",
   "metadata": {
    "id": "m8z1z3p7VezB"
   },
   "source": [
    "## PyTorch tutorial\n",
    "\n",
    "Is there an easier way to build this type of model? One way is to learn a framework such as TensorFlow or PyTorch. Both of these frameworks have their\n",
    "pros and cons, but PyTorch is probably the most productive neural network framework for research purposes. We'll use it here.\n",
    "\n",
    "The material for this tutorial is from\n",
    "[Anand Saha's PyTorch tutorial](https://github.com/anandsaha/deep.learning.with.pytorch)."
   ]
  },
  {
   "cell_type": "markdown",
   "metadata": {
    "id": "Ld8sIgMeVezB"
   },
   "source": [
    "### Tensors and Tensor operations\n",
    "\n",
    "Let's get some hands on experience with tensor creation and operations.\n",
    "The torch package contains the necessary data structures to create multidimensional tensors.\n",
    "It also defines the mathematical operations that can be performed on these."
   ]
  },
  {
   "cell_type": "code",
   "execution_count": 33,
   "metadata": {
    "id": "Fgs-Mwh2VezB"
   },
   "outputs": [],
   "source": [
    "import torch"
   ]
  },
  {
   "cell_type": "code",
   "execution_count": 34,
   "metadata": {
    "colab": {
     "base_uri": "https://localhost:8080/"
    },
    "id": "gAHLpBBGVezB",
    "outputId": "1756f5e9-6e03-44e5-8133-d77ecdaf2386"
   },
   "outputs": [
    {
     "name": "stdout",
     "output_type": "stream",
     "text": [
      "1.12.1+cu113\n"
     ]
    }
   ],
   "source": [
    "print(torch.__version__)"
   ]
  },
  {
   "cell_type": "markdown",
   "metadata": {
    "id": "mL9DdyBBVezC"
   },
   "source": [
    "### Tensor creation"
   ]
  },
  {
   "cell_type": "markdown",
   "metadata": {
    "id": "so0DJkiEVezC"
   },
   "source": [
    "Create a (2x3) dimentional Tensor.\n",
    "\n",
    "Note that a) You get back a FloatTensor b) The values are uninitialized"
   ]
  },
  {
   "cell_type": "code",
   "execution_count": 35,
   "metadata": {
    "colab": {
     "base_uri": "https://localhost:8080/"
    },
    "id": "j2HOT-z7VezC",
    "outputId": "d85b59b8-d132-4e25-d3b8-17a68fbd2995"
   },
   "outputs": [
    {
     "name": "stdout",
     "output_type": "stream",
     "text": [
      "tensor([[2.8706e-34, 0.0000e+00, 3.7835e-44],\n",
      "        [0.0000e+00,        nan, 0.0000e+00]])\n"
     ]
    }
   ],
   "source": [
    "t = torch.Tensor(2, 3)\n",
    "print(t)"
   ]
  },
  {
   "cell_type": "markdown",
   "metadata": {
    "id": "GK_aHKOXVezD"
   },
   "source": [
    "The above call was equivalent to"
   ]
  },
  {
   "cell_type": "code",
   "execution_count": 36,
   "metadata": {
    "colab": {
     "base_uri": "https://localhost:8080/"
    },
    "id": "uPThneE1VezD",
    "outputId": "fff52f14-703d-43ef-cfdc-7009eb04a1e9"
   },
   "outputs": [
    {
     "name": "stdout",
     "output_type": "stream",
     "text": [
      "tensor([[2.8707e-34, 0.0000e+00, 5.0447e-44],\n",
      "        [0.0000e+00,        nan, 0.0000e+00]])\n"
     ]
    }
   ],
   "source": [
    "t = torch.FloatTensor(2, 3)\n",
    "print(t)"
   ]
  },
  {
   "cell_type": "markdown",
   "metadata": {
    "id": "bkra78MfVezD"
   },
   "source": [
    "Inspect type of an element"
   ]
  },
  {
   "cell_type": "code",
   "execution_count": 37,
   "metadata": {
    "colab": {
     "base_uri": "https://localhost:8080/"
    },
    "id": "fV3BCQFSVezE",
    "outputId": "29120344-2353-4862-d278-185a4323b45d"
   },
   "outputs": [
    {
     "data": {
      "text/plain": [
       "tensor(2.8707e-34)"
      ]
     },
     "execution_count": 37,
     "metadata": {},
     "output_type": "execute_result"
    }
   ],
   "source": [
    "t[0][0]"
   ]
  },
  {
   "cell_type": "code",
   "execution_count": 38,
   "metadata": {
    "colab": {
     "base_uri": "https://localhost:8080/"
    },
    "id": "Phm53PfmVezE",
    "outputId": "9ee18808-d94a-4ccc-9a7e-f1b2297e85d0"
   },
   "outputs": [
    {
     "data": {
      "text/plain": [
       "torch.Tensor"
      ]
     },
     "execution_count": 38,
     "metadata": {},
     "output_type": "execute_result"
    }
   ],
   "source": [
    "type(t[0][0])"
   ]
  },
  {
   "cell_type": "markdown",
   "metadata": {
    "id": "f1QkPF7dVezE"
   },
   "source": [
    "Inspect `t`'s dimensions"
   ]
  },
  {
   "cell_type": "code",
   "execution_count": 39,
   "metadata": {
    "colab": {
     "base_uri": "https://localhost:8080/"
    },
    "id": "TDb0kZO6VezE",
    "outputId": "dd2798fa-348e-4343-c284-9ca83df4f29c"
   },
   "outputs": [
    {
     "name": "stdout",
     "output_type": "stream",
     "text": [
      "torch.Size([2, 3])\n",
      "2\n",
      "True\n"
     ]
    }
   ],
   "source": [
    "print(t.size())\n",
    "print(t.dim())\n",
    "print(len(t.size()) == t.dim())"
   ]
  },
  {
   "cell_type": "markdown",
   "metadata": {
    "id": "uNDZuIinVezF"
   },
   "source": [
    "Set values"
   ]
  },
  {
   "cell_type": "code",
   "execution_count": 40,
   "metadata": {
    "colab": {
     "base_uri": "https://localhost:8080/"
    },
    "id": "y_AtHtuKVezF",
    "outputId": "c3e8ae7b-5b04-4976-e79d-4520870caee7"
   },
   "outputs": [
    {
     "name": "stdout",
     "output_type": "stream",
     "text": [
      "tensor([[1., 2., 3.],\n",
      "        [4., 5., 6.]])\n"
     ]
    }
   ],
   "source": [
    "t[0][0] = 1\n",
    "t[0][1] = 2\n",
    "t[0][2] = 3\n",
    "t[1][0] = 4\n",
    "t[1][1] = 5\n",
    "t[1][2] = 6\n",
    "print(t)"
   ]
  },
  {
   "cell_type": "markdown",
   "metadata": {
    "id": "wvFuQ_o0VezF"
   },
   "source": [
    "Let's cast a FloatTensor to IntTensor"
   ]
  },
  {
   "cell_type": "code",
   "execution_count": 41,
   "metadata": {
    "colab": {
     "base_uri": "https://localhost:8080/"
    },
    "id": "BfFHZNQSVezF",
    "outputId": "73a2fbda-0755-46ee-fe4b-a063891418c3"
   },
   "outputs": [
    {
     "name": "stdout",
     "output_type": "stream",
     "text": [
      "tensor([1.1000, 2.2000])\n"
     ]
    },
    {
     "data": {
      "text/plain": [
       "tensor([1, 2], dtype=torch.int32)"
      ]
     },
     "execution_count": 41,
     "metadata": {},
     "output_type": "execute_result"
    }
   ],
   "source": [
    "t = torch.FloatTensor([1.1, 2.2])\n",
    "print(t)\n",
    "t.type(torch.IntTensor)"
   ]
  },
  {
   "cell_type": "markdown",
   "metadata": {
    "id": "zjTdNN12VezF"
   },
   "source": [
    "Let's explore some other ways of creating a tensor"
   ]
  },
  {
   "cell_type": "code",
   "execution_count": 42,
   "metadata": {
    "colab": {
     "base_uri": "https://localhost:8080/"
    },
    "id": "WaSLjVcBVezF",
    "outputId": "b76249c3-83d4-4483-a96a-9ce323cf0d89"
   },
   "outputs": [
    {
     "name": "stdout",
     "output_type": "stream",
     "text": [
      "tensor([1.1000, 2.2000])\n"
     ]
    }
   ],
   "source": [
    "# From another Tensor\n",
    "\n",
    "t2 = torch.Tensor(t)\n",
    "print(t2)"
   ]
  },
  {
   "cell_type": "code",
   "execution_count": 43,
   "metadata": {
    "colab": {
     "base_uri": "https://localhost:8080/"
    },
    "id": "4zgeIejNVezG",
    "outputId": "2b8c76d8-1bbf-465f-a254-0c816502d14d"
   },
   "outputs": [
    {
     "name": "stdout",
     "output_type": "stream",
     "text": [
      "tensor([[1, 2],\n",
      "        [3, 4]], dtype=torch.int32)\n"
     ]
    }
   ],
   "source": [
    "# From a Python list\n",
    "\n",
    "t3 = torch.IntTensor([[1, 2],[3, 4]])\n",
    "print(t3)"
   ]
  },
  {
   "cell_type": "code",
   "execution_count": 44,
   "metadata": {
    "colab": {
     "base_uri": "https://localhost:8080/"
    },
    "id": "P8vdFV7uVezG",
    "outputId": "1f39f44c-04ee-4485-e5fa-472d22ae76d2"
   },
   "outputs": [
    {
     "name": "stdout",
     "output_type": "stream",
     "text": [
      "tensor([55., 66.])\n"
     ]
    }
   ],
   "source": [
    "# From a NumPy array\n",
    "\n",
    "import numpy as np\n",
    "a = np.array([55, 66])\n",
    "t4 = torch.Tensor(a)\n",
    "print(t4)"
   ]
  },
  {
   "cell_type": "code",
   "execution_count": 45,
   "metadata": {
    "colab": {
     "base_uri": "https://localhost:8080/"
    },
    "id": "ytgjoOtuVezG",
    "outputId": "a0e59e57-8017-4bcc-900a-555a05f70eef"
   },
   "outputs": [
    {
     "name": "stdout",
     "output_type": "stream",
     "text": [
      "tensor([[0., 0., 0.],\n",
      "        [0., 0., 0.]])\n"
     ]
    }
   ],
   "source": [
    "# Create a Tensor with all zeros\n",
    "\n",
    "t5 = torch.zeros(2, 3)\n",
    "print(t5)"
   ]
  },
  {
   "cell_type": "code",
   "execution_count": 46,
   "metadata": {
    "colab": {
     "base_uri": "https://localhost:8080/"
    },
    "id": "b0yJbcMNVezG",
    "outputId": "a0d82abc-4d31-4dd9-b37e-ae3d5ac92e58"
   },
   "outputs": [
    {
     "name": "stdout",
     "output_type": "stream",
     "text": [
      "tensor([[1., 1., 1.],\n",
      "        [1., 1., 1.]])\n"
     ]
    }
   ],
   "source": [
    "# Create a Tensor with all ones\n",
    "\n",
    "t6 = torch.ones(2, 3)\n",
    "print(t6)"
   ]
  },
  {
   "cell_type": "code",
   "execution_count": 47,
   "metadata": {
    "colab": {
     "base_uri": "https://localhost:8080/"
    },
    "id": "ulcfg64kVezG",
    "outputId": "75ecc824-a834-4ca1-93f4-4469b0710738"
   },
   "outputs": [
    {
     "name": "stdout",
     "output_type": "stream",
     "text": [
      "tensor([1., 1.])\n"
     ]
    }
   ],
   "source": [
    "# Create a Tensor with all ones with dimensions \n",
    "# of another Tensor\n",
    "\n",
    "t7 = torch.ones_like(t4)\n",
    "print(t7)"
   ]
  },
  {
   "cell_type": "markdown",
   "metadata": {
    "id": "2zspnjg8VezH"
   },
   "source": [
    "### Tensor operations"
   ]
  },
  {
   "cell_type": "markdown",
   "metadata": {
    "id": "hAz8R2sNVezH"
   },
   "source": [
    "Add two Tensors"
   ]
  },
  {
   "cell_type": "code",
   "execution_count": 48,
   "metadata": {
    "colab": {
     "base_uri": "https://localhost:8080/"
    },
    "id": "MLAyIshmVezH",
    "outputId": "08e0c36c-f5f9-4ac3-e8d3-493d92a833d6"
   },
   "outputs": [
    {
     "name": "stdout",
     "output_type": "stream",
     "text": [
      "tensor([[2., 2.],\n",
      "        [2., 2.]])\n"
     ]
    }
   ],
   "source": [
    "t1 = torch.ones(2, 2)\n",
    "t2 = torch.ones(2, 2)\n",
    "t = t1 + t2\n",
    "print(t)"
   ]
  },
  {
   "cell_type": "markdown",
   "metadata": {
    "id": "gZlmuD3UVezH"
   },
   "source": [
    "Inplace/out-of-place operations"
   ]
  },
  {
   "cell_type": "code",
   "execution_count": 49,
   "metadata": {
    "colab": {
     "base_uri": "https://localhost:8080/"
    },
    "id": "hdVGd8KxVezH",
    "outputId": "3b7c047a-e07f-4779-91d2-e37b581a56f1"
   },
   "outputs": [
    {
     "data": {
      "text/plain": [
       "tensor([[2., 2.],\n",
       "        [2., 2.]])"
      ]
     },
     "execution_count": 49,
     "metadata": {},
     "output_type": "execute_result"
    }
   ],
   "source": [
    "t1.add(t2)"
   ]
  },
  {
   "cell_type": "code",
   "execution_count": 50,
   "metadata": {
    "colab": {
     "base_uri": "https://localhost:8080/"
    },
    "id": "Mu8FQEpRVezH",
    "outputId": "75040cc4-e4bd-4b7f-a2a2-2ec948e67552"
   },
   "outputs": [
    {
     "name": "stdout",
     "output_type": "stream",
     "text": [
      "tensor([[1., 1.],\n",
      "        [1., 1.]])\n"
     ]
    }
   ],
   "source": [
    "print(t1)"
   ]
  },
  {
   "cell_type": "code",
   "execution_count": 51,
   "metadata": {
    "colab": {
     "base_uri": "https://localhost:8080/"
    },
    "id": "ZW1IzL6oVezI",
    "outputId": "db5287fa-d4b7-473a-d3a1-362efc6d1536"
   },
   "outputs": [
    {
     "data": {
      "text/plain": [
       "tensor([[2., 2.],\n",
       "        [2., 2.]])"
      ]
     },
     "execution_count": 51,
     "metadata": {},
     "output_type": "execute_result"
    }
   ],
   "source": [
    "t1.add_(t2)"
   ]
  },
  {
   "cell_type": "code",
   "execution_count": 52,
   "metadata": {
    "colab": {
     "base_uri": "https://localhost:8080/"
    },
    "id": "ZiLOGilXVezI",
    "outputId": "b397be9a-e307-42ff-c080-164d55cedfcd"
   },
   "outputs": [
    {
     "name": "stdout",
     "output_type": "stream",
     "text": [
      "tensor([[2., 2.],\n",
      "        [2., 2.]])\n"
     ]
    }
   ],
   "source": [
    "print(t1)"
   ]
  },
  {
   "cell_type": "markdown",
   "metadata": {
    "id": "Mg15YwqvVezI"
   },
   "source": [
    "Class methods and package functions"
   ]
  },
  {
   "cell_type": "code",
   "execution_count": 53,
   "metadata": {
    "colab": {
     "base_uri": "https://localhost:8080/"
    },
    "id": "ZpWT5NxQVezI",
    "outputId": "725d74bf-6ee5-463d-ed15-324b6ab0766f"
   },
   "outputs": [
    {
     "data": {
      "text/plain": [
       "tensor([[-0.4161, -0.4161],\n",
       "        [-0.4161, -0.4161]])"
      ]
     },
     "execution_count": 53,
     "metadata": {},
     "output_type": "execute_result"
    }
   ],
   "source": [
    "t1.cos()"
   ]
  },
  {
   "cell_type": "code",
   "execution_count": 54,
   "metadata": {
    "colab": {
     "base_uri": "https://localhost:8080/"
    },
    "id": "NwFm5LJzVezI",
    "outputId": "2c745de6-bb7c-4db4-e326-820fcc641508"
   },
   "outputs": [
    {
     "data": {
      "text/plain": [
       "tensor([[-0.4161, -0.4161],\n",
       "        [-0.4161, -0.4161]])"
      ]
     },
     "execution_count": 54,
     "metadata": {},
     "output_type": "execute_result"
    }
   ],
   "source": [
    "torch.cos(t1)"
   ]
  },
  {
   "cell_type": "markdown",
   "metadata": {
    "id": "_gKjzzLaVezJ"
   },
   "source": [
    "A few more operations"
   ]
  },
  {
   "cell_type": "code",
   "execution_count": 55,
   "metadata": {
    "colab": {
     "base_uri": "https://localhost:8080/"
    },
    "id": "WF4j5vERVezJ",
    "outputId": "6b39c460-db55-47d5-b4a0-bd00f8b4bf5f"
   },
   "outputs": [
    {
     "data": {
      "text/plain": [
       "tensor([ 3.0000,  4.7500,  6.5000,  8.2500, 10.0000])"
      ]
     },
     "execution_count": 55,
     "metadata": {},
     "output_type": "execute_result"
    }
   ],
   "source": [
    "# Create a one-dimensional tensor of steps equally \n",
    "# spaced points between start and end\n",
    "\n",
    "torch.linspace(3, 10, steps=5)"
   ]
  },
  {
   "cell_type": "code",
   "execution_count": 56,
   "metadata": {
    "colab": {
     "base_uri": "https://localhost:8080/"
    },
    "id": "dsZWDK70VezJ",
    "outputId": "9c8d5713-2beb-42a0-897d-ab9e48659ec9"
   },
   "outputs": [
    {
     "data": {
      "text/plain": [
       "tensor([0, 1, 2, 3, 4])"
      ]
     },
     "execution_count": 56,
     "metadata": {},
     "output_type": "execute_result"
    }
   ],
   "source": [
    "# Create a 1-D Tensor with values from [start, end)\n",
    "\n",
    "torch.arange(0, 5)"
   ]
  },
  {
   "cell_type": "code",
   "execution_count": 57,
   "metadata": {
    "colab": {
     "base_uri": "https://localhost:8080/"
    },
    "id": "NKbX6NdaVezJ",
    "outputId": "92910205-df6c-4efb-f0af-c465bb55122a"
   },
   "outputs": [
    {
     "data": {
      "text/plain": [
       "tensor([[0.6106, 0.7185, 0.1354],\n",
       "        [0.8941, 0.2841, 0.4927]])"
      ]
     },
     "execution_count": 57,
     "metadata": {},
     "output_type": "execute_result"
    }
   ],
   "source": [
    "# Create a (2x3) Tensor with random values sampled \n",
    "# from uniform distrubution on the interval [0,1)\n",
    "\n",
    "torch.rand((2,3))"
   ]
  },
  {
   "cell_type": "code",
   "execution_count": 58,
   "metadata": {
    "colab": {
     "base_uri": "https://localhost:8080/"
    },
    "id": "-ML3-PRdVezK",
    "outputId": "f8d916d9-91a7-4669-dd67-0f658637d610"
   },
   "outputs": [
    {
     "data": {
      "text/plain": [
       "tensor([[-1.6061,  0.2060,  1.3241],\n",
       "        [ 0.4231,  0.5464,  0.7447]])"
      ]
     },
     "execution_count": 58,
     "metadata": {},
     "output_type": "execute_result"
    }
   ],
   "source": [
    "# Create a (2x3) Tensor with random values sampled \n",
    "# from normal distrubution with 0 mean and variance 1\n",
    "\n",
    "torch.randn((2,3))"
   ]
  },
  {
   "cell_type": "code",
   "execution_count": 59,
   "metadata": {
    "colab": {
     "base_uri": "https://localhost:8080/"
    },
    "id": "UADzVijUVezK",
    "outputId": "09127ee1-8aa7-480d-d5b4-d73fb71e5e56"
   },
   "outputs": [
    {
     "data": {
      "text/plain": [
       "tensor([[1.0239, 1.0807],\n",
       "        [0.7980, 0.8367]])"
      ]
     },
     "execution_count": 59,
     "metadata": {},
     "output_type": "execute_result"
    }
   ],
   "source": [
    "# Do a matrix multiply\n",
    "\n",
    "a = torch.rand((2, 3))\n",
    "b = torch.rand((3, 2))\n",
    "\n",
    "torch.mm(a, b)"
   ]
  },
  {
   "cell_type": "markdown",
   "metadata": {
    "id": "3IDL0ZsZVezK"
   },
   "source": [
    "### Variables\n",
    "\n",
    "Next, let's understand variables in PyTorch and the operations we can perform on them."
   ]
  },
  {
   "cell_type": "code",
   "execution_count": 60,
   "metadata": {
    "id": "nMm-j-rYVezL"
   },
   "outputs": [],
   "source": [
    "import torch\n",
    "from torch.autograd import Variable"
   ]
  },
  {
   "cell_type": "markdown",
   "metadata": {
    "id": "vOQy_P3IVezL"
   },
   "source": [
    "Let's create a small computation graph"
   ]
  },
  {
   "cell_type": "code",
   "execution_count": 61,
   "metadata": {
    "id": "170jrNADVezL"
   },
   "outputs": [],
   "source": [
    "x = Variable(torch.FloatTensor([11.2]), requires_grad=True)\n",
    "y = 2 * x"
   ]
  },
  {
   "cell_type": "code",
   "execution_count": 62,
   "metadata": {
    "colab": {
     "base_uri": "https://localhost:8080/"
    },
    "id": "KPpT-2GNVezL",
    "outputId": "a33a66e2-4c84-47f5-edc0-ef04baed6b41"
   },
   "outputs": [
    {
     "name": "stdout",
     "output_type": "stream",
     "text": [
      "tensor([11.2000], requires_grad=True)\n",
      "tensor([22.4000], grad_fn=<MulBackward0>)\n"
     ]
    }
   ],
   "source": [
    "print(x)\n",
    "print(y)"
   ]
  },
  {
   "cell_type": "code",
   "execution_count": 63,
   "metadata": {
    "colab": {
     "base_uri": "https://localhost:8080/"
    },
    "id": "D0-HC_C8VezM",
    "outputId": "159e39ff-a091-47bf-c8c0-b92a3183185b"
   },
   "outputs": [
    {
     "name": "stdout",
     "output_type": "stream",
     "text": [
      "tensor([11.2000])\n",
      "tensor([22.4000])\n"
     ]
    }
   ],
   "source": [
    "print(x.data)\n",
    "print(y.data)"
   ]
  },
  {
   "cell_type": "code",
   "execution_count": 64,
   "metadata": {
    "colab": {
     "base_uri": "https://localhost:8080/"
    },
    "id": "1gzOhp6WVezN",
    "outputId": "1ea0d1ff-7f7d-44b4-f1fb-b24b36d04e41"
   },
   "outputs": [
    {
     "name": "stdout",
     "output_type": "stream",
     "text": [
      "None\n",
      "<MulBackward0 object at 0x7fcdc8231d90>\n"
     ]
    }
   ],
   "source": [
    "print(x.grad_fn)\n",
    "print(y.grad_fn)"
   ]
  },
  {
   "cell_type": "code",
   "execution_count": 65,
   "metadata": {
    "id": "0zmPS8agVezO"
   },
   "outputs": [],
   "source": [
    "y.backward() # Calculates the gradients"
   ]
  },
  {
   "cell_type": "code",
   "execution_count": 66,
   "metadata": {
    "colab": {
     "base_uri": "https://localhost:8080/"
    },
    "id": "HY-mqNQxVezO",
    "outputId": "2f0a8606-417f-4166-eba1-b9b4c776ce79"
   },
   "outputs": [
    {
     "name": "stdout",
     "output_type": "stream",
     "text": [
      "tensor([2.])\n",
      "None\n"
     ]
    }
   ],
   "source": [
    "print(x.grad)\n",
    "print(y.grad)"
   ]
  },
  {
   "cell_type": "markdown",
   "metadata": {
    "id": "mudVkGsKVezP"
   },
   "source": [
    "### Working with PyTorch and NumPy"
   ]
  },
  {
   "cell_type": "code",
   "execution_count": 67,
   "metadata": {
    "id": "vzi38M3mVezP"
   },
   "outputs": [],
   "source": [
    "import torch\n",
    "import numpy as np"
   ]
  },
  {
   "cell_type": "markdown",
   "metadata": {
    "id": "jl_ctjxnVezP"
   },
   "source": [
    "Convert a NumPy array to Tensor"
   ]
  },
  {
   "cell_type": "code",
   "execution_count": 68,
   "metadata": {
    "colab": {
     "base_uri": "https://localhost:8080/"
    },
    "id": "_lsabx0TVezQ",
    "outputId": "5b0117b3-7897-4c50-9a6a-b54e798bfcf2"
   },
   "outputs": [
    {
     "name": "stdout",
     "output_type": "stream",
     "text": [
      "[2 3]\n",
      "tensor([2, 3])\n"
     ]
    }
   ],
   "source": [
    "n = np.array([2, 3])\n",
    "t = torch.from_numpy(n)\n",
    "print(n)\n",
    "print(t)"
   ]
  },
  {
   "cell_type": "markdown",
   "metadata": {
    "id": "b_m67G1JVezQ"
   },
   "source": [
    "Change a Tensor value, and see the change in \n",
    "corresponding NumPy array"
   ]
  },
  {
   "cell_type": "code",
   "execution_count": 69,
   "metadata": {
    "colab": {
     "base_uri": "https://localhost:8080/"
    },
    "id": "WaoIqMNvVezQ",
    "outputId": "a66b3e8f-1948-4fe4-9023-704fdd5d53b6"
   },
   "outputs": [
    {
     "name": "stdout",
     "output_type": "stream",
     "text": [
      "tensor([100,   3])\n"
     ]
    }
   ],
   "source": [
    "n[0] = 100\n",
    "print(t)"
   ]
  },
  {
   "cell_type": "markdown",
   "metadata": {
    "id": "fu1Q8CziVezQ"
   },
   "source": [
    "Convert a Tensor to NumPy array"
   ]
  },
  {
   "cell_type": "code",
   "execution_count": 70,
   "metadata": {
    "colab": {
     "base_uri": "https://localhost:8080/"
    },
    "id": "YCoGfmmZVezQ",
    "outputId": "c05c7edf-91e9-4171-dcaa-1a7129622cf5"
   },
   "outputs": [
    {
     "name": "stdout",
     "output_type": "stream",
     "text": [
      "tensor([5., 6.])\n",
      "[5. 6.]\n"
     ]
    }
   ],
   "source": [
    "t = torch.FloatTensor([5, 6])\n",
    "n = t.numpy()\n",
    "print(t)\n",
    "print(n)"
   ]
  },
  {
   "cell_type": "markdown",
   "metadata": {
    "id": "S_c90fPJVezQ"
   },
   "source": [
    "Change a Tensor value, and see the change in corresponding NumPy array"
   ]
  },
  {
   "cell_type": "code",
   "execution_count": 71,
   "metadata": {
    "colab": {
     "base_uri": "https://localhost:8080/"
    },
    "id": "DIWjQ2W2VezR",
    "outputId": "8de4b405-6f8b-48e3-ac33-24262e083221"
   },
   "outputs": [
    {
     "name": "stdout",
     "output_type": "stream",
     "text": [
      "[100.   6.]\n"
     ]
    }
   ],
   "source": [
    "t[0] = 100\n",
    "print(n)"
   ]
  },
  {
   "cell_type": "markdown",
   "metadata": {
    "id": "nuJblLxiVezR"
   },
   "source": [
    "### Tensors on GPU"
   ]
  },
  {
   "cell_type": "markdown",
   "metadata": {
    "id": "a9vmGVjmVezR"
   },
   "source": [
    "Check if your machine has GPU support"
   ]
  },
  {
   "cell_type": "code",
   "execution_count": 72,
   "metadata": {
    "colab": {
     "base_uri": "https://localhost:8080/"
    },
    "id": "LMvbY8WYVezR",
    "outputId": "c41f9850-37f4-4572-f1f1-976143c1b241"
   },
   "outputs": [
    {
     "name": "stdout",
     "output_type": "stream",
     "text": [
      "GPU Supported\n"
     ]
    }
   ],
   "source": [
    "if torch.cuda.is_available():\n",
    "    print(\"GPU Supported\")\n",
    "else:\n",
    "    print(\"GPU Not Supported\")"
   ]
  },
  {
   "cell_type": "markdown",
   "metadata": {
    "id": "v38EpicEVezR"
   },
   "source": [
    "Check the number of GPUs attached to this machine"
   ]
  },
  {
   "cell_type": "code",
   "execution_count": 73,
   "metadata": {
    "colab": {
     "base_uri": "https://localhost:8080/"
    },
    "id": "s70z-N3JVezS",
    "outputId": "b01e7035-a273-4bc2-c22e-46e7ffe278e3"
   },
   "outputs": [
    {
     "data": {
      "text/plain": [
       "1"
      ]
     },
     "execution_count": 73,
     "metadata": {},
     "output_type": "execute_result"
    }
   ],
   "source": [
    "torch.cuda.device_count()"
   ]
  },
  {
   "cell_type": "markdown",
   "metadata": {
    "id": "WzjwHpgWVezS"
   },
   "source": [
    "Get device name"
   ]
  },
  {
   "cell_type": "code",
   "execution_count": 74,
   "metadata": {
    "colab": {
     "base_uri": "https://localhost:8080/",
     "height": 35
    },
    "id": "JqpHlGx1VezS",
    "outputId": "95c4c4d9-519d-45f0-aed2-e1db255c2cbc"
   },
   "outputs": [
    {
     "data": {
      "application/vnd.google.colaboratory.intrinsic+json": {
       "type": "string"
      },
      "text/plain": [
       "'Tesla T4'"
      ]
     },
     "execution_count": 74,
     "metadata": {},
     "output_type": "execute_result"
    }
   ],
   "source": [
    "torch.cuda.get_device_name(0)"
   ]
  },
  {
   "cell_type": "markdown",
   "metadata": {
    "id": "UjQQbKFvVezS"
   },
   "source": [
    "Moving a Tensor to GPU"
   ]
  },
  {
   "cell_type": "code",
   "execution_count": 75,
   "metadata": {
    "id": "ZSWLTFC3VezS"
   },
   "outputs": [],
   "source": [
    "t = torch.FloatTensor([2, 3])"
   ]
  },
  {
   "cell_type": "code",
   "execution_count": 76,
   "metadata": {
    "colab": {
     "base_uri": "https://localhost:8080/"
    },
    "id": "lO2YklkqVezS",
    "outputId": "9070549f-3941-4afd-c793-8e2296f8d4c1"
   },
   "outputs": [
    {
     "name": "stdout",
     "output_type": "stream",
     "text": [
      "tensor([2., 3.])\n"
     ]
    }
   ],
   "source": [
    "print(t)"
   ]
  },
  {
   "cell_type": "code",
   "execution_count": 77,
   "metadata": {
    "id": "NouKrDLbskiF"
   },
   "outputs": [],
   "source": [
    "t = t.cuda(0)"
   ]
  },
  {
   "cell_type": "markdown",
   "metadata": {
    "id": "SzIjByTEVezT"
   },
   "source": [
    "Creating a Tensor on GPU, directly"
   ]
  },
  {
   "cell_type": "code",
   "execution_count": 78,
   "metadata": {
    "colab": {
     "base_uri": "https://localhost:8080/"
    },
    "id": "OwlpU0DOVezT",
    "outputId": "72b0e0dc-d0a1-4e8e-e37c-a7ce7cea0375"
   },
   "outputs": [
    {
     "name": "stdout",
     "output_type": "stream",
     "text": [
      "tensor([2., 3.], device='cuda:0')\n"
     ]
    }
   ],
   "source": [
    "t = torch.cuda.FloatTensor([2, 3])\n",
    "print(t)"
   ]
  },
  {
   "cell_type": "markdown",
   "metadata": {
    "id": "txSVGEwlVezT"
   },
   "source": [
    "Bring it back to CPU"
   ]
  },
  {
   "cell_type": "code",
   "execution_count": 79,
   "metadata": {
    "colab": {
     "base_uri": "https://localhost:8080/"
    },
    "id": "SQz9EKOlVezT",
    "outputId": "a2410953-bc1f-4ef8-e02b-43f3aad97491"
   },
   "outputs": [
    {
     "name": "stdout",
     "output_type": "stream",
     "text": [
      "tensor([2., 3.])\n"
     ]
    }
   ],
   "source": [
    "t = t.cpu()\n",
    "print(t)"
   ]
  },
  {
   "cell_type": "markdown",
   "metadata": {
    "id": "vbK77z29VezT"
   },
   "source": [
    "Use device context"
   ]
  },
  {
   "cell_type": "code",
   "execution_count": 80,
   "metadata": {
    "colab": {
     "base_uri": "https://localhost:8080/"
    },
    "id": "-SDP47DaVezT",
    "outputId": "84014d24-fe2e-451d-ab4c-52537165b7b6"
   },
   "outputs": [
    {
     "name": "stdout",
     "output_type": "stream",
     "text": [
      "tensor([2., 3.], device='cuda:0')\n"
     ]
    }
   ],
   "source": [
    "with torch.cuda.device(0):\n",
    "    t = torch.cuda.FloatTensor([2, 3])\n",
    "    print(t)"
   ]
  },
  {
   "cell_type": "code",
   "execution_count": 80,
   "metadata": {
    "id": "HseATxRIVezU"
   },
   "outputs": [],
   "source": []
  },
  {
   "cell_type": "markdown",
   "metadata": {
    "_cell_guid": "ff5c0b1b-7df0-49e9-ac50-ffcb7c7ce68b",
    "_uuid": "d32496f0fda13237f626529660ef77ca6812abfe",
    "id": "ABdW5EOvVezU"
   },
   "source": [
    "\n",
    "## MNIST digit recognition using PyTorch\n",
    "\n",
    "This part of the lab was\n",
    "taken from the [Kaggle tutorial on MNIST with PyTorch]('https://www.kaggle.com/justuser/mnist-with-pytorch-fully-connected-network).\n",
    "\n",
    "We will use a fully connected neural network and a batch learning algorithm and explain each\n",
    "step along the way.\n",
    "\n",
    "So, with that being said, let's start with imports that we will need.\n",
    "First of all, we need to import PyTorch. There are some common names for torch modules (like numpy is always named np):  torch.nn.functional is imported as F,  torch.nn is the core module, and is simply imported as nn.\n",
    "Also, we need numpy. We also use pyplot and seaborn for visualization, but they are not required for the network itself. \n",
    "And finally, we use pandas for importing and transforming data.\n"
   ]
  },
  {
   "cell_type": "code",
   "execution_count": 81,
   "metadata": {
    "_cell_guid": "9c846800-05b5-40e4-9899-e3c5e6a149ba",
    "_uuid": "2945bec027bb7b48141bc406ccb6ecb19d240aaf",
    "id": "cSJFm4xeVezU"
   },
   "outputs": [],
   "source": [
    "import numpy as np\n",
    "import torch\n",
    "import torch.nn as nn\n",
    "import torch.nn.functional as F\n",
    "import torch.optim as optim\n",
    "from torch.autograd import Variable\n",
    "import pandas as pd\n",
    "import matplotlib.pyplot as plt\n",
    "import seaborn as sns\n",
    "%matplotlib inline\n",
    "import warnings\n",
    "warnings.filterwarnings(\"ignore\")"
   ]
  },
  {
   "cell_type": "markdown",
   "metadata": {
    "_cell_guid": "7ef86f98-c394-4595-8675-e2539ea2332d",
    "_uuid": "dc797b7df7d886a974e0fd36a7e30da01159875b",
    "id": "RhcH3a9_VezU"
   },
   "source": [
    "Now we can import and transform the data. I decided to split it into input and labels right away at this step:"
   ]
  },
  {
   "cell_type": "code",
   "execution_count": 82,
   "metadata": {
    "_cell_guid": "6d14bbd6-47d0-4b67-b3d4-d2cf21d46aab",
    "_uuid": "1bf6c2fde0bb1799d2c551cdeda74bb2a5e02bca",
    "colab": {
     "base_uri": "https://localhost:8080/"
    },
    "id": "Hn2PgN6jVezU",
    "outputId": "f05986ba-5474-4b56-b082-82e4ede33cc4"
   },
   "outputs": [
    {
     "name": "stdout",
     "output_type": "stream",
     "text": [
      "Reading the data...\n",
      "Reshaping the data...\n",
      "Data is ready\n"
     ]
    }
   ],
   "source": [
    "print(\"Reading the data...\")\n",
    "data = pd.read_csv('/content/train_mnist.csv', sep=\",\")\n",
    "test_data = pd.read_csv('/content/test_mnist.csv', sep=\",\")\n",
    "\n",
    "print(\"Reshaping the data...\")\n",
    "dataFinal = data.drop('label', axis=1)\n",
    "labels = data['label']\n",
    "\n",
    "\n",
    "dataNp = dataFinal.to_numpy()\n",
    "labelsNp = labels.to_numpy()\n",
    "test_dataNp = test_data.to_numpy()\n",
    "\n",
    "print(\"Data is ready\")"
   ]
  },
  {
   "cell_type": "markdown",
   "metadata": {
    "_cell_guid": "728ef5da-7b0f-4a32-9a0e-10d75e10173e",
    "_uuid": "d8441dfce526382bc0c9a0658add9df793f06ed1",
    "id": "hkkRilB2VezV"
   },
   "source": [
    "Now that data is ready, we can take a look at what we're dealing with. I will be using heatmaps from seaborn, which is an excellent tool for matrix visualization. But first, since the images in the MNIST dataset are represented as a long 1d arrays of pixels, we will need to reshape it into 2d array. That's where .reshape() from numpy comes in handy. The pictures are 28 x 28 pixels, so these will be the parameters.\n",
    "\n",
    "Let's select a couple random samples and visualize them. I will also print their labels, so we can compare images with their actual value:"
   ]
  },
  {
   "cell_type": "code",
   "execution_count": 83,
   "metadata": {
    "_cell_guid": "54405d05-313e-48b9-8984-14337df18c7d",
    "_uuid": "7c796bf8cece8a8fef7ab459c0e7624159f2f1e2",
    "colab": {
     "base_uri": "https://localhost:8080/",
     "height": 752
    },
    "id": "oPHwElfgVezV",
    "outputId": "0a3028ba-4c36-4300-eecd-f845feb2831b"
   },
   "outputs": [
    {
     "name": "stdout",
     "output_type": "stream",
     "text": [
      "8  /  9\n",
      "8  /  4\n",
      "9  /  1\n"
     ]
    },
    {
     "data": {
      "image/png": "[encoded data removed]",
      "text/plain": [
       "<Figure size 1008x864 with 12 Axes>"
      ]
     },
     "metadata": {
      "needs_background": "light"
     },
     "output_type": "display_data"
    }
   ],
   "source": [
    "plt.figure(figsize=(14, 12))\n",
    "\n",
    "pixels = dataNp[10].reshape(28, 28)\n",
    "plt.subplot(321)\n",
    "sns.heatmap(data=pixels)\n",
    "\n",
    "pixels = dataNp[11].reshape(28, 28)\n",
    "plt.subplot(322)\n",
    "sns.heatmap(data=pixels)\n",
    "\n",
    "pixels = dataNp[20].reshape(28, 28)\n",
    "plt.subplot(323)\n",
    "sns.heatmap(data=pixels)\n",
    "\n",
    "pixels = dataNp[32].reshape(28, 28)\n",
    "plt.subplot(324)\n",
    "sns.heatmap(data=pixels)\n",
    "\n",
    "pixels = dataNp[40].reshape(28, 28)\n",
    "plt.subplot(325)\n",
    "sns.heatmap(data=pixels)\n",
    "\n",
    "pixels = dataNp[52].reshape(28, 28)\n",
    "plt.subplot(326)\n",
    "sns.heatmap(data=pixels)\n",
    "\n",
    "print(labels[10], \" / \", labels[11])\n",
    "print(labels[20], \" / \", labels[32])\n",
    "print(labels[40], \" / \", labels[52])"
   ]
  },
  {
   "cell_type": "markdown",
   "metadata": {
    "_cell_guid": "b7a5f805-f8dd-4288-b44d-8984f479ae7f",
    "_uuid": "147ebd083edc2cf96c8e0aefb3893dc971fc5f0b",
    "id": "fis_XQ8HVezV"
   },
   "source": [
    "PyTorch has it's own way to store data - those are called tensors, and they are just like numpy arrays, but are suited for PyTorch needs. If we want to feed the data to the network, we need to transform the dataset into those tensors. The good news is that PyTorch can easily do that by transforming numpy arrays or regular lists into tensors."
   ]
  },
  {
   "cell_type": "code",
   "execution_count": 84,
   "metadata": {
    "_cell_guid": "410167b2-846d-4363-831b-84349053ecfd",
    "_uuid": "af8849f388dd69082bdcf52ea48547eb0ea1a483",
    "id": "g_M-i13gVezV"
   },
   "outputs": [],
   "source": [
    "x = torch.FloatTensor(dataNp.tolist())\n",
    "y = torch.LongTensor(labelsNp.tolist())"
   ]
  },
  {
   "cell_type": "markdown",
   "metadata": {
    "_cell_guid": "4131196e-07e4-49a5-8380-f0fcfccba081",
    "_uuid": "fcd60bddacdb2146d7d3fa272eb3dc766d8314fe",
    "id": "xKAqzPe5VezV"
   },
   "source": [
    "Before we start writing the actual network, we need to determine what will be the hyperparameters. Those will not be adjusted during training, so we need to be careful how we set them up. \n",
    "\n",
    "Here's what we will specify:\n",
    "* **input_size** - size of the input layer, it is always fixed (784 pixels)\n",
    "* **output_size** - size of the output layer, also fixed size (10 for every possible digit)\n",
    "* **hidden_size** - size of the hidden layer, this parameter determines structure of the network. 200 worked for me, but it is worth to play with this parameter to see what works for you\n",
    "* **epochs** - how many times will the network go through the entire dataset during training. \n",
    "* **learning_rate** - determines how fast will the network learn. You should be very careful about this parameter, because if it is too high, the network won't learn at all, if it is too low, the net will learn too long. I's always about balance. Usualy 10^-3 - 10^-5 works just fine.\n",
    "* **batch_size** - size of mini batches during training"
   ]
  },
  {
   "cell_type": "code",
   "execution_count": 85,
   "metadata": {
    "_cell_guid": "80dd6a9a-c28f-4a16-b8fe-6c2c4986422c",
    "_uuid": "fdc55b6ed97d0d641046f977cb7a578ad80fbc57",
    "id": "tO18DLzOVezV"
   },
   "outputs": [],
   "source": [
    "# hyperparameters\n",
    "input_size = 784\n",
    "output_size = 10\n",
    "hidden_size = 200\n",
    "\n",
    "epochs = 20\n",
    "batch_size = 50\n",
    "learning_rate = 0.00005"
   ]
  },
  {
   "cell_type": "markdown",
   "metadata": {
    "_cell_guid": "4d2b9f6c-8fb0-4468-b7ce-88cb3d28fcef",
    "_uuid": "507d4fb6939a3a9093ff3eabf1dd841ba5880b97",
    "id": "SQoO63UxVezW"
   },
   "source": [
    "Now we can finally write the actual network. To make it all work, the Network class needs to inherit the *nn.Module*, which gives it the basic functionality required, and allows PyTorch to work with it as expected. \n",
    "\n",
    "When writing a PyTorch neural network, some things must always be there:\n",
    "* \\__init\\__(self) - initializes the net and creates an instance of that *nn.Module*. Here we define the structure of the network.\n",
    "* forward(self, x) - defines forward propagation and how the data flow through the network. Of course, it is based on the structure that is defined in the previous function.\n",
    "\n",
    "In the initialization, first of all, we need to initialize super (or base) module that the net inherits. After that first line, is the definition of structure. You can experiment with (put more layers or change hidden layer size, etc.), but this structure worked for me just fine.\n",
    "\n",
    "In forward propagation we simply reassign the value of x as it flows through the layers and return the [softmax](https://en.wikipedia.org/wiki/Softmax_function) at the end."
   ]
  },
  {
   "cell_type": "code",
   "execution_count": 86,
   "metadata": {
    "_cell_guid": "f238d14f-05bb-4a49-b031-5eaa47bddc64",
    "_uuid": "dc77322a324a27ef7a7f30b0432bfd0d3da3e567",
    "id": "zr9waypsVezW"
   },
   "outputs": [],
   "source": [
    "class Network(nn.Module):\n",
    "    \n",
    "    def __init__(self):\n",
    "        super(Network, self).__init__()\n",
    "        self.l1 = nn.Linear(input_size, hidden_size)\n",
    "        self.relu = nn.ReLU()\n",
    "        self.l3 = nn.Linear(hidden_size, output_size)\n",
    "        \n",
    "    def forward(self, x):\n",
    "        x = self.l1(x)\n",
    "        x = self.relu(x)\n",
    "        x = self.l3(x)\n",
    "        return F.log_softmax(x)"
   ]
  },
  {
   "cell_type": "markdown",
   "metadata": {
    "_cell_guid": "02a3fe74-b0d4-4d78-bcee-4fffc6acca89",
    "_uuid": "e4dbac71f5f491cf8e79b127cbe18a4e90c65d71",
    "id": "bCJeiLIVVezW"
   },
   "source": [
    "After we've defined the network, we can initialize it. \n",
    "Also, if we \"print\" the instance of the net, we can see the structure of it in a neat format:"
   ]
  },
  {
   "cell_type": "code",
   "execution_count": 87,
   "metadata": {
    "_cell_guid": "2376a5b3-3f93-46ac-8e19-e22cf3fb3f01",
    "_uuid": "b70b7208f45abe5b9324735a515c6259cc4fb3e3",
    "colab": {
     "base_uri": "https://localhost:8080/"
    },
    "id": "2TQ1LRKdVezX",
    "outputId": "ce9ba9a4-8f1c-43a1-ef84-3d4f193c7217"
   },
   "outputs": [
    {
     "name": "stdout",
     "output_type": "stream",
     "text": [
      "Network(\n",
      "  (l1): Linear(in_features=784, out_features=200, bias=True)\n",
      "  (relu): ReLU()\n",
      "  (l3): Linear(in_features=200, out_features=10, bias=True)\n",
      ")\n"
     ]
    }
   ],
   "source": [
    "net = Network()\n",
    "print(net)"
   ]
  },
  {
   "cell_type": "markdown",
   "metadata": {
    "_cell_guid": "75eaeb97-f840-4862-8819-109b023660a7",
    "_uuid": "4cb26c4f84a53abdd5f4c3f7fc0a625ef7d805c4",
    "id": "4n6sfJeuVezX"
   },
   "source": [
    "Now it's time to set up the [optimizer](http://pytorch.org/docs/master/optim.html) and a loss function. \n",
    "\n",
    "*There are quite a lot of things happening behind these two lines of code, so if you don't know what is going on here, don't worry too much for now, it will get clearer eventualy.* \n",
    "\n",
    "Optimizer is what  updates the parameters of the network. I will be using Stochastic Gradient Descent with momentum. Also, the optimizer takes the network parameters as an argument, but it's not a big deal since we can get those with .parameters() function.\n",
    "\n",
    "I decided to use [Cross Entropy Loss](https://en.wikipedia.org/wiki/Cross_entropy) for this problem, but again, there are many options and you are free to choose whatever suits you best."
   ]
  },
  {
   "cell_type": "code",
   "execution_count": 88,
   "metadata": {
    "_cell_guid": "f9fe7b0f-7fec-49f3-8cd2-a6fedd4c8048",
    "_uuid": "d4fd65ae06c5003428ab90b1557142f015152b7c",
    "id": "Oq2gZXLHVezX"
   },
   "outputs": [],
   "source": [
    "optimizer = optim.SGD(net.parameters(), lr=learning_rate, momentum=0.9)\n",
    "loss_func = nn.CrossEntropyLoss()"
   ]
  },
  {
   "cell_type": "markdown",
   "metadata": {
    "_cell_guid": "465d2e54-0a22-446d-9f87-d687f48140f3",
    "_uuid": "9684f943703fb995be47a7d92d1d281acc3dae32",
    "id": "jUCC1FFjVezY"
   },
   "source": [
    "Now that everything is ready, our network can start learning. I will separate data into minibatches and feed it to the network. It has many advantages over single batch learning, but that is a different story. \n",
    "\n",
    "Also, I will use loss_log list to keep track of the loss function during the training process. "
   ]
  },
  {
   "cell_type": "code",
   "execution_count": 89,
   "metadata": {
    "_cell_guid": "3b646efc-4cae-4f94-9350-e059e4c89446",
    "_uuid": "c1247ff34caf53e9894a1c2ea5c435c0e446d048",
    "colab": {
     "base_uri": "https://localhost:8080/"
    },
    "id": "6Kw7EyCPVezY",
    "outputId": "5e69e435-2f29-4de3-fd38-25e3837fe5ba"
   },
   "outputs": [
    {
     "name": "stdout",
     "output_type": "stream",
     "text": [
      "Epoch: 0 - Loss: 0.086294\n",
      "Epoch: 1 - Loss: 0.050125\n",
      "Epoch: 2 - Loss: 0.031920\n",
      "Epoch: 3 - Loss: 0.021491\n",
      "Epoch: 4 - Loss: 0.018111\n",
      "Epoch: 5 - Loss: 0.012939\n",
      "Epoch: 6 - Loss: 0.008541\n",
      "Epoch: 7 - Loss: 0.006218\n",
      "Epoch: 8 - Loss: 0.005761\n",
      "Epoch: 9 - Loss: 0.004843\n",
      "Epoch: 10 - Loss: 0.004294\n",
      "Epoch: 11 - Loss: 0.003333\n",
      "Epoch: 12 - Loss: 0.003212\n",
      "Epoch: 13 - Loss: 0.002664\n",
      "Epoch: 14 - Loss: 0.001942\n",
      "Epoch: 15 - Loss: 0.001676\n",
      "Epoch: 16 - Loss: 0.001416\n",
      "Epoch: 17 - Loss: 0.001241\n",
      "Epoch: 18 - Loss: 0.001209\n",
      "Epoch: 19 - Loss: 0.001090\n"
     ]
    }
   ],
   "source": [
    "loss_log = []\n",
    "\n",
    "for e in range(epochs):\n",
    "    for i in range(0, x.shape[0], batch_size):\n",
    "        x_mini = x[i:i + batch_size] \n",
    "        y_mini = y[i:i + batch_size] \n",
    "        \n",
    "        x_var = Variable(x_mini)\n",
    "        y_var = Variable(y_mini)\n",
    "        \n",
    "        optimizer.zero_grad()\n",
    "        net_out = net(x_var)\n",
    "        \n",
    "        loss = loss_func(net_out, y_var)\n",
    "        loss.backward()\n",
    "        optimizer.step()\n",
    "        \n",
    "        if i % 100 == 0:\n",
    "            loss_log.append(loss.item())\n",
    "        \n",
    "    print('Epoch: {} - Loss: {:.6f}'.format(e, loss.item()))"
   ]
  },
  {
   "cell_type": "markdown",
   "metadata": {
    "_cell_guid": "548ac762-97c0-48b9-98ff-93559b293c9a",
    "_uuid": "e3e6d56f52974ccb3120340695aed4b9bea0907b",
    "id": "j3jgHkIKVezY"
   },
   "source": [
    "So, let's go line by line and see what is happening here:\n",
    "\n",
    "This is the main loop that goes through all the epochs of training. An epoch is one full training on the full dataset.\n",
    "\n",
    "    for e in range(epochs):\n",
    "This is the inner loop that simply goes through the dataset batch by batch:\n",
    "\n",
    "    for i in range(0, x.shape[0], batch_size):\n",
    "Here is where we get the batches out of our data and simply assign them to variables for further work:\n",
    "\n",
    "    x_mini = x[i:i + batch_size] \n",
    "    y_mini = y[i:i + batch_size] \n",
    "   These two lines are quite *important*. Remember I told you about tensors and how PyTorch stores data in them? That's not the end of story. Actually, to allow the network to work with data, we need a wrapper for those tensors called Variable. It has some additional properties, like allowing automatic gradient computation when backpropagating. It is required for the proper work of PyTorch, so we will add them here and supply tensors as parameters:\n",
    "   \n",
    "    x_var = Variable(x_mini)\n",
    "    y_var = Variable(y_mini)\n",
    "This line just resets the gradient of the optimizer:\n",
    "    \n",
    "    optimizer.zero_grad()\n",
    "Remember the *forward(self, x)* function that we previously defined? The next line is basically calling this function and does the forward propagation:\n",
    "\n",
    "    net_out = net(x_var)\n",
    "This line computes the loss function based on predictions of the net and the correct answers:\n",
    "\n",
    "    loss = loss_func(net_out, y_var)\n",
    "Here we compute the gradient based on the loss that we've got. It will be used to adjust parameters of the network.\n",
    "\n",
    "    loss.backward()\n",
    "And here is where we finally update our network with new adjusted parameters:\n",
    "\n",
    "    optimizer.step()\n",
    "The rest is just logging, which might be helpful to observe how well the network is performing.\n",
    "\n",
    "After the network is done with training, we can take a look at the loss function, and how it behaved during training:"
   ]
  },
  {
   "cell_type": "code",
   "execution_count": 90,
   "metadata": {
    "_cell_guid": "5073f433-dbae-452b-8b7f-647e20c2d0dc",
    "_uuid": "4b635e76f4bb761ceef632c381546a2286442818",
    "colab": {
     "base_uri": "https://localhost:8080/",
     "height": 500
    },
    "id": "8cuMo5WwVezZ",
    "outputId": "da5b5262-8d24-417c-968c-f3769b4edd93"
   },
   "outputs": [
    {
     "data": {
      "text/plain": [
       "[<matplotlib.lines.Line2D at 0x7fcd7f389f50>]"
      ]
     },
     "execution_count": 90,
     "metadata": {},
     "output_type": "execute_result"
    },
    {
     "data": {
      "image/png": "[encoded data removed]",
      "text/plain": [
       "<Figure size 720x576 with 1 Axes>"
      ]
     },
     "metadata": {
      "needs_background": "light"
     },
     "output_type": "display_data"
    }
   ],
   "source": [
    "plt.figure(figsize=(10,8))\n",
    "plt.plot(loss_log)"
   ]
  },
  {
   "cell_type": "markdown",
   "metadata": {
    "_cell_guid": "91f7e895-9ff7-4363-82d4-c2dc847aa9c3",
    "_uuid": "c5e3981a9d1e16ad5b8dcf5916031a22ac3336db",
    "id": "AxckvEfjVezZ"
   },
   "source": [
    "At this point, the network should be trained, and we can make a prediction using the test dataset. All we need to do is wrap the data into the Variable and feed it to the trained net, so nothing new here."
   ]
  },
  {
   "cell_type": "code",
   "execution_count": 91,
   "metadata": {
    "_cell_guid": "9792a7ca-d5a8-499b-87d0-077ecf77685d",
    "_uuid": "72b3a1b85275cc4c1f5bc7f442bf81004014b118",
    "colab": {
     "base_uri": "https://localhost:8080/"
    },
    "id": "Fb7uqjFmVezZ",
    "outputId": "fb699bfd-21d2-4065-e884-e57e31e55870"
   },
   "outputs": [
    {
     "name": "stdout",
     "output_type": "stream",
     "text": [
      "[2 0 9 ... 3 9 2]\n"
     ]
    }
   ],
   "source": [
    "test = torch.FloatTensor(test_dataNp.tolist())\n",
    "test_var = Variable(test)\n",
    "\n",
    "net_out = net(test_var)\n",
    "\n",
    "print(torch.max(net_out.data, 1)[1].numpy())"
   ]
  },
  {
   "cell_type": "markdown",
   "metadata": {
    "_cell_guid": "f34cc0fb-c950-4346-b742-259b86d9374c",
    "_uuid": "fed2362db49fc9991a1fd0be98d29c55b03b6b82",
    "id": "8xard5_LVezZ"
   },
   "source": [
    "Now we have out predictions that are ready to be submitted. Before that, we can take a look at predictions and compare them to the actual pictures of digits, just like at the start with training data:"
   ]
  },
  {
   "cell_type": "code",
   "execution_count": 92,
   "metadata": {
    "_cell_guid": "bf0126d4-3eab-45ce-b84e-2f07c8fe9663",
    "_uuid": "41378dcf1951b3cbb7f929bec0a288bad007b72d",
    "colab": {
     "base_uri": "https://localhost:8080/",
     "height": 752
    },
    "id": "7u0X9T-4Veza",
    "outputId": "19de1d08-0f22-4bab-ee72-d625a30b1c7a"
   },
   "outputs": [
    {
     "name": "stdout",
     "output_type": "stream",
     "text": [
      "Prediction: 0 / 5\n",
      "Prediction: 9 / 7\n",
      "Prediction: 0 / 8\n"
     ]
    },
    {
     "data": {
      "image/png": "[encoded data removed]",
      "text/plain": [
       "<Figure size 1008x864 with 12 Axes>"
      ]
     },
     "metadata": {
      "needs_background": "light"
     },
     "output_type": "display_data"
    }
   ],
   "source": [
    "plt.figure(figsize=(14, 12))\n",
    "\n",
    "pixels = test_dataNp[1].reshape(28, 28)\n",
    "plt.subplot(321)\n",
    "sns.heatmap(data=pixels)\n",
    "test_sample = torch.FloatTensor(test_dataNp[1].tolist())\n",
    "test_var_sample = Variable(test_sample)\n",
    "net_out_sample = net(test_var_sample)\n",
    "\n",
    "pixels = test_dataNp[10].reshape(28, 28)\n",
    "plt.subplot(322)\n",
    "sns.heatmap(data=pixels)\n",
    "test_sample = torch.FloatTensor(test_dataNp[10].tolist())\n",
    "test_var_sample = Variable(test_sample)\n",
    "net_out_sample = net(test_var_sample)\n",
    "\n",
    "pixels = test_dataNp[20].reshape(28, 28)\n",
    "plt.subplot(323)\n",
    "sns.heatmap(data=pixels)\n",
    "test_sample = torch.FloatTensor(test_dataNp[20].tolist())\n",
    "test_var_sample = Variable(test_sample)\n",
    "net_out_sample = net(test_var_sample)\n",
    "\n",
    "pixels = test_dataNp[30].reshape(28, 28)\n",
    "plt.subplot(324)\n",
    "sns.heatmap(data=pixels)\n",
    "test_sample = torch.FloatTensor(test_dataNp[30].tolist())\n",
    "test_var_sample = Variable(test_sample)\n",
    "net_out_sample = net(test_var_sample)\n",
    "\n",
    "pixels = test_dataNp[100].reshape(28, 28)\n",
    "plt.subplot(325)\n",
    "sns.heatmap(data=pixels)\n",
    "test_sample = torch.FloatTensor(test_dataNp[100].tolist())\n",
    "test_var_sample = Variable(test_sample)\n",
    "net_out_sample = net(test_var_sample)\n",
    "\n",
    "pixels = test_dataNp[2000].reshape(28, 28)\n",
    "plt.subplot(326)\n",
    "sns.heatmap(data=pixels)\n",
    "test_sample = torch.FloatTensor(test_dataNp[1].tolist())\n",
    "test_var_sample = Variable(test_sample)\n",
    "net_out_sample = net(test_var_sample)\n",
    "\n",
    "\n",
    "print(\"Prediction: {} / {}\".format(torch.max(net_out.data, 1)[1].numpy()[1], torch.max(net_out.data, 1)[1].numpy()[10]))\n",
    "print(\"Prediction: {} / {}\".format(torch.max(net_out.data, 1)[1].numpy()[20], torch.max(net_out.data, 1)[1].numpy()[30]))\n",
    "print(\"Prediction: {} / {}\".format(torch.max(net_out.data, 1)[1].numpy()[100], torch.max(net_out.data, 1)[1].numpy()[2000]))"
   ]
  },
  {
   "cell_type": "code",
   "execution_count": 93,
   "metadata": {
    "_cell_guid": "22c40d7b-a3a4-4118-9aa5-d5191876ecd1",
    "_uuid": "c60e5abb1be0166b2c22aaad560885a74db21da9",
    "id": "qCwXd2BqVeza"
   },
   "outputs": [],
   "source": [
    "output = (torch.max(net_out.data, 1)[1]).numpy()\n",
    "#np.savetxt(\"out.csv\", np.dstack((np.arange(1, output.size+1),output))[0],\"%d,%d\",header=\"ImageId,Label\")"
   ]
  },
  {
   "cell_type": "markdown",
   "metadata": {
    "_cell_guid": "13d2eeae-86ea-499e-923a-642527f23ce0",
    "_uuid": "97523e84c3d8ee0be9aea776f3f7e6c109f05cdd",
    "id": "zoxQq3RYVeza"
   },
   "source": [
    "And that is about it, we've made a simple neural network using PyTorch that can recognize handwritten digits. Not so bad!\n",
    "\n",
    "When I was writing this notebook, this model scorred 96.6%, which is not perfect by any means, but it's not that bad either. \n",
    "\n",
    "I hope this was useful for some of you. If you are totally new to deep learning, I suggest you learn how the neural networks actually work from the inside, especially the backpropagation algorithm.\n",
    "\n",
    "These videos explain [neural nets](https://www.youtube.com/watch?v=aircAruvnKk&t=708s) and [backpropagation](https://www.youtube.com/watch?v=Ilg3gGewQ5U) quite well.\n",
    "\n",
    "Also I suggest you to take a look at this [online book](http://neuralnetworksanddeeplearning.com/chap1.html) (it's absolutely free, btw), where neural networks are explained in great detail, and it even has an implementation of the MNIST problem from scratch, using only numpy.\n",
    "\n",
    "If you have any feedback, feel free to leave comments down below, and good luck with your deep learning adventures :)"
   ]
  },
  {
   "cell_type": "markdown",
   "metadata": {
    "id": "NZeWiFNqVezb"
   },
   "source": [
    "## Take-home exercise (50 points)\n",
    "\n",
    "Make sure you can run the PyTorch examples of MNIST classification, then apply the PyTorch example to another\n",
    "classification problem you've worked with this semester, for example the breast cancer dataset. Get familiar with\n",
    "working with models in PyTorch.\n",
    "\n",
    "Report your experiments and results in your brief lab report."
   ]
  },
  {
   "cell_type": "code",
   "execution_count": 94,
   "metadata": {
    "colab": {
     "base_uri": "https://localhost:8080/"
    },
    "id": "CanS1mIYVezb",
    "outputId": "2b83973c-fc19-4e45-d68b-fc6d2f890d45"
   },
   "outputs": [
    {
     "name": "stdout",
     "output_type": "stream",
     "text": [
      "Index(['id', 'diagnosis', 'radius_mean', 'texture_mean', 'perimeter_mean',\n",
      "       'area_mean', 'smoothness_mean', 'compactness_mean', 'concavity_mean',\n",
      "       'concave points_mean', 'symmetry_mean', 'fractal_dimension_mean',\n",
      "       'radius_se', 'texture_se', 'perimeter_se', 'area_se', 'smoothness_se',\n",
      "       'compactness_se', 'concavity_se', 'concave points_se', 'symmetry_se',\n",
      "       'fractal_dimension_se', 'radius_worst', 'texture_worst',\n",
      "       'perimeter_worst', 'area_worst', 'smoothness_worst',\n",
      "       'compactness_worst', 'concavity_worst', 'concave points_worst',\n",
      "       'symmetry_worst', 'fractal_dimension_worst', 'Unnamed: 32'],\n",
      "      dtype='object')\n"
     ]
    }
   ],
   "source": [
    "from sklearn.model_selection import train_test_split\n",
    "from sklearn.preprocessing import StandardScaler\n",
    "\n",
    "data = pd.read_csv(\"breast_cancer.csv\")\n",
    "print(data.columns)"
   ]
  },
  {
   "cell_type": "code",
   "execution_count": 95,
   "metadata": {
    "id": "wdcG-Ly_Vezb"
   },
   "outputs": [],
   "source": [
    "X = data.drop(columns=['id','Unnamed: 32','diagnosis'])\n",
    "y = data['diagnosis']\n",
    "y, unique_y = pd.factorize(y)\n",
    "X_columns = X.columns\n",
    "\n",
    "X_train, X_test, y_train, y_test = train_test_split(X.values, y, test_size=0.2, random_state=42)\n",
    "\n",
    "scaler = StandardScaler()\n",
    "scaler.fit(X_train)\n",
    "\n",
    "X_train = scaler.transform(X_train)\n",
    "X_test = scaler.transform(X_test)\n",
    "\n",
    "X_train_tensor = torch.FloatTensor(X_train)\n",
    "X_test_tensor = torch.FloatTensor(X_test)\n",
    "y_train_tensor = torch.LongTensor(y_train)\n",
    "y_test_tensor = torch.LongTensor(y_test)"
   ]
  },
  {
   "cell_type": "code",
   "execution_count": 96,
   "metadata": {
    "colab": {
     "base_uri": "https://localhost:8080/"
    },
    "id": "xVBAR3w5zQy6",
    "outputId": "5c728882-963e-4703-f5bf-004bc51fc57e"
   },
   "outputs": [
    {
     "name": "stdout",
     "output_type": "stream",
     "text": [
      "30\n"
     ]
    }
   ],
   "source": [
    "print( X_train_tensor.shape[1])"
   ]
  },
  {
   "cell_type": "code",
   "execution_count": 97,
   "metadata": {
    "id": "iY0euae8Vezc"
   },
   "outputs": [],
   "source": [
    "# Your code here\n",
    "\n",
    "input_size = X_train_tensor.shape[1]\n",
    "output_size = 2\n",
    "hidden1_size = 20\n",
    "#hidden2_size = 10\n",
    "# hidden3_size = None\n",
    "# hidden4_size = None\n",
    "\n",
    "epochs = 100\n",
    "batch_size = 32\n",
    "learning_rate = 0.001"
   ]
  },
  {
   "cell_type": "code",
   "execution_count": 98,
   "metadata": {
    "id": "J47kY1gmVezc"
   },
   "outputs": [],
   "source": [
    "class Network(nn.Module):\n",
    "    \n",
    "    def __init__(self):\n",
    "        super(Network, self).__init__()\n",
    "        ### BEGIN SOLUTION\n",
    "        self.l1 = nn.Linear(input_size, hidden1_size)\n",
    "        self.relu1 = nn.ReLU()\n",
    "        self.l3 = nn.Linear(hidden1_size, output_size)\n",
    "        ### END SOLUTION\n",
    "        \n",
    "    def forward(self, x):\n",
    "        ### BEGIN SOLUTION\n",
    "        x = self.l1(x)\n",
    "        x = self.relu1(x)\n",
    "        x = self.l3(x)\n",
    "        return x\n",
    "        ### END SOLUTION"
   ]
  },
  {
   "cell_type": "code",
   "execution_count": 99,
   "metadata": {
    "colab": {
     "base_uri": "https://localhost:8080/"
    },
    "id": "S43mBrk8Vezc",
    "outputId": "45e153df-92a8-4468-d4a0-ea877aae29da"
   },
   "outputs": [
    {
     "name": "stdout",
     "output_type": "stream",
     "text": [
      "Network(\n",
      "  (l1): Linear(in_features=30, out_features=20, bias=True)\n",
      "  (relu1): ReLU()\n",
      "  (l3): Linear(in_features=20, out_features=2, bias=True)\n",
      ")\n"
     ]
    }
   ],
   "source": [
    "# Continue yourself\n",
    "net = Network()\n",
    "print(net)"
   ]
  },
  {
   "cell_type": "code",
   "execution_count": 100,
   "metadata": {
    "id": "t8gPSqQkxcH-"
   },
   "outputs": [],
   "source": [
    "optimizer = optim.SGD(net.parameters(), lr=learning_rate, momentum=0.9)\n",
    "loss_func = nn.CrossEntropyLoss() "
   ]
  },
  {
   "cell_type": "code",
   "execution_count": 101,
   "metadata": {
    "colab": {
     "base_uri": "https://localhost:8080/"
    },
    "id": "FRwzAXclxhtP",
    "outputId": "e080112e-0f95-4f7b-d11c-8475a3ca837d"
   },
   "outputs": [
    {
     "name": "stdout",
     "output_type": "stream",
     "text": [
      "torch.Size([455, 30])\n"
     ]
    }
   ],
   "source": [
    "# print(y_train_tensor)\n",
    "print(X_train_tensor.shape)"
   ]
  },
  {
   "cell_type": "code",
   "execution_count": 102,
   "metadata": {
    "colab": {
     "base_uri": "https://localhost:8080/"
    },
    "id": "4TEH4nzmxjEM",
    "outputId": "df806e91-e96d-4ba8-dcfb-b0c5edc4adac"
   },
   "outputs": [
    {
     "name": "stdout",
     "output_type": "stream",
     "text": [
      "Epoch: 0 - Loss 0.68646\n",
      "Epoch: 1 - Loss 0.614204\n",
      "Epoch: 2 - Loss 0.550531\n",
      "Epoch: 3 - Loss 0.500327\n",
      "Epoch: 4 - Loss 0.459133\n",
      "Epoch: 5 - Loss 0.423929\n",
      "Epoch: 6 - Loss 0.392902\n",
      "Epoch: 7 - Loss 0.365943\n",
      "Epoch: 8 - Loss 0.341264\n",
      "Epoch: 9 - Loss 0.316457\n",
      "Epoch: 10 - Loss 0.293906\n",
      "Epoch: 11 - Loss 0.273343\n",
      "Epoch: 12 - Loss 0.253548\n",
      "Epoch: 13 - Loss 0.235005\n",
      "Epoch: 14 - Loss 0.218647\n",
      "Epoch: 15 - Loss 0.203754\n",
      "Epoch: 16 - Loss 0.190145\n",
      "Epoch: 17 - Loss 0.178018\n",
      "Epoch: 18 - Loss 0.167186\n",
      "Epoch: 19 - Loss 0.157488\n",
      "Epoch: 20 - Loss 0.148814\n",
      "Epoch: 21 - Loss 0.141053\n",
      "Epoch: 22 - Loss 0.133982\n",
      "Epoch: 23 - Loss 0.127522\n",
      "Epoch: 24 - Loss 0.121614\n",
      "Epoch: 25 - Loss 0.116177\n",
      "Epoch: 26 - Loss 0.111145\n",
      "Epoch: 27 - Loss 0.106477\n",
      "Epoch: 28 - Loss 0.102136\n",
      "Epoch: 29 - Loss 0.09809\n",
      "Epoch: 30 - Loss 0.094309\n",
      "Epoch: 31 - Loss 0.090766\n",
      "Epoch: 32 - Loss 0.087457\n",
      "Epoch: 33 - Loss 0.084351\n",
      "Epoch: 34 - Loss 0.081428\n",
      "Epoch: 35 - Loss 0.078676\n",
      "Epoch: 36 - Loss 0.076095\n",
      "Epoch: 37 - Loss 0.073685\n",
      "Epoch: 38 - Loss 0.071405\n",
      "Epoch: 39 - Loss 0.069241\n",
      "Epoch: 40 - Loss 0.067187\n",
      "Epoch: 41 - Loss 0.065241\n",
      "Epoch: 42 - Loss 0.063383\n",
      "Epoch: 43 - Loss 0.061618\n",
      "Epoch: 44 - Loss 0.059917\n",
      "Epoch: 45 - Loss 0.058282\n",
      "Epoch: 46 - Loss 0.056704\n",
      "Epoch: 47 - Loss 0.055194\n",
      "Epoch: 48 - Loss 0.053752\n",
      "Epoch: 49 - Loss 0.052376\n",
      "Epoch: 50 - Loss 0.051062\n",
      "Epoch: 51 - Loss 0.049806\n",
      "Epoch: 52 - Loss 0.048604\n",
      "Epoch: 53 - Loss 0.047454\n",
      "Epoch: 54 - Loss 0.046354\n",
      "Epoch: 55 - Loss 0.045301\n",
      "Epoch: 56 - Loss 0.044293\n",
      "Epoch: 57 - Loss 0.043323\n",
      "Epoch: 58 - Loss 0.042391\n",
      "Epoch: 59 - Loss 0.041497\n",
      "Epoch: 60 - Loss 0.040636\n",
      "Epoch: 61 - Loss 0.039805\n",
      "Epoch: 62 - Loss 0.039008\n",
      "Epoch: 63 - Loss 0.038242\n",
      "Epoch: 64 - Loss 0.037505\n",
      "Epoch: 65 - Loss 0.036793\n",
      "Epoch: 66 - Loss 0.036103\n",
      "Epoch: 67 - Loss 0.035437\n",
      "Epoch: 68 - Loss 0.034794\n",
      "Epoch: 69 - Loss 0.034173\n",
      "Epoch: 70 - Loss 0.033572\n",
      "Epoch: 71 - Loss 0.032991\n",
      "Epoch: 72 - Loss 0.03243\n",
      "Epoch: 73 - Loss 0.031888\n",
      "Epoch: 74 - Loss 0.031361\n",
      "Epoch: 75 - Loss 0.030849\n",
      "Epoch: 76 - Loss 0.030352\n",
      "Epoch: 77 - Loss 0.029869\n",
      "Epoch: 78 - Loss 0.0294\n",
      "Epoch: 79 - Loss 0.028945\n",
      "Epoch: 80 - Loss 0.028509\n",
      "Epoch: 81 - Loss 0.028087\n",
      "Epoch: 82 - Loss 0.027677\n",
      "Epoch: 83 - Loss 0.02728\n",
      "Epoch: 84 - Loss 0.026898\n",
      "Epoch: 85 - Loss 0.026528\n",
      "Epoch: 86 - Loss 0.026169\n",
      "Epoch: 87 - Loss 0.025818\n",
      "Epoch: 88 - Loss 0.025477\n",
      "Epoch: 89 - Loss 0.025147\n",
      "Epoch: 90 - Loss 0.024827\n",
      "Epoch: 91 - Loss 0.024515\n",
      "Epoch: 92 - Loss 0.024209\n",
      "Epoch: 93 - Loss 0.023909\n",
      "Epoch: 94 - Loss 0.02362\n",
      "Epoch: 95 - Loss 0.023338\n",
      "Epoch: 96 - Loss 0.023064\n",
      "Epoch: 97 - Loss 0.022798\n",
      "Epoch: 98 - Loss 0.022539\n",
      "Epoch: 99 - Loss 0.022285\n"
     ]
    }
   ],
   "source": [
    "loss_log = []\n",
    "\n",
    "for e in range(epochs):\n",
    "    for i in range(0, X_train_tensor.shape[0], batch_size):\n",
    "        x_batch = X_train_tensor[i:i + batch_size]\n",
    "        y_batch = y_train_tensor[i:i + batch_size]\n",
    "        \n",
    "        x_var = Variable(x_batch)\n",
    "        y_var = Variable(y_batch)\n",
    "        \n",
    "        optimizer.zero_grad()\n",
    "        net_out = net(x_var)\n",
    "        \n",
    "        loss = loss_func(net_out, y_var)\n",
    "        loss.backward()\n",
    "        optimizer.step()\n",
    "        \n",
    "        if i%50 == 0:\n",
    "            loss_log.append(loss.item())\n",
    "    print(f'Epoch: {e} - Loss {np.round(loss.item(), 6)}')"
   ]
  },
  {
   "cell_type": "code",
   "execution_count": 103,
   "metadata": {
    "colab": {
     "base_uri": "https://localhost:8080/",
     "height": 500
    },
    "id": "7ldexBN2xqUf",
    "outputId": "7e29e1b8-d0cb-4c1e-d700-1e563d5216f5"
   },
   "outputs": [
    {
     "data": {
      "text/plain": [
       "[<matplotlib.lines.Line2D at 0x7fcd7f1461d0>]"
      ]
     },
     "execution_count": 103,
     "metadata": {},
     "output_type": "execute_result"
    },
    {
     "data": {
      "image/png": "[encoded data removed]",
      "text/plain": [
       "<Figure size 720x576 with 1 Axes>"
      ]
     },
     "metadata": {
      "needs_background": "light"
     },
     "output_type": "display_data"
    }
   ],
   "source": [
    "plt.figure(figsize=(10,8))\n",
    "plt.plot(loss_log)"
   ]
  },
  {
   "cell_type": "code",
   "execution_count": 104,
   "metadata": {
    "id": "4_s36ImSypGO"
   },
   "outputs": [],
   "source": [
    "test_var = Variable(X_test_tensor)\n",
    "\n",
    "net_out = net(test_var)\n",
    "\n",
    "predicted_y = torch.max(net_out.data, 1)[1].numpy()"
   ]
  },
  {
   "cell_type": "code",
   "execution_count": 105,
   "metadata": {
    "colab": {
     "base_uri": "https://localhost:8080/"
    },
    "id": "LXLZpFXmy_4_",
    "outputId": "2bf7398c-b025-4e65-cf90-c26d8558de21"
   },
   "outputs": [
    {
     "name": "stdout",
     "output_type": "stream",
     "text": [
      "Accuracy percentage: 98.25%\n"
     ]
    }
   ],
   "source": [
    "accuracy = (y_test == predicted_y).sum()/len(y_test)\n",
    "print(f\"Accuracy percentage: {np.round(accuracy*100,2)}%\")"
   ]
  },
  {
   "cell_type": "code",
   "execution_count": 106,
   "metadata": {
    "colab": {
     "base_uri": "https://localhost:8080/"
    },
    "id": "0ZWbGVqYzBcJ",
    "outputId": "36fc07ca-a368-48d3-d810-9532e4f30b36"
   },
   "outputs": [
    {
     "name": "stdout",
     "output_type": "stream",
     "text": [
      "Total number of incorrect prediction:  2\n"
     ]
    }
   ],
   "source": [
    "print(\"Total number of incorrect prediction: \",np.invert(y_test == predicted_y).sum())"
   ]
  },
  {
   "cell_type": "code",
   "execution_count": 106,
   "metadata": {
    "id": "xydKdexAzDGS"
   },
   "outputs": [],
   "source": []
  },
  {
   "cell_type": "markdown",
   "metadata": {
    "id": "KnCfvdU9zKOY"
   },
   "source": [
    "**Conclusion:**\n",
    "\n",
    "The test set accuracy of the model created in Pytorch with\n",
    "input_size = 30, output_size = 2, hidden1_size = 20,epochs = 100, batch_size = 32, learning_rate = 0.001, is above 95 % on the breast cancer dataset which is very good. THis was achieved with only 2o hidden layer with 20 nodes and only 100 epochs. This shows how well a neural network can perform. For activation function i use Rule and the loss function in cross entropy. "
   ]
  },
  {
   "cell_type": "code",
   "execution_count": 106,
   "metadata": {
    "id": "JpvE1z8d0hEi"
   },
   "outputs": [],
   "source": []
  }
 ],
 "metadata": {
  "accelerator": "GPU",
  "colab": {
   "provenance": []
  },
  "gpuClass": "standard",
  "kernelspec": {
   "display_name": "Python 3",
   "language": "python",
   "name": "python3"
  },
  "language_info": {
   "codemirror_mode": {
    "name": "ipython",
    "version": 3
   },
   "file_extension": ".py",
   "mimetype": "text/x-python",
   "name": "python",
   "nbconvert_exporter": "python",
   "pygments_lexer": "ipython3",
   "version": "3.8.3"
  },
  "widgets": {
   "application/vnd.jupyter.widget-state+json": {
    "02b65a4235e54638af5324d521876c1a": {
     "model_module": "@jupyter-widgets/base",
     "model_module_version": "1.2.0",
     "model_name": "LayoutModel",
     "state": {
      "_model_module": "@jupyter-widgets/base",
      "_model_module_version": "1.2.0",
      "_model_name": "LayoutModel",
      "_view_count": null,
      "_view_module": "@jupyter-widgets/base",
      "_view_module_version": "1.2.0",
      "_view_name": "LayoutView",
      "align_content": null,
      "align_items": null,
      "align_self": null,
      "border": null,
      "bottom": null,
      "display": null,
      "flex": null,
      "flex_flow": null,
      "grid_area": null,
      "grid_auto_columns": null,
      "grid_auto_flow": null,
      "grid_auto_rows": null,
      "grid_column": null,
      "grid_gap": null,
      "grid_row": null,
      "grid_template_areas": null,
      "grid_template_columns": null,
      "grid_template_rows": null,
      "height": null,
      "justify_content": null,
      "justify_items": null,
      "left": null,
      "margin": null,
      "max_height": null,
      "max_width": null,
      "min_height": null,
      "min_width": null,
      "object_fit": null,
      "object_position": null,
      "order": null,
      "overflow": null,
      "overflow_x": null,
      "overflow_y": null,
      "padding": null,
      "right": null,
      "top": null,
      "visibility": null,
      "width": null
     }
    },
    "02bf281e550342d9b1abc79164664b89": {
     "model_module": "@jupyter-widgets/base",
     "model_module_version": "1.2.0",
     "model_name": "LayoutModel",
     "state": {
      "_model_module": "@jupyter-widgets/base",
      "_model_module_version": "1.2.0",
      "_model_name": "LayoutModel",
      "_view_count": null,
      "_view_module": "@jupyter-widgets/base",
      "_view_module_version": "1.2.0",
      "_view_name": "LayoutView",
      "align_content": null,
      "align_items": null,
      "align_self": null,
      "border": null,
      "bottom": null,
      "display": null,
      "flex": null,
      "flex_flow": null,
      "grid_area": null,
      "grid_auto_columns": null,
      "grid_auto_flow": null,
      "grid_auto_rows": null,
      "grid_column": null,
      "grid_gap": null,
      "grid_row": null,
      "grid_template_areas": null,
      "grid_template_columns": null,
      "grid_template_rows": null,
      "height": null,
      "justify_content": null,
      "justify_items": null,
      "left": null,
      "margin": null,
      "max_height": null,
      "max_width": null,
      "min_height": null,
      "min_width": null,
      "object_fit": null,
      "object_position": null,
      "order": null,
      "overflow": null,
      "overflow_x": null,
      "overflow_y": null,
      "padding": null,
      "right": null,
      "top": null,
      "visibility": null,
      "width": null
     }
    },
    "02e32fb4cde4478183a1f941e2f0ee30": {
     "model_module": "@jupyter-widgets/controls",
     "model_module_version": "1.5.0",
     "model_name": "RadioButtonsModel",
     "state": {
      "_dom_classes": [],
      "_model_module": "@jupyter-widgets/controls",
      "_model_module_version": "1.5.0",
      "_model_name": "RadioButtonsModel",
      "_options_labels": [
       "0.00001",
       "0.0001",
       "0.001",
       "0.003",
       "0.01",
       "0.03",
       "0.1",
       "0.3",
       "1",
       "3",
       "10"
      ],
      "_view_count": null,
      "_view_module": "@jupyter-widgets/controls",
      "_view_module_version": "1.5.0",
      "_view_name": "RadioButtonsView",
      "description": "\t",
      "description_tooltip": null,
      "disabled": false,
      "index": 5,
      "layout": "IPY_MODEL_d41704256a434c588421b10d107c623b",
      "style": "IPY_MODEL_6e844eef271f4f859a21a0205c10b937"
     }
    },
    "1082d0a2ba87468ea5fe699b8f30c3a3": {
     "model_module": "@jupyter-widgets/controls",
     "model_module_version": "1.5.0",
     "model_name": "CheckboxModel",
     "state": {
      "_dom_classes": [],
      "_model_module": "@jupyter-widgets/controls",
      "_model_module_version": "1.5.0",
      "_model_name": "CheckboxModel",
      "_view_count": null,
      "_view_module": "@jupyter-widgets/controls",
      "_view_module_version": "1.5.0",
      "_view_name": "CheckboxView",
      "description": "$X_1X_2$",
      "description_tooltip": null,
      "disabled": false,
      "indent": true,
      "layout": "IPY_MODEL_384287ce9eea48fb95fd11079a8e81af",
      "style": "IPY_MODEL_2668bdbe044a47958ac5593d71ea19f3",
      "value": false
     }
    },
    "15ed4daecefd42558b5461e047982a7f": {
     "model_module": "@jupyter-widgets/base",
     "model_module_version": "1.2.0",
     "model_name": "LayoutModel",
     "state": {
      "_model_module": "@jupyter-widgets/base",
      "_model_module_version": "1.2.0",
      "_model_name": "LayoutModel",
      "_view_count": null,
      "_view_module": "@jupyter-widgets/base",
      "_view_module_version": "1.2.0",
      "_view_name": "LayoutView",
      "align_content": null,
      "align_items": null,
      "align_self": null,
      "border": null,
      "bottom": null,
      "display": null,
      "flex": null,
      "flex_flow": null,
      "grid_area": null,
      "grid_auto_columns": null,
      "grid_auto_flow": null,
      "grid_auto_rows": null,
      "grid_column": null,
      "grid_gap": null,
      "grid_row": null,
      "grid_template_areas": null,
      "grid_template_columns": null,
      "grid_template_rows": null,
      "height": null,
      "justify_content": null,
      "justify_items": null,
      "left": null,
      "margin": null,
      "max_height": null,
      "max_width": null,
      "min_height": null,
      "min_width": null,
      "object_fit": null,
      "object_position": null,
      "order": null,
      "overflow": null,
      "overflow_x": null,
      "overflow_y": null,
      "padding": null,
      "right": null,
      "top": null,
      "visibility": null,
      "width": null
     }
    },
    "1c00c508655741e594df54b4cf3f5a08": {
     "model_module": "@jupyter-widgets/base",
     "model_module_version": "1.2.0",
     "model_name": "LayoutModel",
     "state": {
      "_model_module": "@jupyter-widgets/base",
      "_model_module_version": "1.2.0",
      "_model_name": "LayoutModel",
      "_view_count": null,
      "_view_module": "@jupyter-widgets/base",
      "_view_module_version": "1.2.0",
      "_view_name": "LayoutView",
      "align_content": null,
      "align_items": null,
      "align_self": null,
      "border": null,
      "bottom": null,
      "display": null,
      "flex": null,
      "flex_flow": null,
      "grid_area": null,
      "grid_auto_columns": null,
      "grid_auto_flow": null,
      "grid_auto_rows": null,
      "grid_column": null,
      "grid_gap": null,
      "grid_row": null,
      "grid_template_areas": null,
      "grid_template_columns": null,
      "grid_template_rows": null,
      "height": null,
      "justify_content": null,
      "justify_items": null,
      "left": null,
      "margin": null,
      "max_height": null,
      "max_width": null,
      "min_height": null,
      "min_width": null,
      "object_fit": null,
      "object_position": null,
      "order": null,
      "overflow": null,
      "overflow_x": null,
      "overflow_y": null,
      "padding": null,
      "right": null,
      "top": null,
      "visibility": null,
      "width": null
     }
    },
    "1d7b40f949fd4a79854f2cbb616ce068": {
     "model_module": "@jupyter-widgets/base",
     "model_module_version": "1.2.0",
     "model_name": "LayoutModel",
     "state": {
      "_model_module": "@jupyter-widgets/base",
      "_model_module_version": "1.2.0",
      "_model_name": "LayoutModel",
      "_view_count": null,
      "_view_module": "@jupyter-widgets/base",
      "_view_module_version": "1.2.0",
      "_view_name": "LayoutView",
      "align_content": null,
      "align_items": null,
      "align_self": null,
      "border": null,
      "bottom": null,
      "display": null,
      "flex": null,
      "flex_flow": null,
      "grid_area": null,
      "grid_auto_columns": null,
      "grid_auto_flow": null,
      "grid_auto_rows": null,
      "grid_column": null,
      "grid_gap": null,
      "grid_row": null,
      "grid_template_areas": null,
      "grid_template_columns": null,
      "grid_template_rows": null,
      "height": null,
      "justify_content": null,
      "justify_items": null,
      "left": null,
      "margin": null,
      "max_height": null,
      "max_width": null,
      "min_height": null,
      "min_width": null,
      "object_fit": null,
      "object_position": null,
      "order": null,
      "overflow": null,
      "overflow_x": null,
      "overflow_y": null,
      "padding": null,
      "right": null,
      "top": null,
      "visibility": null,
      "width": null
     }
    },
    "234f550730204545ab25f022a8885507": {
     "model_module": "@jupyter-widgets/controls",
     "model_module_version": "1.5.0",
     "model_name": "CheckboxModel",
     "state": {
      "_dom_classes": [],
      "_model_module": "@jupyter-widgets/controls",
      "_model_module_version": "1.5.0",
      "_model_name": "CheckboxModel",
      "_view_count": null,
      "_view_module": "@jupyter-widgets/controls",
      "_view_module_version": "1.5.0",
      "_view_name": "CheckboxView",
      "description": "$X_2^2$",
      "description_tooltip": null,
      "disabled": false,
      "indent": true,
      "layout": "IPY_MODEL_1d7b40f949fd4a79854f2cbb616ce068",
      "style": "IPY_MODEL_34043646fdbf424ea1b212718f96777c",
      "value": false
     }
    },
    "23bf74cd891c4fad9478324b96f55c92": {
     "model_module": "@jupyter-widgets/controls",
     "model_module_version": "1.5.0",
     "model_name": "DescriptionStyleModel",
     "state": {
      "_model_module": "@jupyter-widgets/controls",
      "_model_module_version": "1.5.0",
      "_model_name": "DescriptionStyleModel",
      "_view_count": null,
      "_view_module": "@jupyter-widgets/base",
      "_view_module_version": "1.2.0",
      "_view_name": "StyleView",
      "description_width": ""
     }
    },
    "24c2f8313d9547218726e2d05b436be9": {
     "model_module": "@jupyter-widgets/controls",
     "model_module_version": "1.5.0",
     "model_name": "DescriptionStyleModel",
     "state": {
      "_model_module": "@jupyter-widgets/controls",
      "_model_module_version": "1.5.0",
      "_model_name": "DescriptionStyleModel",
      "_view_count": null,
      "_view_module": "@jupyter-widgets/base",
      "_view_module_version": "1.2.0",
      "_view_name": "StyleView",
      "description_width": ""
     }
    },
    "26218a20d79d4ae999057d01d7cc7594": {
     "model_module": "@jupyter-widgets/base",
     "model_module_version": "1.2.0",
     "model_name": "LayoutModel",
     "state": {
      "_model_module": "@jupyter-widgets/base",
      "_model_module_version": "1.2.0",
      "_model_name": "LayoutModel",
      "_view_count": null,
      "_view_module": "@jupyter-widgets/base",
      "_view_module_version": "1.2.0",
      "_view_name": "LayoutView",
      "align_content": null,
      "align_items": null,
      "align_self": null,
      "border": null,
      "bottom": null,
      "display": null,
      "flex": null,
      "flex_flow": null,
      "grid_area": null,
      "grid_auto_columns": null,
      "grid_auto_flow": null,
      "grid_auto_rows": null,
      "grid_column": null,
      "grid_gap": null,
      "grid_row": null,
      "grid_template_areas": null,
      "grid_template_columns": null,
      "grid_template_rows": null,
      "height": null,
      "justify_content": null,
      "justify_items": null,
      "left": null,
      "margin": null,
      "max_height": null,
      "max_width": null,
      "min_height": null,
      "min_width": null,
      "object_fit": null,
      "object_position": null,
      "order": null,
      "overflow": null,
      "overflow_x": null,
      "overflow_y": null,
      "padding": null,
      "right": null,
      "top": null,
      "visibility": null,
      "width": null
     }
    },
    "2668bdbe044a47958ac5593d71ea19f3": {
     "model_module": "@jupyter-widgets/controls",
     "model_module_version": "1.5.0",
     "model_name": "DescriptionStyleModel",
     "state": {
      "_model_module": "@jupyter-widgets/controls",
      "_model_module_version": "1.5.0",
      "_model_name": "DescriptionStyleModel",
      "_view_count": null,
      "_view_module": "@jupyter-widgets/base",
      "_view_module_version": "1.2.0",
      "_view_name": "StyleView",
      "description_width": ""
     }
    },
    "26b6b2cc2db64d6b9d3c98fc96e1db4f": {
     "model_module": "@jupyter-widgets/base",
     "model_module_version": "1.2.0",
     "model_name": "LayoutModel",
     "state": {
      "_model_module": "@jupyter-widgets/base",
      "_model_module_version": "1.2.0",
      "_model_name": "LayoutModel",
      "_view_count": null,
      "_view_module": "@jupyter-widgets/base",
      "_view_module_version": "1.2.0",
      "_view_name": "LayoutView",
      "align_content": null,
      "align_items": null,
      "align_self": null,
      "border": null,
      "bottom": null,
      "display": null,
      "flex": null,
      "flex_flow": null,
      "grid_area": null,
      "grid_auto_columns": null,
      "grid_auto_flow": null,
      "grid_auto_rows": null,
      "grid_column": null,
      "grid_gap": null,
      "grid_row": null,
      "grid_template_areas": null,
      "grid_template_columns": null,
      "grid_template_rows": null,
      "height": null,
      "justify_content": null,
      "justify_items": null,
      "left": null,
      "margin": null,
      "max_height": null,
      "max_width": null,
      "min_height": null,
      "min_width": null,
      "object_fit": null,
      "object_position": null,
      "order": null,
      "overflow": null,
      "overflow_x": null,
      "overflow_y": null,
      "padding": null,
      "right": null,
      "top": null,
      "visibility": null,
      "width": null
     }
    },
    "2875f80bac784e0496ec7b56228fb96b": {
     "model_module": "@jupyter-widgets/controls",
     "model_module_version": "1.5.0",
     "model_name": "DescriptionStyleModel",
     "state": {
      "_model_module": "@jupyter-widgets/controls",
      "_model_module_version": "1.5.0",
      "_model_name": "DescriptionStyleModel",
      "_view_count": null,
      "_view_module": "@jupyter-widgets/base",
      "_view_module_version": "1.2.0",
      "_view_name": "StyleView",
      "description_width": ""
     }
    },
    "28e6a8fabc754ffdabf782c2b9fc2ce7": {
     "model_module": "@jupyter-widgets/controls",
     "model_module_version": "1.5.0",
     "model_name": "LabelModel",
     "state": {
      "_dom_classes": [],
      "_model_module": "@jupyter-widgets/controls",
      "_model_module_version": "1.5.0",
      "_model_name": "LabelModel",
      "_view_count": null,
      "_view_module": "@jupyter-widgets/controls",
      "_view_module_version": "1.5.0",
      "_view_name": "LabelView",
      "description": "",
      "description_tooltip": null,
      "layout": "IPY_MODEL_7508d05268c64dbcab635e18696db67d",
      "placeholder": "​",
      "style": "IPY_MODEL_d7741332927f409bac79f18603d659c0",
      "value": "Q4) Which input do you use?"
     }
    },
    "28f100e4cf8c480280dd500ea1847efb": {
     "model_module": "@jupyter-widgets/base",
     "model_module_version": "1.2.0",
     "model_name": "LayoutModel",
     "state": {
      "_model_module": "@jupyter-widgets/base",
      "_model_module_version": "1.2.0",
      "_model_name": "LayoutModel",
      "_view_count": null,
      "_view_module": "@jupyter-widgets/base",
      "_view_module_version": "1.2.0",
      "_view_name": "LayoutView",
      "align_content": null,
      "align_items": null,
      "align_self": null,
      "border": null,
      "bottom": null,
      "display": null,
      "flex": null,
      "flex_flow": null,
      "grid_area": null,
      "grid_auto_columns": null,
      "grid_auto_flow": null,
      "grid_auto_rows": null,
      "grid_column": null,
      "grid_gap": null,
      "grid_row": null,
      "grid_template_areas": null,
      "grid_template_columns": null,
      "grid_template_rows": null,
      "height": null,
      "justify_content": null,
      "justify_items": null,
      "left": null,
      "margin": null,
      "max_height": null,
      "max_width": null,
      "min_height": null,
      "min_width": null,
      "object_fit": null,
      "object_position": null,
      "order": null,
      "overflow": null,
      "overflow_x": null,
      "overflow_y": null,
      "padding": null,
      "right": null,
      "top": null,
      "visibility": null,
      "width": null
     }
    },
    "2a47a8a2aa2a472c932667fb1780da8b": {
     "model_module": "@jupyter-widgets/base",
     "model_module_version": "1.2.0",
     "model_name": "LayoutModel",
     "state": {
      "_model_module": "@jupyter-widgets/base",
      "_model_module_version": "1.2.0",
      "_model_name": "LayoutModel",
      "_view_count": null,
      "_view_module": "@jupyter-widgets/base",
      "_view_module_version": "1.2.0",
      "_view_name": "LayoutView",
      "align_content": null,
      "align_items": null,
      "align_self": null,
      "border": null,
      "bottom": null,
      "display": null,
      "flex": null,
      "flex_flow": null,
      "grid_area": null,
      "grid_auto_columns": null,
      "grid_auto_flow": null,
      "grid_auto_rows": null,
      "grid_column": null,
      "grid_gap": null,
      "grid_row": null,
      "grid_template_areas": null,
      "grid_template_columns": null,
      "grid_template_rows": null,
      "height": null,
      "justify_content": null,
      "justify_items": null,
      "left": null,
      "margin": null,
      "max_height": null,
      "max_width": null,
      "min_height": null,
      "min_width": null,
      "object_fit": null,
      "object_position": null,
      "order": null,
      "overflow": null,
      "overflow_x": null,
      "overflow_y": null,
      "padding": null,
      "right": null,
      "top": null,
      "visibility": null,
      "width": null
     }
    },
    "34043646fdbf424ea1b212718f96777c": {
     "model_module": "@jupyter-widgets/controls",
     "model_module_version": "1.5.0",
     "model_name": "DescriptionStyleModel",
     "state": {
      "_model_module": "@jupyter-widgets/controls",
      "_model_module_version": "1.5.0",
      "_model_name": "DescriptionStyleModel",
      "_view_count": null,
      "_view_module": "@jupyter-widgets/base",
      "_view_module_version": "1.2.0",
      "_view_name": "StyleView",
      "description_width": ""
     }
    },
    "34f8499e53994ac3ba1967d607cb82aa": {
     "model_module": "@jupyter-widgets/controls",
     "model_module_version": "1.5.0",
     "model_name": "LabelModel",
     "state": {
      "_dom_classes": [],
      "_model_module": "@jupyter-widgets/controls",
      "_model_module_version": "1.5.0",
      "_model_name": "LabelModel",
      "_view_count": null,
      "_view_module": "@jupyter-widgets/controls",
      "_view_module_version": "1.5.0",
      "_view_name": "LabelView",
      "description": "",
      "description_tooltip": null,
      "layout": "IPY_MODEL_ec459a9d5761425da3538cd4039a0c63",
      "placeholder": "​",
      "style": "IPY_MODEL_792bb0e6379d45768b5fdc593f903202",
      "value": "Q1) What is your learning rate?"
     }
    },
    "384287ce9eea48fb95fd11079a8e81af": {
     "model_module": "@jupyter-widgets/base",
     "model_module_version": "1.2.0",
     "model_name": "LayoutModel",
     "state": {
      "_model_module": "@jupyter-widgets/base",
      "_model_module_version": "1.2.0",
      "_model_name": "LayoutModel",
      "_view_count": null,
      "_view_module": "@jupyter-widgets/base",
      "_view_module_version": "1.2.0",
      "_view_name": "LayoutView",
      "align_content": null,
      "align_items": null,
      "align_self": null,
      "border": null,
      "bottom": null,
      "display": null,
      "flex": null,
      "flex_flow": null,
      "grid_area": null,
      "grid_auto_columns": null,
      "grid_auto_flow": null,
      "grid_auto_rows": null,
      "grid_column": null,
      "grid_gap": null,
      "grid_row": null,
      "grid_template_areas": null,
      "grid_template_columns": null,
      "grid_template_rows": null,
      "height": null,
      "justify_content": null,
      "justify_items": null,
      "left": null,
      "margin": null,
      "max_height": null,
      "max_width": null,
      "min_height": null,
      "min_width": null,
      "object_fit": null,
      "object_position": null,
      "order": null,
      "overflow": null,
      "overflow_x": null,
      "overflow_y": null,
      "padding": null,
      "right": null,
      "top": null,
      "visibility": null,
      "width": null
     }
    },
    "38855ede684348d4b0151d95b8761e8a": {
     "model_module": "@jupyter-widgets/controls",
     "model_module_version": "1.5.0",
     "model_name": "DescriptionStyleModel",
     "state": {
      "_model_module": "@jupyter-widgets/controls",
      "_model_module_version": "1.5.0",
      "_model_name": "DescriptionStyleModel",
      "_view_count": null,
      "_view_module": "@jupyter-widgets/base",
      "_view_module_version": "1.2.0",
      "_view_name": "StyleView",
      "description_width": ""
     }
    },
    "3ef1ad3152ab4517b2ea779a8c6d6272": {
     "model_module": "@jupyter-widgets/controls",
     "model_module_version": "1.5.0",
     "model_name": "DescriptionStyleModel",
     "state": {
      "_model_module": "@jupyter-widgets/controls",
      "_model_module_version": "1.5.0",
      "_model_name": "DescriptionStyleModel",
      "_view_count": null,
      "_view_module": "@jupyter-widgets/base",
      "_view_module_version": "1.2.0",
      "_view_name": "StyleView",
      "description_width": ""
     }
    },
    "40b9bac881a74ac1b0079c963d87f7e1": {
     "model_module": "@jupyter-widgets/controls",
     "model_module_version": "1.5.0",
     "model_name": "LabelModel",
     "state": {
      "_dom_classes": [],
      "_model_module": "@jupyter-widgets/controls",
      "_model_module_version": "1.5.0",
      "_model_name": "LabelModel",
      "_view_count": null,
      "_view_module": "@jupyter-widgets/controls",
      "_view_module_version": "1.5.0",
      "_view_name": "LabelView",
      "description": "",
      "description_tooltip": null,
      "layout": "IPY_MODEL_7a17701860d44ecdb4e1005fe190970a",
      "placeholder": "​",
      "style": "IPY_MODEL_24c2f8313d9547218726e2d05b436be9",
      "value": "Q2) What is your activation function in last layer?"
     }
    },
    "46986caa41c2446ab353d9dcfe63a2dd": {
     "model_module": "@jupyter-widgets/controls",
     "model_module_version": "1.5.0",
     "model_name": "LabelModel",
     "state": {
      "_dom_classes": [],
      "_model_module": "@jupyter-widgets/controls",
      "_model_module_version": "1.5.0",
      "_model_name": "LabelModel",
      "_view_count": null,
      "_view_module": "@jupyter-widgets/controls",
      "_view_module_version": "1.5.0",
      "_view_name": "LabelView",
      "description": "",
      "description_tooltip": null,
      "layout": "IPY_MODEL_516599d4ec6d4874892addac54a406ed",
      "placeholder": "​",
      "style": "IPY_MODEL_55347565747047ac9ba1630e74fa0712",
      "value": "Q6) Explain your nodes for each layer"
     }
    },
    "4bb409b95697488589f455666fc29032": {
     "model_module": "@jupyter-widgets/controls",
     "model_module_version": "1.5.0",
     "model_name": "TextareaModel",
     "state": {
      "_dom_classes": [],
      "_model_module": "@jupyter-widgets/controls",
      "_model_module_version": "1.5.0",
      "_model_name": "TextareaModel",
      "_view_count": null,
      "_view_module": "@jupyter-widgets/controls",
      "_view_module_version": "1.5.0",
      "_view_name": "TextareaView",
      "continuous_update": true,
      "description": "Explain here",
      "description_tooltip": null,
      "disabled": false,
      "layout": "IPY_MODEL_26218a20d79d4ae999057d01d7cc7594",
      "placeholder": "​",
      "rows": null,
      "style": "IPY_MODEL_808b4a430c3148c69e877439f8a69d4a",
      "value": ""
     }
    },
    "4de55b4131ed42999b415777c2679ad3": {
     "model_module": "@jupyter-widgets/controls",
     "model_module_version": "1.5.0",
     "model_name": "CheckboxModel",
     "state": {
      "_dom_classes": [],
      "_model_module": "@jupyter-widgets/controls",
      "_model_module_version": "1.5.0",
      "_model_name": "CheckboxModel",
      "_view_count": null,
      "_view_module": "@jupyter-widgets/controls",
      "_view_module_version": "1.5.0",
      "_view_name": "CheckboxView",
      "description": "sin$(X_2)$",
      "description_tooltip": null,
      "disabled": false,
      "indent": true,
      "layout": "IPY_MODEL_15ed4daecefd42558b5461e047982a7f",
      "style": "IPY_MODEL_f120b2b443e047909b06d357b15ddad3",
      "value": false
     }
    },
    "500541a8b84649678f43eb1069816525": {
     "model_module": "@jupyter-widgets/base",
     "model_module_version": "1.2.0",
     "model_name": "LayoutModel",
     "state": {
      "_model_module": "@jupyter-widgets/base",
      "_model_module_version": "1.2.0",
      "_model_name": "LayoutModel",
      "_view_count": null,
      "_view_module": "@jupyter-widgets/base",
      "_view_module_version": "1.2.0",
      "_view_name": "LayoutView",
      "align_content": null,
      "align_items": null,
      "align_self": null,
      "border": null,
      "bottom": null,
      "display": null,
      "flex": null,
      "flex_flow": null,
      "grid_area": null,
      "grid_auto_columns": null,
      "grid_auto_flow": null,
      "grid_auto_rows": null,
      "grid_column": null,
      "grid_gap": null,
      "grid_row": null,
      "grid_template_areas": null,
      "grid_template_columns": null,
      "grid_template_rows": null,
      "height": null,
      "justify_content": null,
      "justify_items": null,
      "left": null,
      "margin": null,
      "max_height": null,
      "max_width": null,
      "min_height": null,
      "min_width": null,
      "object_fit": null,
      "object_position": null,
      "order": null,
      "overflow": null,
      "overflow_x": null,
      "overflow_y": null,
      "padding": null,
      "right": null,
      "top": null,
      "visibility": null,
      "width": null
     }
    },
    "516599d4ec6d4874892addac54a406ed": {
     "model_module": "@jupyter-widgets/base",
     "model_module_version": "1.2.0",
     "model_name": "LayoutModel",
     "state": {
      "_model_module": "@jupyter-widgets/base",
      "_model_module_version": "1.2.0",
      "_model_name": "LayoutModel",
      "_view_count": null,
      "_view_module": "@jupyter-widgets/base",
      "_view_module_version": "1.2.0",
      "_view_name": "LayoutView",
      "align_content": null,
      "align_items": null,
      "align_self": null,
      "border": null,
      "bottom": null,
      "display": null,
      "flex": null,
      "flex_flow": null,
      "grid_area": null,
      "grid_auto_columns": null,
      "grid_auto_flow": null,
      "grid_auto_rows": null,
      "grid_column": null,
      "grid_gap": null,
      "grid_row": null,
      "grid_template_areas": null,
      "grid_template_columns": null,
      "grid_template_rows": null,
      "height": null,
      "justify_content": null,
      "justify_items": null,
      "left": null,
      "margin": null,
      "max_height": null,
      "max_width": null,
      "min_height": null,
      "min_width": null,
      "object_fit": null,
      "object_position": null,
      "order": null,
      "overflow": null,
      "overflow_x": null,
      "overflow_y": null,
      "padding": null,
      "right": null,
      "top": null,
      "visibility": null,
      "width": null
     }
    },
    "516c7073b90849b88b837ff9bfa0aca4": {
     "model_module": "@jupyter-widgets/base",
     "model_module_version": "1.2.0",
     "model_name": "LayoutModel",
     "state": {
      "_model_module": "@jupyter-widgets/base",
      "_model_module_version": "1.2.0",
      "_model_name": "LayoutModel",
      "_view_count": null,
      "_view_module": "@jupyter-widgets/base",
      "_view_module_version": "1.2.0",
      "_view_name": "LayoutView",
      "align_content": null,
      "align_items": null,
      "align_self": null,
      "border": null,
      "bottom": null,
      "display": null,
      "flex": null,
      "flex_flow": null,
      "grid_area": null,
      "grid_auto_columns": null,
      "grid_auto_flow": null,
      "grid_auto_rows": null,
      "grid_column": null,
      "grid_gap": null,
      "grid_row": null,
      "grid_template_areas": null,
      "grid_template_columns": null,
      "grid_template_rows": null,
      "height": null,
      "justify_content": null,
      "justify_items": null,
      "left": null,
      "margin": null,
      "max_height": null,
      "max_width": null,
      "min_height": null,
      "min_width": null,
      "object_fit": null,
      "object_position": null,
      "order": null,
      "overflow": null,
      "overflow_x": null,
      "overflow_y": null,
      "padding": null,
      "right": null,
      "top": null,
      "visibility": null,
      "width": null
     }
    },
    "55347565747047ac9ba1630e74fa0712": {
     "model_module": "@jupyter-widgets/controls",
     "model_module_version": "1.5.0",
     "model_name": "DescriptionStyleModel",
     "state": {
      "_model_module": "@jupyter-widgets/controls",
      "_model_module_version": "1.5.0",
      "_model_name": "DescriptionStyleModel",
      "_view_count": null,
      "_view_module": "@jupyter-widgets/base",
      "_view_module_version": "1.2.0",
      "_view_name": "StyleView",
      "description_width": ""
     }
    },
    "58dc309a2e414c08b26a6466be9f6f13": {
     "model_module": "@jupyter-widgets/controls",
     "model_module_version": "1.5.0",
     "model_name": "CheckboxModel",
     "state": {
      "_dom_classes": [],
      "_model_module": "@jupyter-widgets/controls",
      "_model_module_version": "1.5.0",
      "_model_name": "CheckboxModel",
      "_view_count": null,
      "_view_module": "@jupyter-widgets/controls",
      "_view_module_version": "1.5.0",
      "_view_name": "CheckboxView",
      "description": "$X_1$",
      "description_tooltip": null,
      "disabled": false,
      "indent": true,
      "layout": "IPY_MODEL_02b65a4235e54638af5324d521876c1a",
      "style": "IPY_MODEL_3ef1ad3152ab4517b2ea779a8c6d6272",
      "value": true
     }
    },
    "5b543f7d36b14f5783788be724925826": {
     "model_module": "@jupyter-widgets/controls",
     "model_module_version": "1.5.0",
     "model_name": "RadioButtonsModel",
     "state": {
      "_dom_classes": [],
      "_model_module": "@jupyter-widgets/controls",
      "_model_module_version": "1.5.0",
      "_model_name": "RadioButtonsModel",
      "_options_labels": [
       "ReLu",
       "Tanh",
       "Sigmoid",
       "Linear"
      ],
      "_view_count": null,
      "_view_module": "@jupyter-widgets/controls",
      "_view_module_version": "1.5.0",
      "_view_name": "RadioButtonsView",
      "description": "\t",
      "description_tooltip": null,
      "disabled": false,
      "index": 1,
      "layout": "IPY_MODEL_516c7073b90849b88b837ff9bfa0aca4",
      "style": "IPY_MODEL_e9d21be99b8f4d5b99d974f27f8b1d45"
     }
    },
    "60060a2bd7e8490b9547b0b5648840f9": {
     "model_module": "@jupyter-widgets/controls",
     "model_module_version": "1.5.0",
     "model_name": "DescriptionStyleModel",
     "state": {
      "_model_module": "@jupyter-widgets/controls",
      "_model_module_version": "1.5.0",
      "_model_name": "DescriptionStyleModel",
      "_view_count": null,
      "_view_module": "@jupyter-widgets/base",
      "_view_module_version": "1.2.0",
      "_view_name": "StyleView",
      "description_width": ""
     }
    },
    "6e844eef271f4f859a21a0205c10b937": {
     "model_module": "@jupyter-widgets/controls",
     "model_module_version": "1.5.0",
     "model_name": "DescriptionStyleModel",
     "state": {
      "_model_module": "@jupyter-widgets/controls",
      "_model_module_version": "1.5.0",
      "_model_name": "DescriptionStyleModel",
      "_view_count": null,
      "_view_module": "@jupyter-widgets/base",
      "_view_module_version": "1.2.0",
      "_view_name": "StyleView",
      "description_width": ""
     }
    },
    "7508d05268c64dbcab635e18696db67d": {
     "model_module": "@jupyter-widgets/base",
     "model_module_version": "1.2.0",
     "model_name": "LayoutModel",
     "state": {
      "_model_module": "@jupyter-widgets/base",
      "_model_module_version": "1.2.0",
      "_model_name": "LayoutModel",
      "_view_count": null,
      "_view_module": "@jupyter-widgets/base",
      "_view_module_version": "1.2.0",
      "_view_name": "LayoutView",
      "align_content": null,
      "align_items": null,
      "align_self": null,
      "border": null,
      "bottom": null,
      "display": null,
      "flex": null,
      "flex_flow": null,
      "grid_area": null,
      "grid_auto_columns": null,
      "grid_auto_flow": null,
      "grid_auto_rows": null,
      "grid_column": null,
      "grid_gap": null,
      "grid_row": null,
      "grid_template_areas": null,
      "grid_template_columns": null,
      "grid_template_rows": null,
      "height": null,
      "justify_content": null,
      "justify_items": null,
      "left": null,
      "margin": null,
      "max_height": null,
      "max_width": null,
      "min_height": null,
      "min_width": null,
      "object_fit": null,
      "object_position": null,
      "order": null,
      "overflow": null,
      "overflow_x": null,
      "overflow_y": null,
      "padding": null,
      "right": null,
      "top": null,
      "visibility": null,
      "width": null
     }
    },
    "792bb0e6379d45768b5fdc593f903202": {
     "model_module": "@jupyter-widgets/controls",
     "model_module_version": "1.5.0",
     "model_name": "DescriptionStyleModel",
     "state": {
      "_model_module": "@jupyter-widgets/controls",
      "_model_module_version": "1.5.0",
      "_model_name": "DescriptionStyleModel",
      "_view_count": null,
      "_view_module": "@jupyter-widgets/base",
      "_view_module_version": "1.2.0",
      "_view_name": "StyleView",
      "description_width": ""
     }
    },
    "7a17701860d44ecdb4e1005fe190970a": {
     "model_module": "@jupyter-widgets/base",
     "model_module_version": "1.2.0",
     "model_name": "LayoutModel",
     "state": {
      "_model_module": "@jupyter-widgets/base",
      "_model_module_version": "1.2.0",
      "_model_name": "LayoutModel",
      "_view_count": null,
      "_view_module": "@jupyter-widgets/base",
      "_view_module_version": "1.2.0",
      "_view_name": "LayoutView",
      "align_content": null,
      "align_items": null,
      "align_self": null,
      "border": null,
      "bottom": null,
      "display": null,
      "flex": null,
      "flex_flow": null,
      "grid_area": null,
      "grid_auto_columns": null,
      "grid_auto_flow": null,
      "grid_auto_rows": null,
      "grid_column": null,
      "grid_gap": null,
      "grid_row": null,
      "grid_template_areas": null,
      "grid_template_columns": null,
      "grid_template_rows": null,
      "height": null,
      "justify_content": null,
      "justify_items": null,
      "left": null,
      "margin": null,
      "max_height": null,
      "max_width": null,
      "min_height": null,
      "min_width": null,
      "object_fit": null,
      "object_position": null,
      "order": null,
      "overflow": null,
      "overflow_x": null,
      "overflow_y": null,
      "padding": null,
      "right": null,
      "top": null,
      "visibility": null,
      "width": null
     }
    },
    "808b4a430c3148c69e877439f8a69d4a": {
     "model_module": "@jupyter-widgets/controls",
     "model_module_version": "1.5.0",
     "model_name": "DescriptionStyleModel",
     "state": {
      "_model_module": "@jupyter-widgets/controls",
      "_model_module_version": "1.5.0",
      "_model_name": "DescriptionStyleModel",
      "_view_count": null,
      "_view_module": "@jupyter-widgets/base",
      "_view_module_version": "1.2.0",
      "_view_name": "StyleView",
      "description_width": ""
     }
    },
    "8a2514217a0b4f12a915d639320cbd87": {
     "model_module": "@jupyter-widgets/controls",
     "model_module_version": "1.5.0",
     "model_name": "IntTextModel",
     "state": {
      "_dom_classes": [],
      "_model_module": "@jupyter-widgets/controls",
      "_model_module_version": "1.5.0",
      "_model_name": "IntTextModel",
      "_view_count": null,
      "_view_module": "@jupyter-widgets/controls",
      "_view_module_version": "1.5.0",
      "_view_name": "IntTextView",
      "continuous_update": false,
      "description": "hidden layers",
      "description_tooltip": null,
      "disabled": false,
      "layout": "IPY_MODEL_28f100e4cf8c480280dd500ea1847efb",
      "step": 1,
      "style": "IPY_MODEL_60060a2bd7e8490b9547b0b5648840f9",
      "value": 0
     }
    },
    "8bda0be818fb492abb4ce14b4f568b1b": {
     "model_module": "@jupyter-widgets/controls",
     "model_module_version": "1.5.0",
     "model_name": "VBoxModel",
     "state": {
      "_dom_classes": [],
      "_model_module": "@jupyter-widgets/controls",
      "_model_module_version": "1.5.0",
      "_model_name": "VBoxModel",
      "_view_count": null,
      "_view_module": "@jupyter-widgets/controls",
      "_view_module_version": "1.5.0",
      "_view_name": "VBoxView",
      "box_style": "",
      "children": [
       "IPY_MODEL_34f8499e53994ac3ba1967d607cb82aa",
       "IPY_MODEL_02e32fb4cde4478183a1f941e2f0ee30",
       "IPY_MODEL_40b9bac881a74ac1b0079c963d87f7e1",
       "IPY_MODEL_5b543f7d36b14f5783788be724925826",
       "IPY_MODEL_a3688d07a15749af8c8952561a13f562",
       "IPY_MODEL_ea2a6f49c58e49329bf73c2ee6306887",
       "IPY_MODEL_28e6a8fabc754ffdabf782c2b9fc2ce7",
       "IPY_MODEL_f7c3a3ef733146abaf11ddabe77adaba",
       "IPY_MODEL_c7c9d0c226b647f78e42d0167a79a9bd",
       "IPY_MODEL_8a2514217a0b4f12a915d639320cbd87",
       "IPY_MODEL_46986caa41c2446ab353d9dcfe63a2dd",
       "IPY_MODEL_4bb409b95697488589f455666fc29032"
      ],
      "layout": "IPY_MODEL_500541a8b84649678f43eb1069816525"
     }
    },
    "a01f590ffc8b4129973d397105d4e44d": {
     "model_module": "@jupyter-widgets/base",
     "model_module_version": "1.2.0",
     "model_name": "LayoutModel",
     "state": {
      "_model_module": "@jupyter-widgets/base",
      "_model_module_version": "1.2.0",
      "_model_name": "LayoutModel",
      "_view_count": null,
      "_view_module": "@jupyter-widgets/base",
      "_view_module_version": "1.2.0",
      "_view_name": "LayoutView",
      "align_content": null,
      "align_items": null,
      "align_self": null,
      "border": null,
      "bottom": null,
      "display": null,
      "flex": null,
      "flex_flow": null,
      "grid_area": null,
      "grid_auto_columns": null,
      "grid_auto_flow": null,
      "grid_auto_rows": null,
      "grid_column": null,
      "grid_gap": null,
      "grid_row": null,
      "grid_template_areas": null,
      "grid_template_columns": null,
      "grid_template_rows": null,
      "height": null,
      "justify_content": null,
      "justify_items": null,
      "left": null,
      "margin": null,
      "max_height": null,
      "max_width": null,
      "min_height": null,
      "min_width": null,
      "object_fit": null,
      "object_position": null,
      "order": null,
      "overflow": null,
      "overflow_x": null,
      "overflow_y": null,
      "padding": null,
      "right": null,
      "top": null,
      "visibility": null,
      "width": null
     }
    },
    "a3688d07a15749af8c8952561a13f562": {
     "model_module": "@jupyter-widgets/controls",
     "model_module_version": "1.5.0",
     "model_name": "LabelModel",
     "state": {
      "_dom_classes": [],
      "_model_module": "@jupyter-widgets/controls",
      "_model_module_version": "1.5.0",
      "_model_name": "LabelModel",
      "_view_count": null,
      "_view_module": "@jupyter-widgets/controls",
      "_view_module_version": "1.5.0",
      "_view_name": "LabelView",
      "description": "",
      "description_tooltip": null,
      "layout": "IPY_MODEL_26b6b2cc2db64d6b9d3c98fc96e1db4f",
      "placeholder": "​",
      "style": "IPY_MODEL_38855ede684348d4b0151d95b8761e8a",
      "value": "Q3) What is problem type?"
     }
    },
    "a5be6ee60f4a42678e04cabcf387d31e": {
     "model_module": "@jupyter-widgets/controls",
     "model_module_version": "1.5.0",
     "model_name": "CheckboxModel",
     "state": {
      "_dom_classes": [],
      "_model_module": "@jupyter-widgets/controls",
      "_model_module_version": "1.5.0",
      "_model_name": "CheckboxModel",
      "_view_count": null,
      "_view_module": "@jupyter-widgets/controls",
      "_view_module_version": "1.5.0",
      "_view_name": "CheckboxView",
      "description": "$X_2$",
      "description_tooltip": null,
      "disabled": false,
      "indent": true,
      "layout": "IPY_MODEL_1c00c508655741e594df54b4cf3f5a08",
      "style": "IPY_MODEL_ca9ef3b29437448491e9ce7a9a791cda",
      "value": true
     }
    },
    "bb718588ed7045f8959c59f6b2fa2be9": {
     "model_module": "@jupyter-widgets/base",
     "model_module_version": "1.2.0",
     "model_name": "LayoutModel",
     "state": {
      "_model_module": "@jupyter-widgets/base",
      "_model_module_version": "1.2.0",
      "_model_name": "LayoutModel",
      "_view_count": null,
      "_view_module": "@jupyter-widgets/base",
      "_view_module_version": "1.2.0",
      "_view_name": "LayoutView",
      "align_content": null,
      "align_items": null,
      "align_self": null,
      "border": null,
      "bottom": null,
      "display": null,
      "flex": null,
      "flex_flow": null,
      "grid_area": null,
      "grid_auto_columns": null,
      "grid_auto_flow": null,
      "grid_auto_rows": null,
      "grid_column": null,
      "grid_gap": null,
      "grid_row": null,
      "grid_template_areas": null,
      "grid_template_columns": null,
      "grid_template_rows": null,
      "height": null,
      "justify_content": null,
      "justify_items": null,
      "left": null,
      "margin": null,
      "max_height": null,
      "max_width": null,
      "min_height": null,
      "min_width": null,
      "object_fit": null,
      "object_position": null,
      "order": null,
      "overflow": null,
      "overflow_x": null,
      "overflow_y": null,
      "padding": null,
      "right": null,
      "top": null,
      "visibility": null,
      "width": null
     }
    },
    "bfe67c47207a4e26992f7759ef816775": {
     "model_module": "@jupyter-widgets/base",
     "model_module_version": "1.2.0",
     "model_name": "LayoutModel",
     "state": {
      "_model_module": "@jupyter-widgets/base",
      "_model_module_version": "1.2.0",
      "_model_name": "LayoutModel",
      "_view_count": null,
      "_view_module": "@jupyter-widgets/base",
      "_view_module_version": "1.2.0",
      "_view_name": "LayoutView",
      "align_content": null,
      "align_items": null,
      "align_self": null,
      "border": null,
      "bottom": null,
      "display": null,
      "flex": null,
      "flex_flow": null,
      "grid_area": null,
      "grid_auto_columns": null,
      "grid_auto_flow": null,
      "grid_auto_rows": null,
      "grid_column": null,
      "grid_gap": null,
      "grid_row": null,
      "grid_template_areas": null,
      "grid_template_columns": null,
      "grid_template_rows": null,
      "height": null,
      "justify_content": null,
      "justify_items": null,
      "left": null,
      "margin": null,
      "max_height": null,
      "max_width": null,
      "min_height": null,
      "min_width": null,
      "object_fit": null,
      "object_position": null,
      "order": null,
      "overflow": null,
      "overflow_x": null,
      "overflow_y": null,
      "padding": null,
      "right": null,
      "top": null,
      "visibility": null,
      "width": null
     }
    },
    "c6c648bd63084ecab895f24fca2126f6": {
     "model_module": "@jupyter-widgets/controls",
     "model_module_version": "1.5.0",
     "model_name": "CheckboxModel",
     "state": {
      "_dom_classes": [],
      "_model_module": "@jupyter-widgets/controls",
      "_model_module_version": "1.5.0",
      "_model_name": "CheckboxModel",
      "_view_count": null,
      "_view_module": "@jupyter-widgets/controls",
      "_view_module_version": "1.5.0",
      "_view_name": "CheckboxView",
      "description": "sin$(X_1)$",
      "description_tooltip": null,
      "disabled": false,
      "indent": true,
      "layout": "IPY_MODEL_bfe67c47207a4e26992f7759ef816775",
      "style": "IPY_MODEL_c8542dc7afe64a63b9fcd5ecd8b140d0",
      "value": false
     }
    },
    "c7c9d0c226b647f78e42d0167a79a9bd": {
     "model_module": "@jupyter-widgets/controls",
     "model_module_version": "1.5.0",
     "model_name": "LabelModel",
     "state": {
      "_dom_classes": [],
      "_model_module": "@jupyter-widgets/controls",
      "_model_module_version": "1.5.0",
      "_model_name": "LabelModel",
      "_view_count": null,
      "_view_module": "@jupyter-widgets/controls",
      "_view_module_version": "1.5.0",
      "_view_name": "LabelView",
      "description": "",
      "description_tooltip": null,
      "layout": "IPY_MODEL_2a47a8a2aa2a472c932667fb1780da8b",
      "placeholder": "​",
      "style": "IPY_MODEL_ff856a993a5a44c0867e2dffa63f723e",
      "value": "Q5) How many hidden layers do you use?"
     }
    },
    "c8542dc7afe64a63b9fcd5ecd8b140d0": {
     "model_module": "@jupyter-widgets/controls",
     "model_module_version": "1.5.0",
     "model_name": "DescriptionStyleModel",
     "state": {
      "_model_module": "@jupyter-widgets/controls",
      "_model_module_version": "1.5.0",
      "_model_name": "DescriptionStyleModel",
      "_view_count": null,
      "_view_module": "@jupyter-widgets/base",
      "_view_module_version": "1.2.0",
      "_view_name": "StyleView",
      "description_width": ""
     }
    },
    "ca9ef3b29437448491e9ce7a9a791cda": {
     "model_module": "@jupyter-widgets/controls",
     "model_module_version": "1.5.0",
     "model_name": "DescriptionStyleModel",
     "state": {
      "_model_module": "@jupyter-widgets/controls",
      "_model_module_version": "1.5.0",
      "_model_name": "DescriptionStyleModel",
      "_view_count": null,
      "_view_module": "@jupyter-widgets/base",
      "_view_module_version": "1.2.0",
      "_view_name": "StyleView",
      "description_width": ""
     }
    },
    "cba30d9d5da646df8665d77fd1788766": {
     "model_module": "@jupyter-widgets/controls",
     "model_module_version": "1.5.0",
     "model_name": "CheckboxModel",
     "state": {
      "_dom_classes": [],
      "_model_module": "@jupyter-widgets/controls",
      "_model_module_version": "1.5.0",
      "_model_name": "CheckboxModel",
      "_view_count": null,
      "_view_module": "@jupyter-widgets/controls",
      "_view_module_version": "1.5.0",
      "_view_name": "CheckboxView",
      "description": "$X_1^2$",
      "description_tooltip": null,
      "disabled": false,
      "indent": true,
      "layout": "IPY_MODEL_bb718588ed7045f8959c59f6b2fa2be9",
      "style": "IPY_MODEL_23bf74cd891c4fad9478324b96f55c92",
      "value": false
     }
    },
    "d41704256a434c588421b10d107c623b": {
     "model_module": "@jupyter-widgets/base",
     "model_module_version": "1.2.0",
     "model_name": "LayoutModel",
     "state": {
      "_model_module": "@jupyter-widgets/base",
      "_model_module_version": "1.2.0",
      "_model_name": "LayoutModel",
      "_view_count": null,
      "_view_module": "@jupyter-widgets/base",
      "_view_module_version": "1.2.0",
      "_view_name": "LayoutView",
      "align_content": null,
      "align_items": null,
      "align_self": null,
      "border": null,
      "bottom": null,
      "display": null,
      "flex": null,
      "flex_flow": null,
      "grid_area": null,
      "grid_auto_columns": null,
      "grid_auto_flow": null,
      "grid_auto_rows": null,
      "grid_column": null,
      "grid_gap": null,
      "grid_row": null,
      "grid_template_areas": null,
      "grid_template_columns": null,
      "grid_template_rows": null,
      "height": null,
      "justify_content": null,
      "justify_items": null,
      "left": null,
      "margin": null,
      "max_height": null,
      "max_width": null,
      "min_height": null,
      "min_width": null,
      "object_fit": null,
      "object_position": null,
      "order": null,
      "overflow": null,
      "overflow_x": null,
      "overflow_y": null,
      "padding": null,
      "right": null,
      "top": null,
      "visibility": null,
      "width": null
     }
    },
    "d7741332927f409bac79f18603d659c0": {
     "model_module": "@jupyter-widgets/controls",
     "model_module_version": "1.5.0",
     "model_name": "DescriptionStyleModel",
     "state": {
      "_model_module": "@jupyter-widgets/controls",
      "_model_module_version": "1.5.0",
      "_model_name": "DescriptionStyleModel",
      "_view_count": null,
      "_view_module": "@jupyter-widgets/base",
      "_view_module_version": "1.2.0",
      "_view_name": "StyleView",
      "description_width": ""
     }
    },
    "e9d21be99b8f4d5b99d974f27f8b1d45": {
     "model_module": "@jupyter-widgets/controls",
     "model_module_version": "1.5.0",
     "model_name": "DescriptionStyleModel",
     "state": {
      "_model_module": "@jupyter-widgets/controls",
      "_model_module_version": "1.5.0",
      "_model_name": "DescriptionStyleModel",
      "_view_count": null,
      "_view_module": "@jupyter-widgets/base",
      "_view_module_version": "1.2.0",
      "_view_name": "StyleView",
      "description_width": ""
     }
    },
    "ea2a6f49c58e49329bf73c2ee6306887": {
     "model_module": "@jupyter-widgets/controls",
     "model_module_version": "1.5.0",
     "model_name": "RadioButtonsModel",
     "state": {
      "_dom_classes": [],
      "_model_module": "@jupyter-widgets/controls",
      "_model_module_version": "1.5.0",
      "_model_name": "RadioButtonsModel",
      "_options_labels": [
       "Classification",
       "Regression"
      ],
      "_view_count": null,
      "_view_module": "@jupyter-widgets/controls",
      "_view_module_version": "1.5.0",
      "_view_name": "RadioButtonsView",
      "description": "\t",
      "description_tooltip": null,
      "disabled": false,
      "index": 0,
      "layout": "IPY_MODEL_a01f590ffc8b4129973d397105d4e44d",
      "style": "IPY_MODEL_2875f80bac784e0496ec7b56228fb96b"
     }
    },
    "ec459a9d5761425da3538cd4039a0c63": {
     "model_module": "@jupyter-widgets/base",
     "model_module_version": "1.2.0",
     "model_name": "LayoutModel",
     "state": {
      "_model_module": "@jupyter-widgets/base",
      "_model_module_version": "1.2.0",
      "_model_name": "LayoutModel",
      "_view_count": null,
      "_view_module": "@jupyter-widgets/base",
      "_view_module_version": "1.2.0",
      "_view_name": "LayoutView",
      "align_content": null,
      "align_items": null,
      "align_self": null,
      "border": null,
      "bottom": null,
      "display": null,
      "flex": null,
      "flex_flow": null,
      "grid_area": null,
      "grid_auto_columns": null,
      "grid_auto_flow": null,
      "grid_auto_rows": null,
      "grid_column": null,
      "grid_gap": null,
      "grid_row": null,
      "grid_template_areas": null,
      "grid_template_columns": null,
      "grid_template_rows": null,
      "height": null,
      "justify_content": null,
      "justify_items": null,
      "left": null,
      "margin": null,
      "max_height": null,
      "max_width": null,
      "min_height": null,
      "min_width": null,
      "object_fit": null,
      "object_position": null,
      "order": null,
      "overflow": null,
      "overflow_x": null,
      "overflow_y": null,
      "padding": null,
      "right": null,
      "top": null,
      "visibility": null,
      "width": null
     }
    },
    "f120b2b443e047909b06d357b15ddad3": {
     "model_module": "@jupyter-widgets/controls",
     "model_module_version": "1.5.0",
     "model_name": "DescriptionStyleModel",
     "state": {
      "_model_module": "@jupyter-widgets/controls",
      "_model_module_version": "1.5.0",
      "_model_name": "DescriptionStyleModel",
      "_view_count": null,
      "_view_module": "@jupyter-widgets/base",
      "_view_module_version": "1.2.0",
      "_view_name": "StyleView",
      "description_width": ""
     }
    },
    "f7c3a3ef733146abaf11ddabe77adaba": {
     "model_module": "@jupyter-widgets/controls",
     "model_module_version": "1.5.0",
     "model_name": "VBoxModel",
     "state": {
      "_dom_classes": [],
      "_model_module": "@jupyter-widgets/controls",
      "_model_module_version": "1.5.0",
      "_model_name": "VBoxModel",
      "_view_count": null,
      "_view_module": "@jupyter-widgets/controls",
      "_view_module_version": "1.5.0",
      "_view_name": "VBoxView",
      "box_style": "",
      "children": [
       "IPY_MODEL_58dc309a2e414c08b26a6466be9f6f13",
       "IPY_MODEL_a5be6ee60f4a42678e04cabcf387d31e",
       "IPY_MODEL_cba30d9d5da646df8665d77fd1788766",
       "IPY_MODEL_1082d0a2ba87468ea5fe699b8f30c3a3",
       "IPY_MODEL_234f550730204545ab25f022a8885507",
       "IPY_MODEL_c6c648bd63084ecab895f24fca2126f6",
       "IPY_MODEL_4de55b4131ed42999b415777c2679ad3"
      ],
      "layout": "IPY_MODEL_02bf281e550342d9b1abc79164664b89"
     }
    },
    "ff856a993a5a44c0867e2dffa63f723e": {
     "model_module": "@jupyter-widgets/controls",
     "model_module_version": "1.5.0",
     "model_name": "DescriptionStyleModel",
     "state": {
      "_model_module": "@jupyter-widgets/controls",
      "_model_module_version": "1.5.0",
      "_model_name": "DescriptionStyleModel",
      "_view_count": null,
      "_view_module": "@jupyter-widgets/base",
      "_view_module_version": "1.2.0",
      "_view_name": "StyleView",
      "description_width": ""
     }
    }
   }
  }
 },
 "nbformat": 4,
 "nbformat_minor": 4
}
