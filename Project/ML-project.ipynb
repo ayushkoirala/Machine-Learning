{
 "cells": [
  {
   "cell_type": "code",
   "execution_count": null,
   "metadata": {},
   "outputs": [],
   "source": [
    "import os \n",
    "import re \n",
    "from scipy import ndimage, misc \n",
    "from tqdm import tqdm\n",
    "from tensorflow.keras.preprocessing.image import img_to_array\n",
    "\n",
    "\n",
    "from skimage.transform import resize, rescale\n",
    "import matplotlib.pyplot as plt\n",
    "import numpy as np\n",
    "np. random. seed(0)\n",
    "import cv2 as cv2\n",
    "\n",
    "import tensorflow as tf\n",
    "from tensorflow.keras.layers import Input, Dense ,Conv2D,MaxPooling2D ,Dropout\n",
    "from tensorflow.keras.layers import Conv2DTranspose, UpSampling2D, add\n",
    "from tensorflow.keras.models import Model\n",
    "from tensorflow.keras import regularizers\n",
    "from tensorflow.keras.utils import plot_model\n",
    "import tensorflow as tf\n",
    "\n",
    "print(tf.__version__)"
   ]
  },
  {
   "cell_type": "code",
   "execution_count": null,
   "metadata": {},
   "outputs": [],
   "source": [
    "coarse= np.load('coarse.npy')*86400\n",
    "obs= np.load('observed.npy')"
   ]
  },
  {
   "cell_type": "code",
   "execution_count": null,
   "metadata": {},
   "outputs": [],
   "source": [
    "obsflip= np.flip(obs,1)\n",
    "coarseflip= np.flip(coarse,1)"
   ]
  },
  {
   "cell_type": "code",
   "execution_count": null,
   "metadata": {},
   "outputs": [],
   "source": [
    "for i in range(4):\n",
    "    a = np.random.randint(0,855)\n",
    "    plt.figure(figsize=(10,10))\n",
    "    plt.subplot(1,2,1)\n",
    "    plt.title('High Resolution Imge', color = 'green', fontsize = 20)\n",
    "    plt.imshow(obsflip[a])\n",
    "    plt.axis('off')\n",
    "    plt.subplot(1,2,2)\n",
    "    plt.title('low Resolution Image ', color = 'black', fontsize = 20)\n",
    "    plt.imshow(coarse[a])\n",
    "    plt.axis('off')"
   ]
  },
  {
   "cell_type": "code",
   "execution_count": null,
   "metadata": {},
   "outputs": [],
   "source": [
    "high_img= obsflip\n",
    "low_img= coarse"
   ]
  },
  {
   "cell_type": "code",
   "execution_count": null,
   "metadata": {},
   "outputs": [],
   "source": [
    "high_img.shape"
   ]
  },
  {
   "cell_type": "code",
   "execution_count": null,
   "metadata": {},
   "outputs": [],
   "source": [
    "import random\n",
    "import cv2\n",
    "\n",
    "m=high_img.shape[0]\n",
    "idx= np.arange(0, m)\n",
    "random.shuffle(idx)\n",
    "\n",
    "train_idx= idx[0: int(m*0.7)]\n",
    "valid_idx= idx[len(train_idx): int(m*0.9)]\n",
    "test_idx= idx[len(train_idx)+len(valid_idx):]\n",
    "\n",
    "print(len(train_idx), len(valid_idx), len(test_idx))\n",
    "high_img=obsflip[:,:,:] #reshape(80, 80, 10950)\n",
    "low_img=coarse[:,:,:]#.reshape(11,11, 10950)\n",
    "\n",
    "# high_img=np.swapaxes(high_img, 0,2)\n",
    "# #high_img= np.swapaxes(high_img, 0,1)\n",
    "# high_img.shape\n",
    "\n",
    "# low_img=np.swapaxes(low_img, 0,2)\n",
    "#low_img= np.swapaxes(low_img, 0,1)\n",
    "# low_img= cv2.resize(low_img, (10950,80, 120))\n",
    "# low_img.shape"
   ]
  },
  {
   "cell_type": "code",
   "execution_count": null,
   "metadata": {},
   "outputs": [],
   "source": [
    "import cv2\n",
    "\n",
    "size = 120\n",
    "height = 80\n",
    "low_img_stack= np.zeros((len(low_img),  height, size))\n",
    "\n",
    "for idx in range(len(low_img)):\n",
    "    img = low_img[idx, :, :]\n",
    "    img_sm = cv2.resize(img, (size, height), interpolation=cv2.INTER_CUBIC)\n",
    "    low_img_stack[idx, :, :] = img_sm\n",
    "low_img_stack.shape"
   ]
  },
  {
   "cell_type": "code",
   "execution_count": null,
   "metadata": {},
   "outputs": [],
   "source": [
    "npad= ((0,0),(40,8),(8,0))\n",
    "high_img1=np.pad(high_img, pad_width=npad, mode='constant', constant_values=np.nan)\n",
    "low_img1=np.pad(low_img_stack, pad_width=npad, mode='constant', constant_values=np.nan)\n",
    "#.shape\n",
    "print(low_img1.shape, high_img1.shape)"
   ]
  },
  {
   "cell_type": "code",
   "execution_count": null,
   "metadata": {},
   "outputs": [],
   "source": [
    "high_img1.shape"
   ]
  },
  {
   "cell_type": "code",
   "execution_count": null,
   "metadata": {},
   "outputs": [],
   "source": [
    "for i in range(4):\n",
    "    a= np.random.randint(0,1000)\n",
    "    plt.figure(figsize=(10,10))\n",
    "    plt.subplot(1,2,1)\n",
    "    plt.title('High Resolution Imge', color = 'green', fontsize = 20)\n",
    "    plt.imshow(high_img1[a])\n",
    "    plt.axis('off')\n",
    "    plt.subplot(1,2,2)\n",
    "    plt.title('low Resolution Image ', color = 'black', fontsize = 20)\n",
    "    plt.imshow(low_img1[a])\n",
    "    plt.axis('off')"
   ]
  },
  {
   "cell_type": "code",
   "execution_count": null,
   "metadata": {},
   "outputs": [],
   "source": [
    "import os\n",
    "\n",
    "os.mkdir('lowimg')\n",
    "os.mkdir('highimg')\n"
   ]
  },
  {
   "cell_type": "code",
   "execution_count": null,
   "metadata": {},
   "outputs": [],
   "source": [
    "high_img2= high_img1.reshape(10950,128,128,1)\n",
    "low_img2= low_img1.reshape(10950, 128, 128,1)"
   ]
  },
  {
   "cell_type": "code",
   "execution_count": null,
   "metadata": {},
   "outputs": [],
   "source": [
    "high_img1[np.isnan(high_img1)]=-10\n",
    "low_img1[np.isnan(low_img1)]=-10"
   ]
  },
  {
   "cell_type": "code",
   "execution_count": null,
   "metadata": {},
   "outputs": [],
   "source": [
    "# from sklearn.preprocessing import MinMaxScaler\n",
    "# scaler= MinMaxScaler(feature_range=(0,1))\n",
    "high_img2= (high_img1- np.min(high_img1) )/(np.max(high_img1)- np.min(high_img1))\n",
    "low_img2= (low_img1- np.min(low_img1) )/(np.max(low_img1)- np.min(low_img1))"
   ]
  },
  {
   "cell_type": "code",
   "execution_count": null,
   "metadata": {},
   "outputs": [],
   "source": [
    "for i in range(4):\n",
    "    a= np.random.randint(0,1000)\n",
    "    plt.figure(figsize=(10,10))\n",
    "    plt.subplot(1,2,1)\n",
    "    plt.title('High Resolution Imge', color = 'green', fontsize = 20)\n",
    "    plt.imshow(high_img2[a])\n",
    "    plt.axis('off')\n",
    "    plt.subplot(1,2,2)\n",
    "    plt.title('low Resolution Image ', color = 'black', fontsize = 20)\n",
    "    plt.imshow(low_img2[a])\n",
    "    plt.axis('off')"
   ]
  },
  {
   "cell_type": "code",
   "execution_count": null,
   "metadata": {},
   "outputs": [],
   "source": [
    "# import matplotlib.image\n",
    "# for i in range(high_img.shape[2]):\n",
    "    \n",
    "\n",
    "#     matplotlib.image.imsave('highimg/{0}.png'.format(i), high_img[:,:,i])\n",
    "#     matplotlib.image.imsave('lowimg/{0}.png'.format(i), low_img[:,:,i])\n",
    "\n"
   ]
  },
  {
   "cell_type": "code",
   "execution_count": null,
   "metadata": {},
   "outputs": [],
   "source": [
    "import random\n",
    "\n",
    "m=high_img1.shape[0]\n",
    "idx= np.arange(0, m)\n",
    "random.shuffle(idx)\n",
    "\n",
    "train_idx= idx[0: int(m*0.7)]\n",
    "valid_idx= idx[len(train_idx): int(m*0.9)]\n",
    "test_idx= idx[len(train_idx)+len(valid_idx):]\n",
    "\n",
    "print(len(train_idx), len(valid_idx), len(test_idx))"
   ]
  },
  {
   "cell_type": "code",
   "execution_count": null,
   "metadata": {},
   "outputs": [],
   "source": [
    "train_high_image = high_img1[train_idx]\n",
    "train_low_image = low_img1[train_idx]\n",
    "# train_high_image = np.reshape(train_high_image,(len(train_high_image),SIZE,SIZE,))\n",
    "# train_low_image = np.reshape(train_low_image,(len(train_low_image),SIZE,SIZE,3))\n",
    "\n",
    "validation_high_image = high_img1[valid_idx]\n",
    "validation_low_image = low_img1[valid_idx]\n",
    "# validation_high_image= np.reshape(validation_high_image,(len(validation_high_image),SIZE,SIZE,3))\n",
    "# validation_low_image = np.reshape(validation_low_image,(len(validation_low_image),SIZE,SIZE,3))\n",
    "\n",
    "\n",
    "test_high_image = high_img1[test_idx]\n",
    "test_low_image = low_img1[test_idx]\n",
    "# test_high_image= np.reshape(test_high_image,(len(test_high_image),SIZE,SIZE,3))\n",
    "# test_low_image = np.reshape(test_low_image,(len(test_low_image),SIZE,SIZE,3))\n",
    "\n",
    "print(\"Shape of training images:\",train_high_image.shape)\n",
    "print(\"Shape of test images:\",test_low_image.shape)\n",
    "print(\"Shape of validation images:\",validation_high_image.shape)"
   ]
  },
  {
   "cell_type": "code",
   "execution_count": null,
   "metadata": {},
   "outputs": [],
   "source": [
    "from tensorflow.keras import layers\n",
    "from tensorflow.keras.utils import plot_model\n",
    "\n",
    "\n",
    "#SRCNN=tf.keras.models.Sequential([tf.keras.layers.Conv2D(64,9,padding='same',activation='relu'),\n",
    " #      tf.keras.layers.Conv2D(64,1,padding='same',activation='relu'),\n",
    " #      tf.keras.layers.Conv2D(3,5,padding='same',activation='relu')])\n",
    "\n",
    "input_img=Input(shape=(128,128,1))\n",
    "l1=tf.keras.layers.Conv2D(64,9,padding='same',activation='relu') (input_img)\n",
    "l2=tf.keras.layers.Conv2D(32,1,padding='same',activation='relu') (l1)\n",
    "l3=tf.keras.layers.Conv2D(1,5,padding='same',activation='relu') (l2)\n",
    "\n",
    "\n",
    "SRCNN=Model(input_img,l3)\n",
    "\n",
    "\n",
    "def pixel_mse_loss(x,y):\n",
    "    return tf.reduce_mean( (x - y) ** 2 )\n",
    "SRCNN.compile(optimizer=tf.keras.optimizers.Adam(0.001),loss=pixel_mse_loss)\n",
    "SRCNN.summary()\n",
    "plot_model(SRCNN, to_file ='super_res.png',show_shapes=True)"
   ]
  },
  {
   "cell_type": "code",
   "execution_count": null,
   "metadata": {},
   "outputs": [],
   "source": [
    "history = SRCNN.fit(train_low_image, train_high_image, epochs = 20, batch_size = 16,\n",
    "          validation_data = (validation_low_image,validation_high_image))"
   ]
  },
  {
   "cell_type": "code",
   "execution_count": null,
   "metadata": {},
   "outputs": [],
   "source": []
  }
 ],
 "metadata": {
  "kernelspec": {
   "display_name": "Python 3",
   "language": "python",
   "name": "python3"
  },
  "language_info": {
   "codemirror_mode": {
    "name": "ipython",
    "version": 3
   },
   "file_extension": ".py",
   "mimetype": "text/x-python",
   "name": "python",
   "nbconvert_exporter": "python",
   "pygments_lexer": "ipython3",
   "version": "3.8.3"
  }
 },
 "nbformat": 4,
 "nbformat_minor": 4
}
